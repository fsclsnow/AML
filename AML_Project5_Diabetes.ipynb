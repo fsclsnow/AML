{
  "nbformat": 4,
  "nbformat_minor": 0,
  "metadata": {
    "colab": {
      "name": "AML_Project5_Diabetes.ipynb",
      "provenance": [],
      "collapsed_sections": [],
      "authorship_tag": "ABX9TyPNtETnGchwr8yI+S/4MZB5",
      "include_colab_link": true
    },
    "kernelspec": {
      "name": "python3",
      "display_name": "Python 3"
    }
  },
  "cells": [
    {
      "cell_type": "markdown",
      "metadata": {
        "id": "view-in-github",
        "colab_type": "text"
      },
      "source": [
        "<a href=\"https://colab.research.google.com/github/fsclsnow/AML/blob/master/AML_Project5_Diabetes.ipynb\" target=\"_parent\"><img src=\"https://colab.research.google.com/assets/colab-badge.svg\" alt=\"Open In Colab\"/></a>"
      ]
    },
    {
      "cell_type": "markdown",
      "metadata": {
        "id": "SfKTaIoPotjZ",
        "colab_type": "text"
      },
      "source": [
        "# Project 5 - Team 2\n",
        "*   Joe\n",
        "*   Abby\n",
        "*   Getong\n",
        "\n",
        "In this project, we work on the data set that has been prepared to analyze factors relating to readmission as well as other outcomes pertaining to patients with diabetes.\n",
        "\n",
        "Data Set Information:\n",
        "\n",
        "The dataset represents 10 years (1999-2008) of clinical care at 130 US hospitals and integrated delivery networks. It includes over 50 features representing patient and hospital outcomes. Information was extracted from the database for encounters that satisfied the following criteria.\n",
        "\n",
        "1.   It is an inpatient encounter (a hospital admission).\n",
        "2.   It is a diabetic encounter, that is, one during which any kind of diabetes was entered to the system as a diagnosis.\n",
        "3.   The length of stay was at least 1 day and at most 14 days.\n",
        "4.   Laboratory tests were performed during the encounter.\n",
        "5.   Medications were administered during the encounter.\n",
        "6.   The data contains such attributes as patient number, race, gender, age, admission type, time in hospital, medical specialty of admitting physician, number of lab test performed, HbA1c test result, diagnosis, number of medication, diabetic medications, number of outpatient, inpatient, and emergency visits in the year before the hospitalization, etc.\n",
        "\n",
        "The following instructions have been performed:\n",
        "1.  Perform data scrubbing to deal with missing data, and then scale the data. \n",
        "2.  Find out which features have most influence on patients with diabetes or being readmitted, e.g., age, race, weight, blood pressure, etc.\n",
        "3.  Use RF and SVM (linear as well as nonlinear kernels , as necessary) to learn classification of diabetic patients and those being readmitted.\n",
        "4.  If using a LinearSVC, also use SVC and SGDClassifier to see if you can get them to roughly produce the same model.\n",
        "5.  Calculate and present performance parameters (e.g. accuracy, etc.) of each model using appropriate graphs such as bar charts."
      ]
    },
    {
      "cell_type": "code",
      "metadata": {
        "id": "tyQZ0Wv_olsU",
        "colab_type": "code",
        "colab": {}
      },
      "source": [
        "# Python ≥3.5 is required\n",
        "import sys\n",
        "assert sys.version_info >= (3, 5)\n",
        "# Scikit-Learn ≥0.20 is required\n",
        "import sklearn\n",
        "assert sklearn.__version__ >= \"0.20\"\n",
        "\n",
        "# Common imports\n",
        "import numpy as np\n",
        "import os\n",
        "\n",
        "# to make this notebook's output stable across runs\n",
        "np.random.seed(42)\n",
        "\n",
        "# To plot pretty figures\n",
        "%matplotlib inline\n",
        "import matplotlib as mpl\n",
        "import matplotlib.pyplot as plt\n",
        "mpl.rc('axes', labelsize=14)\n",
        "mpl.rc('xtick', labelsize=12)\n",
        "mpl.rc('ytick', labelsize=12)\n",
        "\n",
        "def save_fig(fig_id, tight_layout=True, fig_extension=\"png\", resolution=300):\n",
        "    path = os.path.join(IMAGES_PATH, fig_id + \".\" + fig_extension)\n",
        "    print(\"Saving figure\", fig_id)\n",
        "    if tight_layout:\n",
        "        plt.tight_layout()\n",
        "    plt.savefig(path, format=fig_extension, dpi=resolution)\n",
        "\n",
        "# Ignore useless warnings (see SciPy issue #5998)\n",
        "import warnings\n",
        "warnings.filterwarnings(action=\"ignore\", message=\"^internal gelsd\")"
      ],
      "execution_count": 0,
      "outputs": []
    },
    {
      "cell_type": "code",
      "metadata": {
        "id": "0aQQT9I1tPPb",
        "colab_type": "code",
        "colab": {}
      },
      "source": [
        "# Download the data\n",
        "import urllib\n",
        "import os\n",
        "\n",
        "DOWNLOAD_ROOT = \"https://raw.githubusercontent.com/fsclsnow/AML/master/\"\n",
        "Diabetic_PATH = os.path.join(\"Data\")\n",
        "Diabetic_URL = DOWNLOAD_ROOT + \"Data/diabetic_data.csv\""
      ],
      "execution_count": 0,
      "outputs": []
    },
    {
      "cell_type": "code",
      "metadata": {
        "id": "ZALy0ISLt0pu",
        "colab_type": "code",
        "colab": {}
      },
      "source": [
        "import pandas as pd\n",
        "\n",
        "def load_dia_data(dia_path=Diabetic_PATH):\n",
        "    csv_path = os.path.join(DOWNLOAD_ROOT, dia_path, \"diabetic_data.csv\")\n",
        "    return pd.read_csv(csv_path)"
      ],
      "execution_count": 0,
      "outputs": []
    },
    {
      "cell_type": "code",
      "metadata": {
        "id": "TZbgj6UeuF8b",
        "colab_type": "code",
        "outputId": "ac102d07-4852-406c-cf8a-03faec5188b4",
        "colab": {
          "base_uri": "https://localhost:8080/",
          "height": 315
        }
      },
      "source": [
        "diabetic = load_dia_data()\n",
        "diabetic.head()"
      ],
      "execution_count": 510,
      "outputs": [
        {
          "output_type": "execute_result",
          "data": {
            "text/html": [
              "<div>\n",
              "<style scoped>\n",
              "    .dataframe tbody tr th:only-of-type {\n",
              "        vertical-align: middle;\n",
              "    }\n",
              "\n",
              "    .dataframe tbody tr th {\n",
              "        vertical-align: top;\n",
              "    }\n",
              "\n",
              "    .dataframe thead th {\n",
              "        text-align: right;\n",
              "    }\n",
              "</style>\n",
              "<table border=\"1\" class=\"dataframe\">\n",
              "  <thead>\n",
              "    <tr style=\"text-align: right;\">\n",
              "      <th></th>\n",
              "      <th>encounter_id</th>\n",
              "      <th>patient_nbr</th>\n",
              "      <th>race</th>\n",
              "      <th>gender</th>\n",
              "      <th>age</th>\n",
              "      <th>weight</th>\n",
              "      <th>admission_type_id</th>\n",
              "      <th>discharge_disposition_id</th>\n",
              "      <th>admission_source_id</th>\n",
              "      <th>time_in_hospital</th>\n",
              "      <th>payer_code</th>\n",
              "      <th>medical_specialty</th>\n",
              "      <th>num_lab_procedures</th>\n",
              "      <th>num_procedures</th>\n",
              "      <th>num_medications</th>\n",
              "      <th>number_outpatient</th>\n",
              "      <th>number_emergency</th>\n",
              "      <th>number_inpatient</th>\n",
              "      <th>diag_1</th>\n",
              "      <th>diag_2</th>\n",
              "      <th>diag_3</th>\n",
              "      <th>number_diagnoses</th>\n",
              "      <th>max_glu_serum</th>\n",
              "      <th>A1Cresult</th>\n",
              "      <th>metformin</th>\n",
              "      <th>repaglinide</th>\n",
              "      <th>nateglinide</th>\n",
              "      <th>chlorpropamide</th>\n",
              "      <th>glimepiride</th>\n",
              "      <th>acetohexamide</th>\n",
              "      <th>glipizide</th>\n",
              "      <th>glyburide</th>\n",
              "      <th>tolbutamide</th>\n",
              "      <th>pioglitazone</th>\n",
              "      <th>rosiglitazone</th>\n",
              "      <th>acarbose</th>\n",
              "      <th>miglitol</th>\n",
              "      <th>troglitazone</th>\n",
              "      <th>tolazamide</th>\n",
              "      <th>examide</th>\n",
              "      <th>citoglipton</th>\n",
              "      <th>insulin</th>\n",
              "      <th>glyburide-metformin</th>\n",
              "      <th>glipizide-metformin</th>\n",
              "      <th>glimepiride-pioglitazone</th>\n",
              "      <th>metformin-rosiglitazone</th>\n",
              "      <th>metformin-pioglitazone</th>\n",
              "      <th>change</th>\n",
              "      <th>diabetesMed</th>\n",
              "      <th>readmitted</th>\n",
              "    </tr>\n",
              "  </thead>\n",
              "  <tbody>\n",
              "    <tr>\n",
              "      <th>0</th>\n",
              "      <td>2278392</td>\n",
              "      <td>8222157</td>\n",
              "      <td>Caucasian</td>\n",
              "      <td>Female</td>\n",
              "      <td>[0-10)</td>\n",
              "      <td>?</td>\n",
              "      <td>6</td>\n",
              "      <td>25</td>\n",
              "      <td>1</td>\n",
              "      <td>1</td>\n",
              "      <td>?</td>\n",
              "      <td>Pediatrics-Endocrinology</td>\n",
              "      <td>41</td>\n",
              "      <td>0</td>\n",
              "      <td>1</td>\n",
              "      <td>0</td>\n",
              "      <td>0</td>\n",
              "      <td>0</td>\n",
              "      <td>250.83</td>\n",
              "      <td>?</td>\n",
              "      <td>?</td>\n",
              "      <td>1</td>\n",
              "      <td>None</td>\n",
              "      <td>None</td>\n",
              "      <td>No</td>\n",
              "      <td>No</td>\n",
              "      <td>No</td>\n",
              "      <td>No</td>\n",
              "      <td>No</td>\n",
              "      <td>No</td>\n",
              "      <td>No</td>\n",
              "      <td>No</td>\n",
              "      <td>No</td>\n",
              "      <td>No</td>\n",
              "      <td>No</td>\n",
              "      <td>No</td>\n",
              "      <td>No</td>\n",
              "      <td>No</td>\n",
              "      <td>No</td>\n",
              "      <td>No</td>\n",
              "      <td>No</td>\n",
              "      <td>No</td>\n",
              "      <td>No</td>\n",
              "      <td>No</td>\n",
              "      <td>No</td>\n",
              "      <td>No</td>\n",
              "      <td>No</td>\n",
              "      <td>No</td>\n",
              "      <td>No</td>\n",
              "      <td>NO</td>\n",
              "    </tr>\n",
              "    <tr>\n",
              "      <th>1</th>\n",
              "      <td>149190</td>\n",
              "      <td>55629189</td>\n",
              "      <td>Caucasian</td>\n",
              "      <td>Female</td>\n",
              "      <td>[10-20)</td>\n",
              "      <td>?</td>\n",
              "      <td>1</td>\n",
              "      <td>1</td>\n",
              "      <td>7</td>\n",
              "      <td>3</td>\n",
              "      <td>?</td>\n",
              "      <td>?</td>\n",
              "      <td>59</td>\n",
              "      <td>0</td>\n",
              "      <td>18</td>\n",
              "      <td>0</td>\n",
              "      <td>0</td>\n",
              "      <td>0</td>\n",
              "      <td>276</td>\n",
              "      <td>250.01</td>\n",
              "      <td>255</td>\n",
              "      <td>9</td>\n",
              "      <td>None</td>\n",
              "      <td>None</td>\n",
              "      <td>No</td>\n",
              "      <td>No</td>\n",
              "      <td>No</td>\n",
              "      <td>No</td>\n",
              "      <td>No</td>\n",
              "      <td>No</td>\n",
              "      <td>No</td>\n",
              "      <td>No</td>\n",
              "      <td>No</td>\n",
              "      <td>No</td>\n",
              "      <td>No</td>\n",
              "      <td>No</td>\n",
              "      <td>No</td>\n",
              "      <td>No</td>\n",
              "      <td>No</td>\n",
              "      <td>No</td>\n",
              "      <td>No</td>\n",
              "      <td>Up</td>\n",
              "      <td>No</td>\n",
              "      <td>No</td>\n",
              "      <td>No</td>\n",
              "      <td>No</td>\n",
              "      <td>No</td>\n",
              "      <td>Ch</td>\n",
              "      <td>Yes</td>\n",
              "      <td>&gt;30</td>\n",
              "    </tr>\n",
              "    <tr>\n",
              "      <th>2</th>\n",
              "      <td>64410</td>\n",
              "      <td>86047875</td>\n",
              "      <td>AfricanAmerican</td>\n",
              "      <td>Female</td>\n",
              "      <td>[20-30)</td>\n",
              "      <td>?</td>\n",
              "      <td>1</td>\n",
              "      <td>1</td>\n",
              "      <td>7</td>\n",
              "      <td>2</td>\n",
              "      <td>?</td>\n",
              "      <td>?</td>\n",
              "      <td>11</td>\n",
              "      <td>5</td>\n",
              "      <td>13</td>\n",
              "      <td>2</td>\n",
              "      <td>0</td>\n",
              "      <td>1</td>\n",
              "      <td>648</td>\n",
              "      <td>250</td>\n",
              "      <td>V27</td>\n",
              "      <td>6</td>\n",
              "      <td>None</td>\n",
              "      <td>None</td>\n",
              "      <td>No</td>\n",
              "      <td>No</td>\n",
              "      <td>No</td>\n",
              "      <td>No</td>\n",
              "      <td>No</td>\n",
              "      <td>No</td>\n",
              "      <td>Steady</td>\n",
              "      <td>No</td>\n",
              "      <td>No</td>\n",
              "      <td>No</td>\n",
              "      <td>No</td>\n",
              "      <td>No</td>\n",
              "      <td>No</td>\n",
              "      <td>No</td>\n",
              "      <td>No</td>\n",
              "      <td>No</td>\n",
              "      <td>No</td>\n",
              "      <td>No</td>\n",
              "      <td>No</td>\n",
              "      <td>No</td>\n",
              "      <td>No</td>\n",
              "      <td>No</td>\n",
              "      <td>No</td>\n",
              "      <td>No</td>\n",
              "      <td>Yes</td>\n",
              "      <td>NO</td>\n",
              "    </tr>\n",
              "    <tr>\n",
              "      <th>3</th>\n",
              "      <td>500364</td>\n",
              "      <td>82442376</td>\n",
              "      <td>Caucasian</td>\n",
              "      <td>Male</td>\n",
              "      <td>[30-40)</td>\n",
              "      <td>?</td>\n",
              "      <td>1</td>\n",
              "      <td>1</td>\n",
              "      <td>7</td>\n",
              "      <td>2</td>\n",
              "      <td>?</td>\n",
              "      <td>?</td>\n",
              "      <td>44</td>\n",
              "      <td>1</td>\n",
              "      <td>16</td>\n",
              "      <td>0</td>\n",
              "      <td>0</td>\n",
              "      <td>0</td>\n",
              "      <td>8</td>\n",
              "      <td>250.43</td>\n",
              "      <td>403</td>\n",
              "      <td>7</td>\n",
              "      <td>None</td>\n",
              "      <td>None</td>\n",
              "      <td>No</td>\n",
              "      <td>No</td>\n",
              "      <td>No</td>\n",
              "      <td>No</td>\n",
              "      <td>No</td>\n",
              "      <td>No</td>\n",
              "      <td>No</td>\n",
              "      <td>No</td>\n",
              "      <td>No</td>\n",
              "      <td>No</td>\n",
              "      <td>No</td>\n",
              "      <td>No</td>\n",
              "      <td>No</td>\n",
              "      <td>No</td>\n",
              "      <td>No</td>\n",
              "      <td>No</td>\n",
              "      <td>No</td>\n",
              "      <td>Up</td>\n",
              "      <td>No</td>\n",
              "      <td>No</td>\n",
              "      <td>No</td>\n",
              "      <td>No</td>\n",
              "      <td>No</td>\n",
              "      <td>Ch</td>\n",
              "      <td>Yes</td>\n",
              "      <td>NO</td>\n",
              "    </tr>\n",
              "    <tr>\n",
              "      <th>4</th>\n",
              "      <td>16680</td>\n",
              "      <td>42519267</td>\n",
              "      <td>Caucasian</td>\n",
              "      <td>Male</td>\n",
              "      <td>[40-50)</td>\n",
              "      <td>?</td>\n",
              "      <td>1</td>\n",
              "      <td>1</td>\n",
              "      <td>7</td>\n",
              "      <td>1</td>\n",
              "      <td>?</td>\n",
              "      <td>?</td>\n",
              "      <td>51</td>\n",
              "      <td>0</td>\n",
              "      <td>8</td>\n",
              "      <td>0</td>\n",
              "      <td>0</td>\n",
              "      <td>0</td>\n",
              "      <td>197</td>\n",
              "      <td>157</td>\n",
              "      <td>250</td>\n",
              "      <td>5</td>\n",
              "      <td>None</td>\n",
              "      <td>None</td>\n",
              "      <td>No</td>\n",
              "      <td>No</td>\n",
              "      <td>No</td>\n",
              "      <td>No</td>\n",
              "      <td>No</td>\n",
              "      <td>No</td>\n",
              "      <td>Steady</td>\n",
              "      <td>No</td>\n",
              "      <td>No</td>\n",
              "      <td>No</td>\n",
              "      <td>No</td>\n",
              "      <td>No</td>\n",
              "      <td>No</td>\n",
              "      <td>No</td>\n",
              "      <td>No</td>\n",
              "      <td>No</td>\n",
              "      <td>No</td>\n",
              "      <td>Steady</td>\n",
              "      <td>No</td>\n",
              "      <td>No</td>\n",
              "      <td>No</td>\n",
              "      <td>No</td>\n",
              "      <td>No</td>\n",
              "      <td>Ch</td>\n",
              "      <td>Yes</td>\n",
              "      <td>NO</td>\n",
              "    </tr>\n",
              "  </tbody>\n",
              "</table>\n",
              "</div>"
            ],
            "text/plain": [
              "   encounter_id  patient_nbr             race  ... change diabetesMed readmitted\n",
              "0       2278392      8222157        Caucasian  ...     No          No         NO\n",
              "1        149190     55629189        Caucasian  ...     Ch         Yes        >30\n",
              "2         64410     86047875  AfricanAmerican  ...     No         Yes         NO\n",
              "3        500364     82442376        Caucasian  ...     Ch         Yes         NO\n",
              "4         16680     42519267        Caucasian  ...     Ch         Yes         NO\n",
              "\n",
              "[5 rows x 50 columns]"
            ]
          },
          "metadata": {
            "tags": []
          },
          "execution_count": 510
        }
      ]
    },
    {
      "cell_type": "code",
      "metadata": {
        "id": "0_HDTY8VuN4v",
        "colab_type": "code",
        "outputId": "48b5f9af-2aec-4974-adbc-f0960844c5c1",
        "colab": {
          "base_uri": "https://localhost:8080/",
          "height": 995
        }
      },
      "source": [
        "diabetic.info()"
      ],
      "execution_count": 511,
      "outputs": [
        {
          "output_type": "stream",
          "text": [
            "<class 'pandas.core.frame.DataFrame'>\n",
            "RangeIndex: 101766 entries, 0 to 101765\n",
            "Data columns (total 50 columns):\n",
            "encounter_id                101766 non-null int64\n",
            "patient_nbr                 101766 non-null int64\n",
            "race                        101766 non-null object\n",
            "gender                      101766 non-null object\n",
            "age                         101766 non-null object\n",
            "weight                      101766 non-null object\n",
            "admission_type_id           101766 non-null int64\n",
            "discharge_disposition_id    101766 non-null int64\n",
            "admission_source_id         101766 non-null int64\n",
            "time_in_hospital            101766 non-null int64\n",
            "payer_code                  101766 non-null object\n",
            "medical_specialty           101766 non-null object\n",
            "num_lab_procedures          101766 non-null int64\n",
            "num_procedures              101766 non-null int64\n",
            "num_medications             101766 non-null int64\n",
            "number_outpatient           101766 non-null int64\n",
            "number_emergency            101766 non-null int64\n",
            "number_inpatient            101766 non-null int64\n",
            "diag_1                      101766 non-null object\n",
            "diag_2                      101766 non-null object\n",
            "diag_3                      101766 non-null object\n",
            "number_diagnoses            101766 non-null int64\n",
            "max_glu_serum               101766 non-null object\n",
            "A1Cresult                   101766 non-null object\n",
            "metformin                   101766 non-null object\n",
            "repaglinide                 101766 non-null object\n",
            "nateglinide                 101766 non-null object\n",
            "chlorpropamide              101766 non-null object\n",
            "glimepiride                 101766 non-null object\n",
            "acetohexamide               101766 non-null object\n",
            "glipizide                   101766 non-null object\n",
            "glyburide                   101766 non-null object\n",
            "tolbutamide                 101766 non-null object\n",
            "pioglitazone                101766 non-null object\n",
            "rosiglitazone               101766 non-null object\n",
            "acarbose                    101766 non-null object\n",
            "miglitol                    101766 non-null object\n",
            "troglitazone                101766 non-null object\n",
            "tolazamide                  101766 non-null object\n",
            "examide                     101766 non-null object\n",
            "citoglipton                 101766 non-null object\n",
            "insulin                     101766 non-null object\n",
            "glyburide-metformin         101766 non-null object\n",
            "glipizide-metformin         101766 non-null object\n",
            "glimepiride-pioglitazone    101766 non-null object\n",
            "metformin-rosiglitazone     101766 non-null object\n",
            "metformin-pioglitazone      101766 non-null object\n",
            "change                      101766 non-null object\n",
            "diabetesMed                 101766 non-null object\n",
            "readmitted                  101766 non-null object\n",
            "dtypes: int64(13), object(37)\n",
            "memory usage: 38.8+ MB\n"
          ],
          "name": "stdout"
        }
      ]
    },
    {
      "cell_type": "markdown",
      "metadata": {
        "id": "GHC8SWNkaiZB",
        "colab_type": "text"
      },
      "source": [
        "# Data Scrubbing"
      ]
    },
    {
      "cell_type": "markdown",
      "metadata": {
        "id": "CiH9gubFKtCF",
        "colab_type": "text"
      },
      "source": [
        "Weight attribute was considered to be too\n",
        "sparse and it was not included in further analysis. \n",
        "\n",
        "Payer code was removed since it had a high percentage of missing values and it was not considered relevant to the outcome.\n",
        "\n",
        "Medical specialty attribute has over 50% missing data.\n",
        "\n",
        "Therefore, these three attributes are dropped.\n",
        "\n",
        "Reference: http://downloads.hindawi.com/journals/bmri/2014/781670.pdf"
      ]
    },
    {
      "cell_type": "code",
      "metadata": {
        "id": "GsonQ6MaLIIZ",
        "colab_type": "code",
        "colab": {}
      },
      "source": [
        "diabetic = diabetic.drop(\"weight\", axis=1)\n",
        "diabetic = diabetic.drop(\"payer_code\", axis=1)\n",
        "diabetic = diabetic.drop(\"medical_specialty\", axis=1)\n"
      ],
      "execution_count": 0,
      "outputs": []
    },
    {
      "cell_type": "code",
      "metadata": {
        "id": "FVsFXZKkMCki",
        "colab_type": "code",
        "outputId": "17ab702e-7b3a-4736-dcfc-256f4dac4a7f",
        "colab": {
          "base_uri": "https://localhost:8080/",
          "height": 941
        }
      },
      "source": [
        "diabetic.info()"
      ],
      "execution_count": 513,
      "outputs": [
        {
          "output_type": "stream",
          "text": [
            "<class 'pandas.core.frame.DataFrame'>\n",
            "RangeIndex: 101766 entries, 0 to 101765\n",
            "Data columns (total 47 columns):\n",
            "encounter_id                101766 non-null int64\n",
            "patient_nbr                 101766 non-null int64\n",
            "race                        101766 non-null object\n",
            "gender                      101766 non-null object\n",
            "age                         101766 non-null object\n",
            "admission_type_id           101766 non-null int64\n",
            "discharge_disposition_id    101766 non-null int64\n",
            "admission_source_id         101766 non-null int64\n",
            "time_in_hospital            101766 non-null int64\n",
            "num_lab_procedures          101766 non-null int64\n",
            "num_procedures              101766 non-null int64\n",
            "num_medications             101766 non-null int64\n",
            "number_outpatient           101766 non-null int64\n",
            "number_emergency            101766 non-null int64\n",
            "number_inpatient            101766 non-null int64\n",
            "diag_1                      101766 non-null object\n",
            "diag_2                      101766 non-null object\n",
            "diag_3                      101766 non-null object\n",
            "number_diagnoses            101766 non-null int64\n",
            "max_glu_serum               101766 non-null object\n",
            "A1Cresult                   101766 non-null object\n",
            "metformin                   101766 non-null object\n",
            "repaglinide                 101766 non-null object\n",
            "nateglinide                 101766 non-null object\n",
            "chlorpropamide              101766 non-null object\n",
            "glimepiride                 101766 non-null object\n",
            "acetohexamide               101766 non-null object\n",
            "glipizide                   101766 non-null object\n",
            "glyburide                   101766 non-null object\n",
            "tolbutamide                 101766 non-null object\n",
            "pioglitazone                101766 non-null object\n",
            "rosiglitazone               101766 non-null object\n",
            "acarbose                    101766 non-null object\n",
            "miglitol                    101766 non-null object\n",
            "troglitazone                101766 non-null object\n",
            "tolazamide                  101766 non-null object\n",
            "examide                     101766 non-null object\n",
            "citoglipton                 101766 non-null object\n",
            "insulin                     101766 non-null object\n",
            "glyburide-metformin         101766 non-null object\n",
            "glipizide-metformin         101766 non-null object\n",
            "glimepiride-pioglitazone    101766 non-null object\n",
            "metformin-rosiglitazone     101766 non-null object\n",
            "metformin-pioglitazone      101766 non-null object\n",
            "change                      101766 non-null object\n",
            "diabetesMed                 101766 non-null object\n",
            "readmitted                  101766 non-null object\n",
            "dtypes: int64(13), object(34)\n",
            "memory usage: 36.5+ MB\n"
          ],
          "name": "stdout"
        }
      ]
    },
    {
      "cell_type": "markdown",
      "metadata": {
        "id": "fci48l8aTdFH",
        "colab_type": "text"
      },
      "source": [
        "Since we are primarily interested in factors that lead to early readmission, we defined the readmission attribute (outcome) as having two values: “readmitted,” if the patient was readmitted within 30 days of discharge or “otherwise,” which covers both readmission after 30 days and no readmission at all.\n",
        "\n",
        "Reference: http://downloads.hindawi.com/journals/bmri/2014/781670.pdf"
      ]
    },
    {
      "cell_type": "code",
      "metadata": {
        "id": "aDvNwJRiUd3n",
        "colab_type": "code",
        "colab": {}
      },
      "source": [
        "diabetic = diabetic.replace({\"readmitted\": \">30\"}, \"No\")\n",
        "diabetic = diabetic.replace({\"readmitted\": \"<30\"}, \"Yes\")\n"
      ],
      "execution_count": 0,
      "outputs": []
    },
    {
      "cell_type": "code",
      "metadata": {
        "id": "9pmnRy7_a8hv",
        "colab_type": "code",
        "outputId": "9756cdb3-fa64-4ce5-ebea-1f3c3e29f3a7",
        "colab": {
          "base_uri": "https://localhost:8080/",
          "height": 301
        }
      },
      "source": [
        "diabetic[\"readmitted\"][:15]"
      ],
      "execution_count": 515,
      "outputs": [
        {
          "output_type": "execute_result",
          "data": {
            "text/plain": [
              "0      NO\n",
              "1      No\n",
              "2      NO\n",
              "3      NO\n",
              "4      NO\n",
              "5      No\n",
              "6      NO\n",
              "7      No\n",
              "8      NO\n",
              "9      NO\n",
              "10     No\n",
              "11    Yes\n",
              "12    Yes\n",
              "13     NO\n",
              "14     No\n",
              "Name: readmitted, dtype: object"
            ]
          },
          "metadata": {
            "tags": []
          },
          "execution_count": 515
        }
      ]
    },
    {
      "cell_type": "markdown",
      "metadata": {
        "id": "GrgBLUp9IF6M",
        "colab_type": "text"
      },
      "source": [
        "We thus used only one encounter per patient; in particular, we considered only the first encounter for each patient as the primary admission and determined whether or not they were readmitted within 30 days."
      ]
    },
    {
      "cell_type": "code",
      "metadata": {
        "id": "TPDIQCCqIhcO",
        "colab_type": "code",
        "colab": {}
      },
      "source": [
        "diabetic = diabetic.drop_duplicates(subset=[\"patient_nbr\"])"
      ],
      "execution_count": 0,
      "outputs": []
    },
    {
      "cell_type": "code",
      "metadata": {
        "id": "DS_VvU9lI2ql",
        "colab_type": "code",
        "outputId": "9f09a8af-0168-4e86-b178-74523b1387dd",
        "colab": {
          "base_uri": "https://localhost:8080/",
          "height": 35
        }
      },
      "source": [
        "diabetic[\"encounter_id\"].count()"
      ],
      "execution_count": 517,
      "outputs": [
        {
          "output_type": "execute_result",
          "data": {
            "text/plain": [
              "71518"
            ]
          },
          "metadata": {
            "tags": []
          },
          "execution_count": 517
        }
      ]
    },
    {
      "cell_type": "markdown",
      "metadata": {
        "id": "CoLf4L91JGxe",
        "colab_type": "text"
      },
      "source": [
        "Now we have 71518 distinctive patients records without same patients that have multiple visit records."
      ]
    },
    {
      "cell_type": "code",
      "metadata": {
        "id": "P3RFM0jiYm70",
        "colab_type": "code",
        "colab": {}
      },
      "source": [
        "diabetic = diabetic[diabetic.discharge_disposition_id != 11 ]"
      ],
      "execution_count": 0,
      "outputs": []
    },
    {
      "cell_type": "code",
      "metadata": {
        "id": "IkGrJCszY9UO",
        "colab_type": "code",
        "colab": {
          "base_uri": "https://localhost:8080/",
          "height": 35
        },
        "outputId": "29bbe333-fd4d-4c03-9ea0-34e794f46057"
      },
      "source": [
        "diabetic[\"encounter_id\"].count()"
      ],
      "execution_count": 519,
      "outputs": [
        {
          "output_type": "execute_result",
          "data": {
            "text/plain": [
              "70441"
            ]
          },
          "metadata": {
            "tags": []
          },
          "execution_count": 519
        }
      ]
    },
    {
      "cell_type": "markdown",
      "metadata": {
        "id": "qNj5KXXRX-ud",
        "colab_type": "text"
      },
      "source": [
        "Then we drop rows that indicates the patient was deceased which will not be readmitted."
      ]
    },
    {
      "cell_type": "code",
      "metadata": {
        "id": "0vQV0ngCPzyR",
        "colab_type": "code",
        "outputId": "a732fe87-fc69-49be-a858-1fb409481600",
        "colab": {
          "base_uri": "https://localhost:8080/",
          "height": 390
        }
      },
      "source": [
        "diabetic[\"race\"][:20]"
      ],
      "execution_count": 520,
      "outputs": [
        {
          "output_type": "execute_result",
          "data": {
            "text/plain": [
              "0           Caucasian\n",
              "1           Caucasian\n",
              "2     AfricanAmerican\n",
              "3           Caucasian\n",
              "4           Caucasian\n",
              "5           Caucasian\n",
              "6           Caucasian\n",
              "7           Caucasian\n",
              "8           Caucasian\n",
              "9           Caucasian\n",
              "10    AfricanAmerican\n",
              "11    AfricanAmerican\n",
              "12          Caucasian\n",
              "13          Caucasian\n",
              "14    AfricanAmerican\n",
              "15    AfricanAmerican\n",
              "16    AfricanAmerican\n",
              "17          Caucasian\n",
              "18    AfricanAmerican\n",
              "19                  ?\n",
              "Name: race, dtype: object"
            ]
          },
          "metadata": {
            "tags": []
          },
          "execution_count": 520
        }
      ]
    },
    {
      "cell_type": "markdown",
      "metadata": {
        "id": "_VAoKWFbOpFh",
        "colab_type": "text"
      },
      "source": [
        "Columns \"Race\" have 2% missing data, it's not a lot, therefore they are filled with \"Other\"."
      ]
    },
    {
      "cell_type": "code",
      "metadata": {
        "id": "ccWMJWkAJTE_",
        "colab_type": "code",
        "colab": {}
      },
      "source": [
        "diabetic[\"race\"].replace(\"?\",\"Other\",inplace = True)"
      ],
      "execution_count": 0,
      "outputs": []
    },
    {
      "cell_type": "code",
      "metadata": {
        "id": "xvWQ13YDQv15",
        "colab_type": "code",
        "outputId": "13ef7907-4424-4490-9f6c-b37d3bd8bab6",
        "colab": {
          "base_uri": "https://localhost:8080/",
          "height": 390
        }
      },
      "source": [
        "diabetic[\"race\"][:20]"
      ],
      "execution_count": 522,
      "outputs": [
        {
          "output_type": "execute_result",
          "data": {
            "text/plain": [
              "0           Caucasian\n",
              "1           Caucasian\n",
              "2     AfricanAmerican\n",
              "3           Caucasian\n",
              "4           Caucasian\n",
              "5           Caucasian\n",
              "6           Caucasian\n",
              "7           Caucasian\n",
              "8           Caucasian\n",
              "9           Caucasian\n",
              "10    AfricanAmerican\n",
              "11    AfricanAmerican\n",
              "12          Caucasian\n",
              "13          Caucasian\n",
              "14    AfricanAmerican\n",
              "15    AfricanAmerican\n",
              "16    AfricanAmerican\n",
              "17          Caucasian\n",
              "18    AfricanAmerican\n",
              "19              Other\n",
              "Name: race, dtype: object"
            ]
          },
          "metadata": {
            "tags": []
          },
          "execution_count": 522
        }
      ]
    },
    {
      "cell_type": "markdown",
      "metadata": {
        "id": "3WgGATt5RC6R",
        "colab_type": "text"
      },
      "source": [
        "Then we'll need to make a desicion on other columns which has small amount of missing data, including \"diag_1\" <0.1%, \"diag_2\" 0.3%, \"diag_3\" 1.3%."
      ]
    },
    {
      "cell_type": "markdown",
      "metadata": {
        "id": "C0wsYgQWTCb8",
        "colab_type": "text"
      },
      "source": [
        "Since this project is only targeting the diabetes here which has value as 250.xx. All values other than this tag will be taged as 'No' while all diagnose as diabetes will be taged as 'Yes'. "
      ]
    },
    {
      "cell_type": "code",
      "metadata": {
        "id": "GMiZV32tUeMp",
        "colab_type": "code",
        "outputId": "03da1ee3-f507-44c0-9119-f59e841c493f",
        "colab": {
          "base_uri": "https://localhost:8080/",
          "height": 212
        }
      },
      "source": [
        "diabetic[\"diag_1\"][0:10]"
      ],
      "execution_count": 523,
      "outputs": [
        {
          "output_type": "execute_result",
          "data": {
            "text/plain": [
              "0    250.83\n",
              "1       276\n",
              "2       648\n",
              "3         8\n",
              "4       197\n",
              "5       414\n",
              "6       414\n",
              "7       428\n",
              "8       398\n",
              "9       434\n",
              "Name: diag_1, dtype: object"
            ]
          },
          "metadata": {
            "tags": []
          },
          "execution_count": 523
        }
      ]
    },
    {
      "cell_type": "code",
      "metadata": {
        "id": "Reh-4nAcTCLW",
        "colab_type": "code",
        "colab": {}
      },
      "source": [
        "diabetic[\"diag_1\"].replace(\"^(?!250).*\",\"No\",inplace = True,regex=True)\n",
        "diabetic[\"diag_1\"].replace(\"^250.*\",\"Yes\",inplace = True,regex=True)"
      ],
      "execution_count": 0,
      "outputs": []
    },
    {
      "cell_type": "code",
      "metadata": {
        "id": "TniwX9caUjhq",
        "colab_type": "code",
        "outputId": "cd920aec-5a2a-45f4-92a7-cf81a23ec58b",
        "colab": {
          "base_uri": "https://localhost:8080/",
          "height": 212
        }
      },
      "source": [
        "diabetic[\"diag_1\"][0:10]"
      ],
      "execution_count": 525,
      "outputs": [
        {
          "output_type": "execute_result",
          "data": {
            "text/plain": [
              "0    Yes\n",
              "1     No\n",
              "2     No\n",
              "3     No\n",
              "4     No\n",
              "5     No\n",
              "6     No\n",
              "7     No\n",
              "8     No\n",
              "9     No\n",
              "Name: diag_1, dtype: object"
            ]
          },
          "metadata": {
            "tags": []
          },
          "execution_count": 525
        }
      ]
    },
    {
      "cell_type": "markdown",
      "metadata": {
        "id": "UxIU4IAXSvTS",
        "colab_type": "text"
      },
      "source": [
        "Let's do the same on 'diag_2' and 'diag_3'."
      ]
    },
    {
      "cell_type": "code",
      "metadata": {
        "id": "ls9HAAXMYu1x",
        "colab_type": "code",
        "colab": {}
      },
      "source": [
        "diabetic[\"diag_2\"].replace(\"^(?!250).*\",\"No\",inplace = True,regex=True)\n",
        "diabetic[\"diag_2\"].replace(\"^250.*\",\"Yes\",inplace = True,regex=True)\n",
        "diabetic[\"diag_3\"].replace(\"^(?!250).*\",\"No\",inplace = True,regex=True)\n",
        "diabetic[\"diag_3\"].replace(\"^250.*\",\"Yes\",inplace = True,regex=True)"
      ],
      "execution_count": 0,
      "outputs": []
    },
    {
      "cell_type": "code",
      "metadata": {
        "id": "u8cXDmauY229",
        "colab_type": "code",
        "outputId": "d5296c13-c3c9-44f2-fb9d-bc99fff6537c",
        "colab": {
          "base_uri": "https://localhost:8080/",
          "height": 212
        }
      },
      "source": [
        "diabetic[\"diag_2\"][0:10]"
      ],
      "execution_count": 527,
      "outputs": [
        {
          "output_type": "execute_result",
          "data": {
            "text/plain": [
              "0     No\n",
              "1    Yes\n",
              "2    Yes\n",
              "3    Yes\n",
              "4     No\n",
              "5     No\n",
              "6     No\n",
              "7     No\n",
              "8     No\n",
              "9     No\n",
              "Name: diag_2, dtype: object"
            ]
          },
          "metadata": {
            "tags": []
          },
          "execution_count": 527
        }
      ]
    },
    {
      "cell_type": "markdown",
      "metadata": {
        "id": "jRtzy2kRZ-p3",
        "colab_type": "text"
      },
      "source": [
        "Now, all missing data have been handled. Since there are three diagnoses in the columns, here we unite these three columns into 1 when diagnose of diabetes exist in one of the three."
      ]
    },
    {
      "cell_type": "code",
      "metadata": {
        "id": "AnVfmC3-vQQ-",
        "colab_type": "code",
        "colab": {}
      },
      "source": [
        "diabetic[\"Cons_diag\"] = 0"
      ],
      "execution_count": 0,
      "outputs": []
    },
    {
      "cell_type": "markdown",
      "metadata": {
        "id": "YK4zVLzo0TXl",
        "colab_type": "text"
      },
      "source": [
        "Value \"1\" means the patient was once diagnosed for diabetes, whereas \"0\" means no diabete diagnosed."
      ]
    },
    {
      "cell_type": "code",
      "metadata": {
        "id": "bTCxoc0slv0b",
        "colab_type": "code",
        "outputId": "727bc4e6-b3c0-4368-a773-68effcabeca2",
        "colab": {
          "base_uri": "https://localhost:8080/",
          "height": 284
        }
      },
      "source": [
        "diabetic[\"Cons_diag\"][diabetic.diag_1==\"Yes\"] = 1\n",
        "diabetic[\"Cons_diag\"][diabetic.diag_2==\"Yes\"] = 1\n",
        "diabetic[\"Cons_diag\"][diabetic.diag_3==\"Yes\"] = 1"
      ],
      "execution_count": 529,
      "outputs": [
        {
          "output_type": "stream",
          "text": [
            "/usr/local/lib/python3.6/dist-packages/ipykernel_launcher.py:1: SettingWithCopyWarning: \n",
            "A value is trying to be set on a copy of a slice from a DataFrame\n",
            "\n",
            "See the caveats in the documentation: http://pandas.pydata.org/pandas-docs/stable/user_guide/indexing.html#returning-a-view-versus-a-copy\n",
            "  \"\"\"Entry point for launching an IPython kernel.\n",
            "/usr/local/lib/python3.6/dist-packages/ipykernel_launcher.py:2: SettingWithCopyWarning: \n",
            "A value is trying to be set on a copy of a slice from a DataFrame\n",
            "\n",
            "See the caveats in the documentation: http://pandas.pydata.org/pandas-docs/stable/user_guide/indexing.html#returning-a-view-versus-a-copy\n",
            "  \n",
            "/usr/local/lib/python3.6/dist-packages/ipykernel_launcher.py:3: SettingWithCopyWarning: \n",
            "A value is trying to be set on a copy of a slice from a DataFrame\n",
            "\n",
            "See the caveats in the documentation: http://pandas.pydata.org/pandas-docs/stable/user_guide/indexing.html#returning-a-view-versus-a-copy\n",
            "  This is separate from the ipykernel package so we can avoid doing imports until\n"
          ],
          "name": "stderr"
        }
      ]
    },
    {
      "cell_type": "code",
      "metadata": {
        "id": "UxPyG0pgy0ne",
        "colab_type": "code",
        "outputId": "8869c809-a9f5-4c00-bc4f-bb37488923cb",
        "colab": {
          "base_uri": "https://localhost:8080/",
          "height": 390
        }
      },
      "source": [
        "diabetic[\"Cons_diag\"][:20]"
      ],
      "execution_count": 530,
      "outputs": [
        {
          "output_type": "execute_result",
          "data": {
            "text/plain": [
              "0     1\n",
              "1     1\n",
              "2     1\n",
              "3     1\n",
              "4     1\n",
              "5     1\n",
              "6     0\n",
              "7     1\n",
              "8     0\n",
              "9     0\n",
              "10    1\n",
              "11    0\n",
              "12    1\n",
              "13    0\n",
              "14    0\n",
              "15    0\n",
              "16    0\n",
              "17    1\n",
              "18    0\n",
              "19    0\n",
              "Name: Cons_diag, dtype: int64"
            ]
          },
          "metadata": {
            "tags": []
          },
          "execution_count": 530
        }
      ]
    },
    {
      "cell_type": "code",
      "metadata": {
        "id": "qK-dIA0qyGQC",
        "colab_type": "code",
        "outputId": "60e1a867-65b5-4bb0-fddf-46ad5d2ff646",
        "colab": {
          "base_uri": "https://localhost:8080/",
          "height": 70
        }
      },
      "source": [
        "diabetic[\"Cons_diag\"].value_counts()"
      ],
      "execution_count": 531,
      "outputs": [
        {
          "output_type": "execute_result",
          "data": {
            "text/plain": [
              "0    42806\n",
              "1    27635\n",
              "Name: Cons_diag, dtype: int64"
            ]
          },
          "metadata": {
            "tags": []
          },
          "execution_count": 531
        }
      ]
    },
    {
      "cell_type": "markdown",
      "metadata": {
        "id": "IT2iFwuTzFQq",
        "colab_type": "text"
      },
      "source": [
        "Now we can drop the colums: \"diag_1\", \"diag_2\" and \"diag_3\""
      ]
    },
    {
      "cell_type": "code",
      "metadata": {
        "id": "AnhKq_njzNd6",
        "colab_type": "code",
        "colab": {}
      },
      "source": [
        "diabetic = diabetic.drop(\"diag_1\",axis=1)\n",
        "diabetic = diabetic.drop(\"diag_2\",axis=1)\n",
        "diabetic = diabetic.drop(\"diag_3\",axis=1)"
      ],
      "execution_count": 0,
      "outputs": []
    },
    {
      "cell_type": "code",
      "metadata": {
        "id": "X8s5FS6nzkSt",
        "colab_type": "code",
        "outputId": "b4bc1c6b-87fe-44e1-eee9-d8d6fb92fc1d",
        "colab": {
          "base_uri": "https://localhost:8080/",
          "height": 906
        }
      },
      "source": [
        "diabetic.info()"
      ],
      "execution_count": 533,
      "outputs": [
        {
          "output_type": "stream",
          "text": [
            "<class 'pandas.core.frame.DataFrame'>\n",
            "Int64Index: 70441 entries, 0 to 101765\n",
            "Data columns (total 45 columns):\n",
            "encounter_id                70441 non-null int64\n",
            "patient_nbr                 70441 non-null int64\n",
            "race                        70441 non-null object\n",
            "gender                      70441 non-null object\n",
            "age                         70441 non-null object\n",
            "admission_type_id           70441 non-null int64\n",
            "discharge_disposition_id    70441 non-null int64\n",
            "admission_source_id         70441 non-null int64\n",
            "time_in_hospital            70441 non-null int64\n",
            "num_lab_procedures          70441 non-null int64\n",
            "num_procedures              70441 non-null int64\n",
            "num_medications             70441 non-null int64\n",
            "number_outpatient           70441 non-null int64\n",
            "number_emergency            70441 non-null int64\n",
            "number_inpatient            70441 non-null int64\n",
            "number_diagnoses            70441 non-null int64\n",
            "max_glu_serum               70441 non-null object\n",
            "A1Cresult                   70441 non-null object\n",
            "metformin                   70441 non-null object\n",
            "repaglinide                 70441 non-null object\n",
            "nateglinide                 70441 non-null object\n",
            "chlorpropamide              70441 non-null object\n",
            "glimepiride                 70441 non-null object\n",
            "acetohexamide               70441 non-null object\n",
            "glipizide                   70441 non-null object\n",
            "glyburide                   70441 non-null object\n",
            "tolbutamide                 70441 non-null object\n",
            "pioglitazone                70441 non-null object\n",
            "rosiglitazone               70441 non-null object\n",
            "acarbose                    70441 non-null object\n",
            "miglitol                    70441 non-null object\n",
            "troglitazone                70441 non-null object\n",
            "tolazamide                  70441 non-null object\n",
            "examide                     70441 non-null object\n",
            "citoglipton                 70441 non-null object\n",
            "insulin                     70441 non-null object\n",
            "glyburide-metformin         70441 non-null object\n",
            "glipizide-metformin         70441 non-null object\n",
            "glimepiride-pioglitazone    70441 non-null object\n",
            "metformin-rosiglitazone     70441 non-null object\n",
            "metformin-pioglitazone      70441 non-null object\n",
            "change                      70441 non-null object\n",
            "diabetesMed                 70441 non-null object\n",
            "readmitted                  70441 non-null object\n",
            "Cons_diag                   70441 non-null int64\n",
            "dtypes: int64(14), object(31)\n",
            "memory usage: 24.7+ MB\n"
          ],
          "name": "stdout"
        }
      ]
    },
    {
      "cell_type": "markdown",
      "metadata": {
        "id": "sxpHQjYclcvd",
        "colab_type": "text"
      },
      "source": [
        "Similarly, we replace column \"readmitted\" with a new int64 column. \n",
        "\n",
        "Value \"1\" means readmitted, \"0\" means not readmitted."
      ]
    },
    {
      "cell_type": "code",
      "metadata": {
        "id": "Ec2-10ulz8Ll",
        "colab_type": "code",
        "colab": {}
      },
      "source": [
        "diabetic[\"re_ad\"] = 0"
      ],
      "execution_count": 0,
      "outputs": []
    },
    {
      "cell_type": "code",
      "metadata": {
        "id": "0nFwW46f0iwL",
        "colab_type": "code",
        "outputId": "93f60ab7-2591-4a8b-f763-fd2db1eb9ac5",
        "colab": {
          "base_uri": "https://localhost:8080/",
          "height": 106
        }
      },
      "source": [
        "diabetic[\"re_ad\"][diabetic.readmitted==\"Yes\"] = 1\n"
      ],
      "execution_count": 535,
      "outputs": [
        {
          "output_type": "stream",
          "text": [
            "/usr/local/lib/python3.6/dist-packages/ipykernel_launcher.py:1: SettingWithCopyWarning: \n",
            "A value is trying to be set on a copy of a slice from a DataFrame\n",
            "\n",
            "See the caveats in the documentation: http://pandas.pydata.org/pandas-docs/stable/user_guide/indexing.html#returning-a-view-versus-a-copy\n",
            "  \"\"\"Entry point for launching an IPython kernel.\n"
          ],
          "name": "stderr"
        }
      ]
    },
    {
      "cell_type": "code",
      "metadata": {
        "id": "60GBUHpy01at",
        "colab_type": "code",
        "outputId": "a54f73b2-6581-44d5-e1bd-ab399b810b1b",
        "colab": {
          "base_uri": "https://localhost:8080/",
          "height": 301
        }
      },
      "source": [
        "diabetic[\"re_ad\"][:15]"
      ],
      "execution_count": 536,
      "outputs": [
        {
          "output_type": "execute_result",
          "data": {
            "text/plain": [
              "0     0\n",
              "1     0\n",
              "2     0\n",
              "3     0\n",
              "4     0\n",
              "5     0\n",
              "6     0\n",
              "7     0\n",
              "8     0\n",
              "9     0\n",
              "10    0\n",
              "11    1\n",
              "12    1\n",
              "13    0\n",
              "14    0\n",
              "Name: re_ad, dtype: int64"
            ]
          },
          "metadata": {
            "tags": []
          },
          "execution_count": 536
        }
      ]
    },
    {
      "cell_type": "code",
      "metadata": {
        "id": "7HYd3EpM06f8",
        "colab_type": "code",
        "outputId": "5497758c-ad36-46cf-d640-f08fd07d7a3d",
        "colab": {
          "base_uri": "https://localhost:8080/",
          "height": 301
        }
      },
      "source": [
        "diabetic[\"readmitted\"][:15]"
      ],
      "execution_count": 537,
      "outputs": [
        {
          "output_type": "execute_result",
          "data": {
            "text/plain": [
              "0      NO\n",
              "1      No\n",
              "2      NO\n",
              "3      NO\n",
              "4      NO\n",
              "5      No\n",
              "6      NO\n",
              "7      No\n",
              "8      NO\n",
              "9      NO\n",
              "10     No\n",
              "11    Yes\n",
              "12    Yes\n",
              "13     NO\n",
              "14     No\n",
              "Name: readmitted, dtype: object"
            ]
          },
          "metadata": {
            "tags": []
          },
          "execution_count": 537
        }
      ]
    },
    {
      "cell_type": "markdown",
      "metadata": {
        "id": "rv9WQwLQ0-dl",
        "colab_type": "text"
      },
      "source": [
        "Then, drop the column \"readmitted\"."
      ]
    },
    {
      "cell_type": "code",
      "metadata": {
        "id": "wxsVBNNu1DGL",
        "colab_type": "code",
        "colab": {}
      },
      "source": [
        "diabetic = diabetic.drop(\"readmitted\",axis=1)"
      ],
      "execution_count": 0,
      "outputs": []
    },
    {
      "cell_type": "code",
      "metadata": {
        "id": "CarTbd_K1N5M",
        "colab_type": "code",
        "outputId": "1f27eed5-4501-497c-8377-c8d31c115acc",
        "colab": {
          "base_uri": "https://localhost:8080/",
          "height": 906
        }
      },
      "source": [
        "diabetic.info()"
      ],
      "execution_count": 539,
      "outputs": [
        {
          "output_type": "stream",
          "text": [
            "<class 'pandas.core.frame.DataFrame'>\n",
            "Int64Index: 70441 entries, 0 to 101765\n",
            "Data columns (total 45 columns):\n",
            "encounter_id                70441 non-null int64\n",
            "patient_nbr                 70441 non-null int64\n",
            "race                        70441 non-null object\n",
            "gender                      70441 non-null object\n",
            "age                         70441 non-null object\n",
            "admission_type_id           70441 non-null int64\n",
            "discharge_disposition_id    70441 non-null int64\n",
            "admission_source_id         70441 non-null int64\n",
            "time_in_hospital            70441 non-null int64\n",
            "num_lab_procedures          70441 non-null int64\n",
            "num_procedures              70441 non-null int64\n",
            "num_medications             70441 non-null int64\n",
            "number_outpatient           70441 non-null int64\n",
            "number_emergency            70441 non-null int64\n",
            "number_inpatient            70441 non-null int64\n",
            "number_diagnoses            70441 non-null int64\n",
            "max_glu_serum               70441 non-null object\n",
            "A1Cresult                   70441 non-null object\n",
            "metformin                   70441 non-null object\n",
            "repaglinide                 70441 non-null object\n",
            "nateglinide                 70441 non-null object\n",
            "chlorpropamide              70441 non-null object\n",
            "glimepiride                 70441 non-null object\n",
            "acetohexamide               70441 non-null object\n",
            "glipizide                   70441 non-null object\n",
            "glyburide                   70441 non-null object\n",
            "tolbutamide                 70441 non-null object\n",
            "pioglitazone                70441 non-null object\n",
            "rosiglitazone               70441 non-null object\n",
            "acarbose                    70441 non-null object\n",
            "miglitol                    70441 non-null object\n",
            "troglitazone                70441 non-null object\n",
            "tolazamide                  70441 non-null object\n",
            "examide                     70441 non-null object\n",
            "citoglipton                 70441 non-null object\n",
            "insulin                     70441 non-null object\n",
            "glyburide-metformin         70441 non-null object\n",
            "glipizide-metformin         70441 non-null object\n",
            "glimepiride-pioglitazone    70441 non-null object\n",
            "metformin-rosiglitazone     70441 non-null object\n",
            "metformin-pioglitazone      70441 non-null object\n",
            "change                      70441 non-null object\n",
            "diabetesMed                 70441 non-null object\n",
            "Cons_diag                   70441 non-null int64\n",
            "re_ad                       70441 non-null int64\n",
            "dtypes: int64(15), object(30)\n",
            "memory usage: 24.7+ MB\n"
          ],
          "name": "stdout"
        }
      ]
    },
    {
      "cell_type": "markdown",
      "metadata": {
        "id": "BVYWQhs6BZ_K",
        "colab_type": "text"
      },
      "source": [
        "Consider HbA1c might be highly related to the diagnoses for diabetes, here A1Cresult is transformed into numeric values.\n",
        "\n",
        "1.   \"None\"   => 0\n",
        "2.   \"Norm\"   => 1\n",
        "3.   \">7\"     => 2\n",
        "4.   \">8\"     => 3\n",
        "\n"
      ]
    },
    {
      "cell_type": "code",
      "metadata": {
        "id": "d7OI-jHyCC8I",
        "colab_type": "code",
        "outputId": "3990ff46-1367-4540-8378-a01ac073ce03",
        "colab": {
          "base_uri": "https://localhost:8080/",
          "height": 284
        }
      },
      "source": [
        "diabetic[\"HbA1c\"] = 0\n",
        "diabetic[\"HbA1c\"][diabetic.A1Cresult==\"Norm\"] = 1\n",
        "diabetic[\"HbA1c\"][diabetic.A1Cresult==\">7\"] = 2\n",
        "diabetic[\"HbA1c\"][diabetic.A1Cresult==\">8\"] = 3"
      ],
      "execution_count": 540,
      "outputs": [
        {
          "output_type": "stream",
          "text": [
            "/usr/local/lib/python3.6/dist-packages/ipykernel_launcher.py:2: SettingWithCopyWarning: \n",
            "A value is trying to be set on a copy of a slice from a DataFrame\n",
            "\n",
            "See the caveats in the documentation: http://pandas.pydata.org/pandas-docs/stable/user_guide/indexing.html#returning-a-view-versus-a-copy\n",
            "  \n",
            "/usr/local/lib/python3.6/dist-packages/ipykernel_launcher.py:3: SettingWithCopyWarning: \n",
            "A value is trying to be set on a copy of a slice from a DataFrame\n",
            "\n",
            "See the caveats in the documentation: http://pandas.pydata.org/pandas-docs/stable/user_guide/indexing.html#returning-a-view-versus-a-copy\n",
            "  This is separate from the ipykernel package so we can avoid doing imports until\n",
            "/usr/local/lib/python3.6/dist-packages/ipykernel_launcher.py:4: SettingWithCopyWarning: \n",
            "A value is trying to be set on a copy of a slice from a DataFrame\n",
            "\n",
            "See the caveats in the documentation: http://pandas.pydata.org/pandas-docs/stable/user_guide/indexing.html#returning-a-view-versus-a-copy\n",
            "  after removing the cwd from sys.path.\n"
          ],
          "name": "stderr"
        }
      ]
    },
    {
      "cell_type": "code",
      "metadata": {
        "id": "2ewoKgVRDa14",
        "colab_type": "code",
        "outputId": "e9b8919c-76b2-4ccf-ec5c-d9d8b3a008ae",
        "colab": {
          "base_uri": "https://localhost:8080/",
          "height": 568
        }
      },
      "source": [
        "diabetic[\"A1Cresult\"][70:100]"
      ],
      "execution_count": 541,
      "outputs": [
        {
          "output_type": "execute_result",
          "data": {
            "text/plain": [
              "73     None\n",
              "74       >7\n",
              "75     None\n",
              "76     None\n",
              "77     None\n",
              "80     None\n",
              "82     None\n",
              "83     None\n",
              "84     None\n",
              "85     None\n",
              "86     None\n",
              "87     None\n",
              "88     None\n",
              "89     None\n",
              "90     None\n",
              "91     None\n",
              "92     None\n",
              "93     None\n",
              "94     None\n",
              "95     None\n",
              "96     None\n",
              "97     None\n",
              "98       >8\n",
              "99     None\n",
              "102    None\n",
              "103    Norm\n",
              "104    None\n",
              "105    None\n",
              "106    None\n",
              "107    Norm\n",
              "Name: A1Cresult, dtype: object"
            ]
          },
          "metadata": {
            "tags": []
          },
          "execution_count": 541
        }
      ]
    },
    {
      "cell_type": "code",
      "metadata": {
        "id": "iSlnQ1tNDjtl",
        "colab_type": "code",
        "outputId": "b7a3db94-092a-4445-db97-7ab478885e18",
        "colab": {
          "base_uri": "https://localhost:8080/",
          "height": 568
        }
      },
      "source": [
        "diabetic[\"HbA1c\"][70:100]"
      ],
      "execution_count": 542,
      "outputs": [
        {
          "output_type": "execute_result",
          "data": {
            "text/plain": [
              "73     0\n",
              "74     2\n",
              "75     0\n",
              "76     0\n",
              "77     0\n",
              "80     0\n",
              "82     0\n",
              "83     0\n",
              "84     0\n",
              "85     0\n",
              "86     0\n",
              "87     0\n",
              "88     0\n",
              "89     0\n",
              "90     0\n",
              "91     0\n",
              "92     0\n",
              "93     0\n",
              "94     0\n",
              "95     0\n",
              "96     0\n",
              "97     0\n",
              "98     3\n",
              "99     0\n",
              "102    0\n",
              "103    1\n",
              "104    0\n",
              "105    0\n",
              "106    0\n",
              "107    1\n",
              "Name: HbA1c, dtype: int64"
            ]
          },
          "metadata": {
            "tags": []
          },
          "execution_count": 542
        }
      ]
    },
    {
      "cell_type": "markdown",
      "metadata": {
        "id": "v_rFrDW_P1KT",
        "colab_type": "text"
      },
      "source": [
        "Good, data validated, now we drop the column \"A1Cresult\"."
      ]
    },
    {
      "cell_type": "code",
      "metadata": {
        "id": "i6YjDWx7P_AI",
        "colab_type": "code",
        "colab": {}
      },
      "source": [
        "diabetic = diabetic.drop(\"A1Cresult\",axis=1)"
      ],
      "execution_count": 0,
      "outputs": []
    },
    {
      "cell_type": "markdown",
      "metadata": {
        "id": "8PuNlWrTapcL",
        "colab_type": "text"
      },
      "source": [
        "# Data Preparation"
      ]
    },
    {
      "cell_type": "code",
      "metadata": {
        "id": "7XCtSFYcy2iY",
        "colab_type": "code",
        "colab": {}
      },
      "source": [
        "# For illustration only. Sklearn has train_test_split()\n",
        "def split_train_test(data, test_ratio):\n",
        "    shuffled_indices = np.random.permutation(len(data))\n",
        "    test_set_size = int(len(data) * test_ratio)\n",
        "    test_indices = shuffled_indices[:test_set_size]\n",
        "    train_indices = shuffled_indices[test_set_size:]\n",
        "    return data.iloc[train_indices], data.iloc[test_indices]"
      ],
      "execution_count": 0,
      "outputs": []
    },
    {
      "cell_type": "code",
      "metadata": {
        "id": "29mmeTZ9y44R",
        "colab_type": "code",
        "outputId": "a02e24f7-1646-4e7a-d928-f6e728ee6c31",
        "colab": {
          "base_uri": "https://localhost:8080/",
          "height": 35
        }
      },
      "source": [
        "train_set, test_set = split_train_test(diabetic, 0.2)\n",
        "len(train_set)"
      ],
      "execution_count": 545,
      "outputs": [
        {
          "output_type": "execute_result",
          "data": {
            "text/plain": [
              "56353"
            ]
          },
          "metadata": {
            "tags": []
          },
          "execution_count": 545
        }
      ]
    },
    {
      "cell_type": "code",
      "metadata": {
        "id": "mnfmr97EOQqA",
        "colab_type": "code",
        "outputId": "865ba5b8-734a-47af-fee7-58f93d5d5ebb",
        "colab": {
          "base_uri": "https://localhost:8080/",
          "height": 35
        }
      },
      "source": [
        "len(test_set)"
      ],
      "execution_count": 546,
      "outputs": [
        {
          "output_type": "execute_result",
          "data": {
            "text/plain": [
              "14088"
            ]
          },
          "metadata": {
            "tags": []
          },
          "execution_count": 546
        }
      ]
    },
    {
      "cell_type": "markdown",
      "metadata": {
        "id": "xF2EEJwTzHIc",
        "colab_type": "text"
      },
      "source": [
        "Here we did not use 'train_test_split' from sklearn because, two columns were unreasonably missing after this build-in function called."
      ]
    },
    {
      "cell_type": "code",
      "metadata": {
        "id": "ZWgtEU3Xy-cR",
        "colab_type": "code",
        "outputId": "16e8eaa4-252c-455e-c8cb-b61938d52fd2",
        "colab": {
          "base_uri": "https://localhost:8080/",
          "height": 906
        }
      },
      "source": [
        "train_set.info()"
      ],
      "execution_count": 547,
      "outputs": [
        {
          "output_type": "stream",
          "text": [
            "<class 'pandas.core.frame.DataFrame'>\n",
            "Int64Index: 56353 entries, 36563 to 21161\n",
            "Data columns (total 45 columns):\n",
            "encounter_id                56353 non-null int64\n",
            "patient_nbr                 56353 non-null int64\n",
            "race                        56353 non-null object\n",
            "gender                      56353 non-null object\n",
            "age                         56353 non-null object\n",
            "admission_type_id           56353 non-null int64\n",
            "discharge_disposition_id    56353 non-null int64\n",
            "admission_source_id         56353 non-null int64\n",
            "time_in_hospital            56353 non-null int64\n",
            "num_lab_procedures          56353 non-null int64\n",
            "num_procedures              56353 non-null int64\n",
            "num_medications             56353 non-null int64\n",
            "number_outpatient           56353 non-null int64\n",
            "number_emergency            56353 non-null int64\n",
            "number_inpatient            56353 non-null int64\n",
            "number_diagnoses            56353 non-null int64\n",
            "max_glu_serum               56353 non-null object\n",
            "metformin                   56353 non-null object\n",
            "repaglinide                 56353 non-null object\n",
            "nateglinide                 56353 non-null object\n",
            "chlorpropamide              56353 non-null object\n",
            "glimepiride                 56353 non-null object\n",
            "acetohexamide               56353 non-null object\n",
            "glipizide                   56353 non-null object\n",
            "glyburide                   56353 non-null object\n",
            "tolbutamide                 56353 non-null object\n",
            "pioglitazone                56353 non-null object\n",
            "rosiglitazone               56353 non-null object\n",
            "acarbose                    56353 non-null object\n",
            "miglitol                    56353 non-null object\n",
            "troglitazone                56353 non-null object\n",
            "tolazamide                  56353 non-null object\n",
            "examide                     56353 non-null object\n",
            "citoglipton                 56353 non-null object\n",
            "insulin                     56353 non-null object\n",
            "glyburide-metformin         56353 non-null object\n",
            "glipizide-metformin         56353 non-null object\n",
            "glimepiride-pioglitazone    56353 non-null object\n",
            "metformin-rosiglitazone     56353 non-null object\n",
            "metformin-pioglitazone      56353 non-null object\n",
            "change                      56353 non-null object\n",
            "diabetesMed                 56353 non-null object\n",
            "Cons_diag                   56353 non-null int64\n",
            "re_ad                       56353 non-null int64\n",
            "HbA1c                       56353 non-null int64\n",
            "dtypes: int64(16), object(29)\n",
            "memory usage: 19.8+ MB\n"
          ],
          "name": "stdout"
        }
      ]
    },
    {
      "cell_type": "markdown",
      "metadata": {
        "id": "sDYjAtMnzZRH",
        "colab_type": "text"
      },
      "source": [
        "Still have 45 columns, good."
      ]
    },
    {
      "cell_type": "markdown",
      "metadata": {
        "id": "5dqLydRSaH1E",
        "colab_type": "text"
      },
      "source": [
        "Take a further look into the database, there are 16 columns that are numeric. Let's take them out."
      ]
    },
    {
      "cell_type": "code",
      "metadata": {
        "id": "NYYSDxiAadxD",
        "colab_type": "code",
        "colab": {}
      },
      "source": [
        "diabetic_num = train_set.drop(['race','gender','age', \n",
        "                              'max_glu_serum', 'metformin', 'repaglinide', 'nateglinide',\n",
        "                              'chlorpropamide','glimepiride','acetohexamide','glipizide',\n",
        "                              'glyburide','tolbutamide','pioglitazone','rosiglitazone','acarbose',\n",
        "                              'miglitol','troglitazone','tolazamide','examide','citoglipton',\n",
        "                              'insulin','glyburide-metformin','glipizide-metformin',\n",
        "                              'glimepiride-pioglitazone','metformin-rosiglitazone',\n",
        "                              'metformin-pioglitazone','change','diabetesMed'],axis=1)"
      ],
      "execution_count": 0,
      "outputs": []
    },
    {
      "cell_type": "code",
      "metadata": {
        "id": "LQhvOMhIdOMB",
        "colab_type": "code",
        "outputId": "1d470d56-31dd-40a3-8c33-a56f72e5fd1b",
        "colab": {
          "base_uri": "https://localhost:8080/",
          "height": 390
        }
      },
      "source": [
        "diabetic_num.info()"
      ],
      "execution_count": 549,
      "outputs": [
        {
          "output_type": "stream",
          "text": [
            "<class 'pandas.core.frame.DataFrame'>\n",
            "Int64Index: 56353 entries, 36563 to 21161\n",
            "Data columns (total 16 columns):\n",
            "encounter_id                56353 non-null int64\n",
            "patient_nbr                 56353 non-null int64\n",
            "admission_type_id           56353 non-null int64\n",
            "discharge_disposition_id    56353 non-null int64\n",
            "admission_source_id         56353 non-null int64\n",
            "time_in_hospital            56353 non-null int64\n",
            "num_lab_procedures          56353 non-null int64\n",
            "num_procedures              56353 non-null int64\n",
            "num_medications             56353 non-null int64\n",
            "number_outpatient           56353 non-null int64\n",
            "number_emergency            56353 non-null int64\n",
            "number_inpatient            56353 non-null int64\n",
            "number_diagnoses            56353 non-null int64\n",
            "Cons_diag                   56353 non-null int64\n",
            "re_ad                       56353 non-null int64\n",
            "HbA1c                       56353 non-null int64\n",
            "dtypes: int64(16)\n",
            "memory usage: 7.3 MB\n"
          ],
          "name": "stdout"
        }
      ]
    },
    {
      "cell_type": "code",
      "metadata": {
        "id": "B9lUIGGOk1wH",
        "colab_type": "code",
        "outputId": "3f5b485f-e09d-49f0-afb6-e33198c4e78c",
        "colab": {
          "base_uri": "https://localhost:8080/",
          "height": 319
        }
      },
      "source": [
        "corr_matrix = diabetic_num.corr()\n",
        "corr_matrix[\"Cons_diag\"].sort_values(ascending=False)"
      ],
      "execution_count": 550,
      "outputs": [
        {
          "output_type": "execute_result",
          "data": {
            "text/plain": [
              "Cons_diag                   1.000000\n",
              "HbA1c                       0.122487\n",
              "admission_type_id           0.027587\n",
              "number_emergency            0.007634\n",
              "re_ad                      -0.008505\n",
              "admission_source_id        -0.021116\n",
              "number_inpatient           -0.023964\n",
              "discharge_disposition_id   -0.025603\n",
              "number_outpatient          -0.027760\n",
              "num_lab_procedures         -0.068278\n",
              "num_procedures             -0.093211\n",
              "patient_nbr                -0.094782\n",
              "encounter_id               -0.105173\n",
              "time_in_hospital           -0.138743\n",
              "num_medications            -0.143921\n",
              "number_diagnoses           -0.417879\n",
              "Name: Cons_diag, dtype: float64"
            ]
          },
          "metadata": {
            "tags": []
          },
          "execution_count": 550
        }
      ]
    },
    {
      "cell_type": "markdown",
      "metadata": {
        "id": "3RCqcTu2JL2u",
        "colab_type": "text"
      },
      "source": [
        "From the numeric colums, the most corelated column to diagnosis of diabetes is 'number_diagnoses'."
      ]
    },
    {
      "cell_type": "code",
      "metadata": {
        "id": "EhpPKi-xT5Xl",
        "colab_type": "code",
        "outputId": "6298236f-91e9-4244-92bd-49df6cf84281",
        "colab": {
          "base_uri": "https://localhost:8080/",
          "height": 607
        }
      },
      "source": [
        "# from pandas.tools.plotting import scatter_matrix # For older versions of Pandas\n",
        "from pandas.plotting import scatter_matrix\n",
        "\n",
        "attributes = [\"Cons_diag\", \"number_diagnoses\", \"num_medications\",\"time_in_hospital\",\"HbA1c\"]\n",
        "scatter_matrix(diabetic_num[attributes], figsize=(12, 8))\n",
        "save_fig(\"scatter_matrix_plot\")"
      ],
      "execution_count": 551,
      "outputs": [
        {
          "output_type": "stream",
          "text": [
            "Saving figure scatter_matrix_plot\n"
          ],
          "name": "stdout"
        },
        {
          "output_type": "display_data",
          "data": {
            "image/png": "[encoded data removed]",
            "text/plain": [
              "<Figure size 864x576 with 25 Axes>"
            ]
          },
          "metadata": {
            "tags": []
          }
        }
      ]
    },
    {
      "cell_type": "code",
      "metadata": {
        "id": "R3gVqpva2e0C",
        "colab_type": "code",
        "outputId": "73d6172f-6741-435a-e0be-ab26896d1de9",
        "colab": {
          "base_uri": "https://localhost:8080/",
          "height": 319
        }
      },
      "source": [
        "corr_matrix = diabetic_num.corr()\n",
        "corr_matrix[\"re_ad\"].sort_values(ascending=False)"
      ],
      "execution_count": 552,
      "outputs": [
        {
          "output_type": "execute_result",
          "data": {
            "text/plain": [
              "re_ad                       1.000000\n",
              "number_inpatient            0.102937\n",
              "discharge_disposition_id    0.064957\n",
              "time_in_hospital            0.054446\n",
              "number_diagnoses            0.042758\n",
              "num_medications             0.036680\n",
              "num_lab_procedures          0.029971\n",
              "number_emergency            0.027454\n",
              "number_outpatient           0.007629\n",
              "admission_source_id         0.005368\n",
              "patient_nbr                 0.004257\n",
              "num_procedures              0.002310\n",
              "admission_type_id           0.000013\n",
              "Cons_diag                  -0.008505\n",
              "HbA1c                      -0.009776\n",
              "encounter_id               -0.047151\n",
              "Name: re_ad, dtype: float64"
            ]
          },
          "metadata": {
            "tags": []
          },
          "execution_count": 552
        }
      ]
    },
    {
      "cell_type": "markdown",
      "metadata": {
        "id": "CMusuuCSJYNv",
        "colab_type": "text"
      },
      "source": [
        "From the numeric colums, it seems all these columns have very low corelations with 'readmitted'."
      ]
    },
    {
      "cell_type": "code",
      "metadata": {
        "id": "SJCT523WL8YC",
        "colab_type": "code",
        "colab": {}
      },
      "source": [
        "diabetic_train = train_set.drop(\"Cons_diag\", axis=1) # drop labels for training set\n",
        "diabetic_train = diabetic_train.drop(\"re_ad\", axis=1)\n",
        "dia_labels_diag = train_set[\"Cons_diag\"].copy()\n",
        "dia_labels_read = train_set[\"re_ad\"].copy()"
      ],
      "execution_count": 0,
      "outputs": []
    },
    {
      "cell_type": "markdown",
      "metadata": {
        "id": "co7tPmUWhp1R",
        "colab_type": "text"
      },
      "source": [
        "Now let's build a pipeline for preprocessing the numerical attributes with scaling:"
      ]
    },
    {
      "cell_type": "code",
      "metadata": {
        "id": "JkHW5_5ohtkI",
        "colab_type": "code",
        "colab": {}
      },
      "source": [
        "from sklearn.pipeline import Pipeline\n",
        "from sklearn.preprocessing import StandardScaler\n",
        "\n",
        "num_pipeline = Pipeline([('std_scaler', StandardScaler())])\n",
        "\n",
        "diabetic_tr = num_pipeline.fit_transform(diabetic_num)"
      ],
      "execution_count": 0,
      "outputs": []
    },
    {
      "cell_type": "code",
      "metadata": {
        "id": "p2O_3HCbiAcX",
        "colab_type": "code",
        "outputId": "045f1720-52fc-462a-b784-866c99ed2540",
        "colab": {
          "base_uri": "https://localhost:8080/",
          "height": 248
        }
      },
      "source": [
        "diabetic_tr"
      ],
      "execution_count": 555,
      "outputs": [
        {
          "output_type": "execute_result",
          "data": {
            "text/plain": [
              "array([[-0.44167186,  0.74301342, -0.73174058, ...,  1.24629849,\n",
              "         3.20091536,  2.81240975],\n",
              "       [-0.94669309, -0.9783004 , -0.06767563, ...,  1.24629849,\n",
              "        -0.31241064,  2.81240975],\n",
              "       [-0.47466256,  1.25738643, -0.73174058, ..., -0.802376  ,\n",
              "        -0.31241064, -0.43380394],\n",
              "       ...,\n",
              "       [ 0.73947577, -1.34344443, -0.06767563, ..., -0.802376  ,\n",
              "        -0.31241064, -0.43380394],\n",
              "       [-1.49134838, -1.13924841,  2.58858414, ..., -0.802376  ,\n",
              "        -0.31241064, -0.43380394],\n",
              "       [-0.8256232 , -0.87191168,  0.59638931, ..., -0.802376  ,\n",
              "        -0.31241064, -0.43380394]])"
            ]
          },
          "metadata": {
            "tags": []
          },
          "execution_count": 555
        }
      ]
    },
    {
      "cell_type": "markdown",
      "metadata": {
        "id": "ioTc5_3bTzAa",
        "colab_type": "text"
      },
      "source": [
        "Next we'll deal with categorical columns."
      ]
    },
    {
      "cell_type": "code",
      "metadata": {
        "id": "DDfKrrIGhgzz",
        "colab_type": "code",
        "colab": {}
      },
      "source": [
        "from sklearn.preprocessing import OneHotEncoder\n",
        "\n",
        "cat_encoder = OneHotEncoder()"
      ],
      "execution_count": 0,
      "outputs": []
    },
    {
      "cell_type": "code",
      "metadata": {
        "id": "D2vJUZeciJIz",
        "colab_type": "code",
        "colab": {}
      },
      "source": [
        "from sklearn.compose import ColumnTransformer\n",
        "\n",
        "num_attribs = list(diabetic_num)\n",
        "cat_attribs = ['race','gender','age',\n",
        "                              'max_glu_serum','metformin','repaglinide','nateglinide',\n",
        "                              'chlorpropamide','glimepiride','acetohexamide','glipizide',\n",
        "                              'glyburide','tolbutamide','pioglitazone','rosiglitazone','acarbose',\n",
        "                              'miglitol','troglitazone','tolazamide','examide','citoglipton',\n",
        "                              'insulin','glyburide-metformin','glipizide-metformin',\n",
        "                              'glimepiride-pioglitazone','metformin-rosiglitazone',\n",
        "                              'metformin-pioglitazone','change','diabetesMed']\n",
        "\n",
        "full_pipeline = ColumnTransformer([\n",
        "        (\"num\", num_pipeline, num_attribs),\n",
        "        (\"cat\", OneHotEncoder(), cat_attribs),\n",
        "    ])\n",
        "\n",
        "dia_prepared = full_pipeline.fit_transform(train_set)"
      ],
      "execution_count": 0,
      "outputs": []
    },
    {
      "cell_type": "code",
      "metadata": {
        "id": "wxSVZz20ikXe",
        "colab_type": "code",
        "outputId": "6adbb9e0-b263-4b40-89ae-00b2f9f8ee56",
        "colab": {
          "base_uri": "https://localhost:8080/",
          "height": 35
        }
      },
      "source": [
        "dia_prepared.shape"
      ],
      "execution_count": 558,
      "outputs": [
        {
          "output_type": "execute_result",
          "data": {
            "text/plain": [
              "(56353, 110)"
            ]
          },
          "metadata": {
            "tags": []
          },
          "execution_count": 558
        }
      ]
    },
    {
      "cell_type": "markdown",
      "metadata": {
        "id": "BJ0htNXRKsdO",
        "colab_type": "text"
      },
      "source": [
        "Since all the data has transformed into 2D float array, we are unable to run correlation matrix to seek the most correlated attributes among non-numeric columns."
      ]
    },
    {
      "cell_type": "markdown",
      "metadata": {
        "id": "S78VaY274qM0",
        "colab_type": "text"
      },
      "source": [
        "Now let's do the same on the test data set."
      ]
    },
    {
      "cell_type": "code",
      "metadata": {
        "id": "x6FY53hE43MD",
        "colab_type": "code",
        "colab": {}
      },
      "source": [
        "test_num = test_set.drop(['race','gender','age', \n",
        "                              'max_glu_serum', 'metformin', 'repaglinide', 'nateglinide',\n",
        "                              'chlorpropamide','glimepiride','acetohexamide','glipizide',\n",
        "                              'glyburide','tolbutamide','pioglitazone','rosiglitazone','acarbose',\n",
        "                              'miglitol','troglitazone','tolazamide','examide','citoglipton',\n",
        "                              'insulin','glyburide-metformin','glipizide-metformin',\n",
        "                              'glimepiride-pioglitazone','metformin-rosiglitazone',\n",
        "                              'metformin-pioglitazone','change','diabetesMed'],axis=1)"
      ],
      "execution_count": 0,
      "outputs": []
    },
    {
      "cell_type": "code",
      "metadata": {
        "id": "NeHvDjXO4uLF",
        "colab_type": "code",
        "colab": {}
      },
      "source": [
        "test_labels_diag = test_set[\"Cons_diag\"].copy()\n",
        "test_labels_read = test_set[\"re_ad\"].copy()\n",
        "diabetic_test = test_set.drop(\"Cons_diag\", axis=1) # drop labels for testing set\n",
        "diabetic_test = diabetic_test.drop(\"re_ad\", axis=1)"
      ],
      "execution_count": 0,
      "outputs": []
    },
    {
      "cell_type": "code",
      "metadata": {
        "id": "_Jc3pdoz5Taw",
        "colab_type": "code",
        "colab": {}
      },
      "source": [
        "test_tr = num_pipeline.fit_transform(test_num)"
      ],
      "execution_count": 0,
      "outputs": []
    },
    {
      "cell_type": "code",
      "metadata": {
        "id": "CGyqnNQn5s4y",
        "colab_type": "code",
        "colab": {}
      },
      "source": [
        "num_attribs = list(test_num)\n",
        "cat_attribs = ['race','gender','age',\n",
        "                              'max_glu_serum','metformin','repaglinide','nateglinide',\n",
        "                              'chlorpropamide','glimepiride','acetohexamide','glipizide',\n",
        "                              'glyburide','tolbutamide','pioglitazone','rosiglitazone','acarbose',\n",
        "                              'miglitol','troglitazone','tolazamide','examide','citoglipton',\n",
        "                              'insulin','glyburide-metformin','glipizide-metformin',\n",
        "                              'glimepiride-pioglitazone','metformin-rosiglitazone',\n",
        "                              'metformin-pioglitazone','change','diabetesMed']\n",
        "\n",
        "full_pipeline = ColumnTransformer([\n",
        "        (\"num\", num_pipeline, num_attribs),\n",
        "        (\"cat\", OneHotEncoder(), cat_attribs),\n",
        "    ])"
      ],
      "execution_count": 0,
      "outputs": []
    },
    {
      "cell_type": "code",
      "metadata": {
        "id": "fcP9z1fR5Zcd",
        "colab_type": "code",
        "colab": {}
      },
      "source": [
        "test_prepared = full_pipeline.fit_transform(test_set)"
      ],
      "execution_count": 0,
      "outputs": []
    },
    {
      "cell_type": "code",
      "metadata": {
        "id": "COnZ_hrT5eSB",
        "colab_type": "code",
        "outputId": "71bb3d7d-544c-4ab4-f8bb-bb79ca5120e3",
        "colab": {
          "base_uri": "https://localhost:8080/",
          "height": 35
        }
      },
      "source": [
        "test_prepared.shape"
      ],
      "execution_count": 564,
      "outputs": [
        {
          "output_type": "execute_result",
          "data": {
            "text/plain": [
              "(14088, 100)"
            ]
          },
          "metadata": {
            "tags": []
          },
          "execution_count": 564
        }
      ]
    },
    {
      "cell_type": "markdown",
      "metadata": {
        "id": "DQgljsUe7qUf",
        "colab_type": "text"
      },
      "source": [
        "It is probably the variance of data value of the training set and the testing set causing the difference of column number after transforming all the non-numeric data into numeric data.\n"
      ]
    },
    {
      "cell_type": "markdown",
      "metadata": {
        "id": "tzWmA19VUBJJ",
        "colab_type": "text"
      },
      "source": [
        "We'll manually transform columns \"race\", \"age\", \"max_glu_serum\", \"gender\",\"change\", \"diabetesMed\" into numeric data."
      ]
    },
    {
      "cell_type": "markdown",
      "metadata": {
        "id": "v0dvRC7aaCg1",
        "colab_type": "text"
      },
      "source": [
        "Race is transformed into numeric values.\n",
        "\n",
        "1.   \"Other\"               => 0\n",
        "2.   \"Caucasian\"           => 1\n",
        "3.   \"AfricanAmerican\"     => 2\n",
        "4.   \"Asian\"               => 3\n",
        "5.   \"Hispanic\"            => 4\n"
      ]
    },
    {
      "cell_type": "code",
      "metadata": {
        "id": "bIXgywMRYRNk",
        "colab_type": "code",
        "outputId": "41ccf73f-cc54-4caf-ed9f-7c4f980dcb32",
        "colab": {
          "base_uri": "https://localhost:8080/",
          "height": 372
        }
      },
      "source": [
        "diabetic[\"Race\"] = 0\n",
        "diabetic[\"Race\"][diabetic.race==\"Caucasian\"] = 1\n",
        "diabetic[\"Race\"][diabetic.race==\"AfricanAmerican\"] = 2\n",
        "diabetic[\"Race\"][diabetic.race==\"Asian\"] = 3\n",
        "diabetic[\"Race\"][diabetic.race==\"Hispanic\"] = 4"
      ],
      "execution_count": 565,
      "outputs": [
        {
          "output_type": "stream",
          "text": [
            "/usr/local/lib/python3.6/dist-packages/ipykernel_launcher.py:2: SettingWithCopyWarning: \n",
            "A value is trying to be set on a copy of a slice from a DataFrame\n",
            "\n",
            "See the caveats in the documentation: http://pandas.pydata.org/pandas-docs/stable/user_guide/indexing.html#returning-a-view-versus-a-copy\n",
            "  \n",
            "/usr/local/lib/python3.6/dist-packages/ipykernel_launcher.py:3: SettingWithCopyWarning: \n",
            "A value is trying to be set on a copy of a slice from a DataFrame\n",
            "\n",
            "See the caveats in the documentation: http://pandas.pydata.org/pandas-docs/stable/user_guide/indexing.html#returning-a-view-versus-a-copy\n",
            "  This is separate from the ipykernel package so we can avoid doing imports until\n",
            "/usr/local/lib/python3.6/dist-packages/ipykernel_launcher.py:4: SettingWithCopyWarning: \n",
            "A value is trying to be set on a copy of a slice from a DataFrame\n",
            "\n",
            "See the caveats in the documentation: http://pandas.pydata.org/pandas-docs/stable/user_guide/indexing.html#returning-a-view-versus-a-copy\n",
            "  after removing the cwd from sys.path.\n",
            "/usr/local/lib/python3.6/dist-packages/ipykernel_launcher.py:5: SettingWithCopyWarning: \n",
            "A value is trying to be set on a copy of a slice from a DataFrame\n",
            "\n",
            "See the caveats in the documentation: http://pandas.pydata.org/pandas-docs/stable/user_guide/indexing.html#returning-a-view-versus-a-copy\n",
            "  \"\"\"\n"
          ],
          "name": "stderr"
        }
      ]
    },
    {
      "cell_type": "code",
      "metadata": {
        "id": "iwMwTQOFZVvR",
        "colab_type": "code",
        "colab": {}
      },
      "source": [
        "diabetic = diabetic.drop(\"race\",axis=1)"
      ],
      "execution_count": 0,
      "outputs": []
    },
    {
      "cell_type": "markdown",
      "metadata": {
        "id": "vwk6_POIayaR",
        "colab_type": "text"
      },
      "source": [
        "Gender is transformed into numeric values.\n",
        "\n",
        "1.   \"Unknown/Invalid\"  => 0\n",
        "2.   \"Female\"           => 1\n",
        "3.   \"Male\"             => 2"
      ]
    },
    {
      "cell_type": "code",
      "metadata": {
        "id": "ib7IitdMZiY9",
        "colab_type": "code",
        "outputId": "bfef06f2-ffcb-49b6-d3a2-e61af7fdd08f",
        "colab": {
          "base_uri": "https://localhost:8080/",
          "height": 195
        }
      },
      "source": [
        "diabetic[\"Gender\"] = 0\n",
        "diabetic[\"Gender\"][diabetic.gender==\"Female\"] = 1\n",
        "diabetic[\"Gender\"][diabetic.gender==\"Male\"] = 2"
      ],
      "execution_count": 567,
      "outputs": [
        {
          "output_type": "stream",
          "text": [
            "/usr/local/lib/python3.6/dist-packages/ipykernel_launcher.py:2: SettingWithCopyWarning: \n",
            "A value is trying to be set on a copy of a slice from a DataFrame\n",
            "\n",
            "See the caveats in the documentation: http://pandas.pydata.org/pandas-docs/stable/user_guide/indexing.html#returning-a-view-versus-a-copy\n",
            "  \n",
            "/usr/local/lib/python3.6/dist-packages/ipykernel_launcher.py:3: SettingWithCopyWarning: \n",
            "A value is trying to be set on a copy of a slice from a DataFrame\n",
            "\n",
            "See the caveats in the documentation: http://pandas.pydata.org/pandas-docs/stable/user_guide/indexing.html#returning-a-view-versus-a-copy\n",
            "  This is separate from the ipykernel package so we can avoid doing imports until\n"
          ],
          "name": "stderr"
        }
      ]
    },
    {
      "cell_type": "code",
      "metadata": {
        "id": "M-AeSKhoas8o",
        "colab_type": "code",
        "colab": {}
      },
      "source": [
        "diabetic = diabetic.drop(\"gender\",axis=1)"
      ],
      "execution_count": 0,
      "outputs": []
    },
    {
      "cell_type": "markdown",
      "metadata": {
        "id": "LgFSIH08a-I3",
        "colab_type": "text"
      },
      "source": [
        "Age is transformed into numeric values.\n",
        "\n",
        "1.   \"[0-10)\"               => 0\n",
        "2.   \"[10-20)\"              => 1\n",
        "3.   \"[20-30)\"              => 2\n",
        "4.   \"[30-40)\"              => 3\n",
        "5.   \"[40-50)\"              => 4\n",
        "5.   \"[50-60)\"              => 5\n",
        "6.   \"[60-70)\"              => 6\n",
        "7.   \"[70-80)\"              => 7\n",
        "8.   \"[80-90)\"              => 8\n",
        "9.   \"[90-100)\"             => 9"
      ]
    },
    {
      "cell_type": "code",
      "metadata": {
        "id": "47m-Ud0ubiT5",
        "colab_type": "code",
        "outputId": "3b36bf14-82b6-4d3f-e0f9-b4bb487d3b48",
        "colab": {
          "base_uri": "https://localhost:8080/",
          "height": 817
        }
      },
      "source": [
        "diabetic[\"Age\"] = 0\n",
        "diabetic[\"Age\"][diabetic.age==\"[10-20)\"] = 1\n",
        "diabetic[\"Age\"][diabetic.age==\"[20-30)\"] = 2\n",
        "diabetic[\"Age\"][diabetic.age==\"[30-40)\"] = 3\n",
        "diabetic[\"Age\"][diabetic.age==\"[40-50)\"] = 4\n",
        "diabetic[\"Age\"][diabetic.age==\"[50-60)\"] = 5\n",
        "diabetic[\"Age\"][diabetic.age==\"[60-70)\"] = 6\n",
        "diabetic[\"Age\"][diabetic.age==\"[70-80)\"] = 7\n",
        "diabetic[\"Age\"][diabetic.age==\"[80-90)\"] = 8\n",
        "diabetic[\"Age\"][diabetic.age==\"[90-100)\"] = 9\n"
      ],
      "execution_count": 569,
      "outputs": [
        {
          "output_type": "stream",
          "text": [
            "/usr/local/lib/python3.6/dist-packages/ipykernel_launcher.py:2: SettingWithCopyWarning: \n",
            "A value is trying to be set on a copy of a slice from a DataFrame\n",
            "\n",
            "See the caveats in the documentation: http://pandas.pydata.org/pandas-docs/stable/user_guide/indexing.html#returning-a-view-versus-a-copy\n",
            "  \n",
            "/usr/local/lib/python3.6/dist-packages/ipykernel_launcher.py:3: SettingWithCopyWarning: \n",
            "A value is trying to be set on a copy of a slice from a DataFrame\n",
            "\n",
            "See the caveats in the documentation: http://pandas.pydata.org/pandas-docs/stable/user_guide/indexing.html#returning-a-view-versus-a-copy\n",
            "  This is separate from the ipykernel package so we can avoid doing imports until\n",
            "/usr/local/lib/python3.6/dist-packages/ipykernel_launcher.py:4: SettingWithCopyWarning: \n",
            "A value is trying to be set on a copy of a slice from a DataFrame\n",
            "\n",
            "See the caveats in the documentation: http://pandas.pydata.org/pandas-docs/stable/user_guide/indexing.html#returning-a-view-versus-a-copy\n",
            "  after removing the cwd from sys.path.\n",
            "/usr/local/lib/python3.6/dist-packages/ipykernel_launcher.py:5: SettingWithCopyWarning: \n",
            "A value is trying to be set on a copy of a slice from a DataFrame\n",
            "\n",
            "See the caveats in the documentation: http://pandas.pydata.org/pandas-docs/stable/user_guide/indexing.html#returning-a-view-versus-a-copy\n",
            "  \"\"\"\n",
            "/usr/local/lib/python3.6/dist-packages/ipykernel_launcher.py:6: SettingWithCopyWarning: \n",
            "A value is trying to be set on a copy of a slice from a DataFrame\n",
            "\n",
            "See the caveats in the documentation: http://pandas.pydata.org/pandas-docs/stable/user_guide/indexing.html#returning-a-view-versus-a-copy\n",
            "  \n",
            "/usr/local/lib/python3.6/dist-packages/ipykernel_launcher.py:7: SettingWithCopyWarning: \n",
            "A value is trying to be set on a copy of a slice from a DataFrame\n",
            "\n",
            "See the caveats in the documentation: http://pandas.pydata.org/pandas-docs/stable/user_guide/indexing.html#returning-a-view-versus-a-copy\n",
            "  import sys\n",
            "/usr/local/lib/python3.6/dist-packages/ipykernel_launcher.py:8: SettingWithCopyWarning: \n",
            "A value is trying to be set on a copy of a slice from a DataFrame\n",
            "\n",
            "See the caveats in the documentation: http://pandas.pydata.org/pandas-docs/stable/user_guide/indexing.html#returning-a-view-versus-a-copy\n",
            "  \n",
            "/usr/local/lib/python3.6/dist-packages/ipykernel_launcher.py:9: SettingWithCopyWarning: \n",
            "A value is trying to be set on a copy of a slice from a DataFrame\n",
            "\n",
            "See the caveats in the documentation: http://pandas.pydata.org/pandas-docs/stable/user_guide/indexing.html#returning-a-view-versus-a-copy\n",
            "  if __name__ == '__main__':\n",
            "/usr/local/lib/python3.6/dist-packages/ipykernel_launcher.py:10: SettingWithCopyWarning: \n",
            "A value is trying to be set on a copy of a slice from a DataFrame\n",
            "\n",
            "See the caveats in the documentation: http://pandas.pydata.org/pandas-docs/stable/user_guide/indexing.html#returning-a-view-versus-a-copy\n",
            "  # Remove the CWD from sys.path while we load stuff.\n"
          ],
          "name": "stderr"
        }
      ]
    },
    {
      "cell_type": "code",
      "metadata": {
        "id": "C-xtQliScIOK",
        "colab_type": "code",
        "colab": {}
      },
      "source": [
        "diabetic = diabetic.drop(\"age\",axis=1)"
      ],
      "execution_count": 0,
      "outputs": []
    },
    {
      "cell_type": "markdown",
      "metadata": {
        "id": "aAXfXxdpcU3V",
        "colab_type": "text"
      },
      "source": [
        "Change is transformed into numeric values.\n",
        "\n",
        "1.   \"Ch\"               => 0\n",
        "2.   \"No\"               => 1"
      ]
    },
    {
      "cell_type": "code",
      "metadata": {
        "id": "W1G6C6grcZ2o",
        "colab_type": "code",
        "outputId": "c3aef2ba-0332-4488-ce21-58e475e75fc3",
        "colab": {
          "base_uri": "https://localhost:8080/",
          "height": 106
        }
      },
      "source": [
        "diabetic[\"Change\"] = 0\n",
        "diabetic[\"Change\"][diabetic.change==\"No\"] = 1"
      ],
      "execution_count": 571,
      "outputs": [
        {
          "output_type": "stream",
          "text": [
            "/usr/local/lib/python3.6/dist-packages/ipykernel_launcher.py:2: SettingWithCopyWarning: \n",
            "A value is trying to be set on a copy of a slice from a DataFrame\n",
            "\n",
            "See the caveats in the documentation: http://pandas.pydata.org/pandas-docs/stable/user_guide/indexing.html#returning-a-view-versus-a-copy\n",
            "  \n"
          ],
          "name": "stderr"
        }
      ]
    },
    {
      "cell_type": "code",
      "metadata": {
        "id": "Wt4eMBvMckFn",
        "colab_type": "code",
        "colab": {}
      },
      "source": [
        "diabetic = diabetic.drop(\"change\",axis=1)"
      ],
      "execution_count": 0,
      "outputs": []
    },
    {
      "cell_type": "markdown",
      "metadata": {
        "id": "kySNzMfDcuPc",
        "colab_type": "text"
      },
      "source": [
        "DiabetesMed is transformed into numeric values.\n",
        "\n",
        "1.   \"Yes\"               => 0\n",
        "2.   \"No\"                => 1"
      ]
    },
    {
      "cell_type": "code",
      "metadata": {
        "id": "6uEoyOalc_7x",
        "colab_type": "code",
        "outputId": "fcaff1f7-7e25-4350-c064-0dba8e4172e4",
        "colab": {
          "base_uri": "https://localhost:8080/",
          "height": 106
        }
      },
      "source": [
        "diabetic[\"DiabetesMed\"] = 0\n",
        "diabetic[\"DiabetesMed\"][diabetic.diabetesMed==\"No\"] = 1"
      ],
      "execution_count": 573,
      "outputs": [
        {
          "output_type": "stream",
          "text": [
            "/usr/local/lib/python3.6/dist-packages/ipykernel_launcher.py:2: SettingWithCopyWarning: \n",
            "A value is trying to be set on a copy of a slice from a DataFrame\n",
            "\n",
            "See the caveats in the documentation: http://pandas.pydata.org/pandas-docs/stable/user_guide/indexing.html#returning-a-view-versus-a-copy\n",
            "  \n"
          ],
          "name": "stderr"
        }
      ]
    },
    {
      "cell_type": "code",
      "metadata": {
        "id": "kssHVByfdEvW",
        "colab_type": "code",
        "colab": {}
      },
      "source": [
        "diabetic = diabetic.drop(\"diabetesMed\",axis=1)"
      ],
      "execution_count": 0,
      "outputs": []
    },
    {
      "cell_type": "markdown",
      "metadata": {
        "id": "rbv6jMXBgZPd",
        "colab_type": "text"
      },
      "source": [
        "Max_glu_serum is transformed into numeric values.\n",
        "\n",
        "1. \"None\" => 0\n",
        "2. \"Norm\" => 1\n",
        "3. \">200\" => 2\n",
        "4. \">300\" => 3\n"
      ]
    },
    {
      "cell_type": "code",
      "metadata": {
        "id": "Rgxl1H8LhHbU",
        "colab_type": "code",
        "colab": {
          "base_uri": "https://localhost:8080/",
          "height": 284
        },
        "outputId": "364d17a4-ff51-4b8d-c223-4dba224c38de"
      },
      "source": [
        "diabetic[\"Max_glu_serum\"] = 0\n",
        "diabetic[\"Max_glu_serum\"][diabetic.max_glu_serum==\"Norm\"] = 1\n",
        "diabetic[\"Max_glu_serum\"][diabetic.max_glu_serum==\">200\"] = 2\n",
        "diabetic[\"Max_glu_serum\"][diabetic.max_glu_serum==\">300\"] = 3"
      ],
      "execution_count": 575,
      "outputs": [
        {
          "output_type": "stream",
          "text": [
            "/usr/local/lib/python3.6/dist-packages/ipykernel_launcher.py:2: SettingWithCopyWarning: \n",
            "A value is trying to be set on a copy of a slice from a DataFrame\n",
            "\n",
            "See the caveats in the documentation: http://pandas.pydata.org/pandas-docs/stable/user_guide/indexing.html#returning-a-view-versus-a-copy\n",
            "  \n",
            "/usr/local/lib/python3.6/dist-packages/ipykernel_launcher.py:3: SettingWithCopyWarning: \n",
            "A value is trying to be set on a copy of a slice from a DataFrame\n",
            "\n",
            "See the caveats in the documentation: http://pandas.pydata.org/pandas-docs/stable/user_guide/indexing.html#returning-a-view-versus-a-copy\n",
            "  This is separate from the ipykernel package so we can avoid doing imports until\n",
            "/usr/local/lib/python3.6/dist-packages/ipykernel_launcher.py:4: SettingWithCopyWarning: \n",
            "A value is trying to be set on a copy of a slice from a DataFrame\n",
            "\n",
            "See the caveats in the documentation: http://pandas.pydata.org/pandas-docs/stable/user_guide/indexing.html#returning-a-view-versus-a-copy\n",
            "  after removing the cwd from sys.path.\n"
          ],
          "name": "stderr"
        }
      ]
    },
    {
      "cell_type": "code",
      "metadata": {
        "id": "6zPwkvawhZbk",
        "colab_type": "code",
        "colab": {}
      },
      "source": [
        "diabetic = diabetic.drop(\"max_glu_serum\",axis=1)"
      ],
      "execution_count": 0,
      "outputs": []
    },
    {
      "cell_type": "code",
      "metadata": {
        "id": "4zofiQZgZeCj",
        "colab_type": "code",
        "outputId": "0a8402ed-c645-4a9e-bee3-0720219dbd9c",
        "colab": {
          "base_uri": "https://localhost:8080/",
          "height": 906
        }
      },
      "source": [
        "diabetic.info()"
      ],
      "execution_count": 577,
      "outputs": [
        {
          "output_type": "stream",
          "text": [
            "<class 'pandas.core.frame.DataFrame'>\n",
            "Int64Index: 70441 entries, 0 to 101765\n",
            "Data columns (total 45 columns):\n",
            "encounter_id                70441 non-null int64\n",
            "patient_nbr                 70441 non-null int64\n",
            "admission_type_id           70441 non-null int64\n",
            "discharge_disposition_id    70441 non-null int64\n",
            "admission_source_id         70441 non-null int64\n",
            "time_in_hospital            70441 non-null int64\n",
            "num_lab_procedures          70441 non-null int64\n",
            "num_procedures              70441 non-null int64\n",
            "num_medications             70441 non-null int64\n",
            "number_outpatient           70441 non-null int64\n",
            "number_emergency            70441 non-null int64\n",
            "number_inpatient            70441 non-null int64\n",
            "number_diagnoses            70441 non-null int64\n",
            "metformin                   70441 non-null object\n",
            "repaglinide                 70441 non-null object\n",
            "nateglinide                 70441 non-null object\n",
            "chlorpropamide              70441 non-null object\n",
            "glimepiride                 70441 non-null object\n",
            "acetohexamide               70441 non-null object\n",
            "glipizide                   70441 non-null object\n",
            "glyburide                   70441 non-null object\n",
            "tolbutamide                 70441 non-null object\n",
            "pioglitazone                70441 non-null object\n",
            "rosiglitazone               70441 non-null object\n",
            "acarbose                    70441 non-null object\n",
            "miglitol                    70441 non-null object\n",
            "troglitazone                70441 non-null object\n",
            "tolazamide                  70441 non-null object\n",
            "examide                     70441 non-null object\n",
            "citoglipton                 70441 non-null object\n",
            "insulin                     70441 non-null object\n",
            "glyburide-metformin         70441 non-null object\n",
            "glipizide-metformin         70441 non-null object\n",
            "glimepiride-pioglitazone    70441 non-null object\n",
            "metformin-rosiglitazone     70441 non-null object\n",
            "metformin-pioglitazone      70441 non-null object\n",
            "Cons_diag                   70441 non-null int64\n",
            "re_ad                       70441 non-null int64\n",
            "HbA1c                       70441 non-null int64\n",
            "Race                        70441 non-null int64\n",
            "Gender                      70441 non-null int64\n",
            "Age                         70441 non-null int64\n",
            "Change                      70441 non-null int64\n",
            "DiabetesMed                 70441 non-null int64\n",
            "Max_glu_serum               70441 non-null int64\n",
            "dtypes: int64(22), object(23)\n",
            "memory usage: 24.7+ MB\n"
          ],
          "name": "stdout"
        }
      ]
    },
    {
      "cell_type": "markdown",
      "metadata": {
        "id": "IdJrNjFec6iu",
        "colab_type": "text"
      },
      "source": [
        "The dataset contains 23 features for 23 drugs (or combos) which indicate for each of these, whether a change in that medication was made or not during the current hospital stay of patient. Medication change for diabetics upon admission has been shown by previous research to be associated with lower readmission rates.\n",
        "\n",
        "Therefore, we decide to drop these non-numeric columns.\n",
        "\n",
        "reference: https://medium.com/berkeleyischool/how-to-use-machine-learning-to-predict-hospital-readmissions-part-1-bd137cbdba07"
      ]
    },
    {
      "cell_type": "code",
      "metadata": {
        "id": "wF56T5RmdZSo",
        "colab_type": "code",
        "colab": {}
      },
      "source": [
        "diabetic_num = diabetic.drop(['metformin', 'repaglinide', 'nateglinide',\n",
        "                              'chlorpropamide','glimepiride','acetohexamide','glipizide',\n",
        "                              'glyburide','tolbutamide','pioglitazone','rosiglitazone','acarbose',\n",
        "                              'miglitol','troglitazone','tolazamide','examide','citoglipton',\n",
        "                              'insulin','glyburide-metformin','glipizide-metformin',\n",
        "                              'glimepiride-pioglitazone','metformin-rosiglitazone',\n",
        "                              'metformin-pioglitazone'],axis=1)"
      ],
      "execution_count": 0,
      "outputs": []
    },
    {
      "cell_type": "code",
      "metadata": {
        "id": "QJBVP9xvdgpF",
        "colab_type": "code",
        "outputId": "3738de6c-64fd-4ace-8276-d7b177cbe567",
        "colab": {
          "base_uri": "https://localhost:8080/",
          "height": 497
        }
      },
      "source": [
        "diabetic_num.info()"
      ],
      "execution_count": 579,
      "outputs": [
        {
          "output_type": "stream",
          "text": [
            "<class 'pandas.core.frame.DataFrame'>\n",
            "Int64Index: 70441 entries, 0 to 101765\n",
            "Data columns (total 22 columns):\n",
            "encounter_id                70441 non-null int64\n",
            "patient_nbr                 70441 non-null int64\n",
            "admission_type_id           70441 non-null int64\n",
            "discharge_disposition_id    70441 non-null int64\n",
            "admission_source_id         70441 non-null int64\n",
            "time_in_hospital            70441 non-null int64\n",
            "num_lab_procedures          70441 non-null int64\n",
            "num_procedures              70441 non-null int64\n",
            "num_medications             70441 non-null int64\n",
            "number_outpatient           70441 non-null int64\n",
            "number_emergency            70441 non-null int64\n",
            "number_inpatient            70441 non-null int64\n",
            "number_diagnoses            70441 non-null int64\n",
            "Cons_diag                   70441 non-null int64\n",
            "re_ad                       70441 non-null int64\n",
            "HbA1c                       70441 non-null int64\n",
            "Race                        70441 non-null int64\n",
            "Gender                      70441 non-null int64\n",
            "Age                         70441 non-null int64\n",
            "Change                      70441 non-null int64\n",
            "DiabetesMed                 70441 non-null int64\n",
            "Max_glu_serum               70441 non-null int64\n",
            "dtypes: int64(22)\n",
            "memory usage: 12.4 MB\n"
          ],
          "name": "stdout"
        }
      ]
    },
    {
      "cell_type": "markdown",
      "metadata": {
        "id": "7AvaATxYdkRm",
        "colab_type": "text"
      },
      "source": [
        "Let's run the corr-matrix again."
      ]
    },
    {
      "cell_type": "code",
      "metadata": {
        "id": "ZQUhCw_ee18L",
        "colab_type": "code",
        "outputId": "24e91284-9571-4b8d-9cf7-f74d5f67975f",
        "colab": {
          "base_uri": "https://localhost:8080/",
          "height": 426
        }
      },
      "source": [
        "corr_matrix = diabetic_num.corr()\n",
        "corr_matrix[\"Cons_diag\"].sort_values(ascending=False)"
      ],
      "execution_count": 580,
      "outputs": [
        {
          "output_type": "execute_result",
          "data": {
            "text/plain": [
              "Cons_diag                   1.000000\n",
              "HbA1c                       0.123378\n",
              "Race                        0.056638\n",
              "Max_glu_serum               0.035608\n",
              "admission_type_id           0.029707\n",
              "number_emergency            0.008659\n",
              "Gender                      0.001255\n",
              "re_ad                      -0.010278\n",
              "admission_source_id        -0.022414\n",
              "discharge_disposition_id   -0.024340\n",
              "number_inpatient           -0.027235\n",
              "number_outpatient          -0.027827\n",
              "DiabetesMed                -0.066659\n",
              "num_lab_procedures         -0.066782\n",
              "Change                     -0.068617\n",
              "num_procedures             -0.094242\n",
              "patient_nbr                -0.094585\n",
              "encounter_id               -0.106001\n",
              "time_in_hospital           -0.136866\n",
              "num_medications            -0.142426\n",
              "Age                        -0.250490\n",
              "number_diagnoses           -0.418840\n",
              "Name: Cons_diag, dtype: float64"
            ]
          },
          "metadata": {
            "tags": []
          },
          "execution_count": 580
        }
      ]
    },
    {
      "cell_type": "markdown",
      "metadata": {
        "id": "rjlZH5DDe83Y",
        "colab_type": "text"
      },
      "source": [
        "After taking \"race\", \"age\", \"gender\",\"change\", \"max_glu_serum\" and \"diabetesMed\" into consideration, the column with the highest correlation to \"Cons_diag\" is \"number_diagnoses\", followed by \"Age\"."
      ]
    },
    {
      "cell_type": "code",
      "metadata": {
        "id": "bfcK11lfpRW6",
        "colab_type": "code",
        "outputId": "18781d31-6590-4fa8-ca47-4b747ba187f3",
        "colab": {
          "base_uri": "https://localhost:8080/",
          "height": 604
        }
      },
      "source": [
        "attributes = [\"Cons_diag\", \"number_diagnoses\", \"Age\", \"num_medications\", \"HbA1c\"]\n",
        "scatter_matrix(diabetic_num[attributes], figsize=(12, 8))\n",
        "save_fig(\"scatter_matrix_plot\")"
      ],
      "execution_count": 581,
      "outputs": [
        {
          "output_type": "stream",
          "text": [
            "Saving figure scatter_matrix_plot\n"
          ],
          "name": "stdout"
        },
        {
          "output_type": "display_data",
          "data": {
            "image/png": "[encoded data removed]",
            "text/plain": [
              "<Figure size 864x576 with 25 Axes>"
            ]
          },
          "metadata": {
            "tags": []
          }
        }
      ]
    },
    {
      "cell_type": "code",
      "metadata": {
        "id": "GPZ9XyyufjPX",
        "colab_type": "code",
        "outputId": "10e4a349-680f-4a73-d255-5c22725f54f4",
        "colab": {
          "base_uri": "https://localhost:8080/",
          "height": 426
        }
      },
      "source": [
        "corr_matrix[\"re_ad\"].sort_values(ascending=False)"
      ],
      "execution_count": 582,
      "outputs": [
        {
          "output_type": "execute_result",
          "data": {
            "text/plain": [
              "re_ad                       1.000000\n",
              "number_inpatient            0.100671\n",
              "discharge_disposition_id    0.065299\n",
              "time_in_hospital            0.054757\n",
              "Age                         0.045701\n",
              "number_diagnoses            0.044247\n",
              "num_medications             0.036067\n",
              "num_lab_procedures          0.031682\n",
              "number_emergency            0.028190\n",
              "Max_glu_serum               0.009238\n",
              "number_outpatient           0.008764\n",
              "admission_source_id         0.005402\n",
              "patient_nbr                 0.005099\n",
              "num_procedures              0.000068\n",
              "admission_type_id          -0.001643\n",
              "Gender                     -0.002167\n",
              "Race                       -0.002371\n",
              "HbA1c                      -0.009570\n",
              "Cons_diag                  -0.010278\n",
              "Change                     -0.015013\n",
              "DiabetesMed                -0.028076\n",
              "encounter_id               -0.047624\n",
              "Name: re_ad, dtype: float64"
            ]
          },
          "metadata": {
            "tags": []
          },
          "execution_count": 582
        }
      ]
    },
    {
      "cell_type": "markdown",
      "metadata": {
        "id": "T5Blxbq6ftdv",
        "colab_type": "text"
      },
      "source": [
        "The columns with the highese correlation to \"re_ad\" is \"number_inpatient\", but the correlation is pretty low."
      ]
    },
    {
      "cell_type": "markdown",
      "metadata": {
        "id": "69iuZIKc29jU",
        "colab_type": "text"
      },
      "source": [
        "# Random Forrest Classifier Model"
      ]
    },
    {
      "cell_type": "code",
      "metadata": {
        "id": "VOoB9In7mtAu",
        "colab_type": "code",
        "outputId": "94d43592-2076-443f-9c64-d7df7a63b47c",
        "colab": {
          "base_uri": "https://localhost:8080/",
          "height": 35
        }
      },
      "source": [
        "train_set, test_set = split_train_test(diabetic_num, 0.2)\n",
        "len(train_set)"
      ],
      "execution_count": 583,
      "outputs": [
        {
          "output_type": "execute_result",
          "data": {
            "text/plain": [
              "56353"
            ]
          },
          "metadata": {
            "tags": []
          },
          "execution_count": 583
        }
      ]
    },
    {
      "cell_type": "code",
      "metadata": {
        "id": "Mc22lAJimvFa",
        "colab_type": "code",
        "outputId": "aacfd145-b4a6-4694-8d19-65e61f13b744",
        "colab": {
          "base_uri": "https://localhost:8080/",
          "height": 35
        }
      },
      "source": [
        "train_set.shape"
      ],
      "execution_count": 584,
      "outputs": [
        {
          "output_type": "execute_result",
          "data": {
            "text/plain": [
              "(56353, 22)"
            ]
          },
          "metadata": {
            "tags": []
          },
          "execution_count": 584
        }
      ]
    },
    {
      "cell_type": "code",
      "metadata": {
        "id": "D27Jjs0bnCLk",
        "colab_type": "code",
        "colab": {}
      },
      "source": [
        "diabetic_train = train_set.drop(\"Cons_diag\", axis=1) # drop labels for training set\n",
        "diabetic_train = diabetic_train.drop(\"re_ad\", axis=1)\n",
        "dia_labels_diag = train_set[\"Cons_diag\"].copy()\n",
        "dia_labels_read = train_set[\"re_ad\"].copy()"
      ],
      "execution_count": 0,
      "outputs": []
    },
    {
      "cell_type": "code",
      "metadata": {
        "id": "AIP6m4QFnF81",
        "colab_type": "code",
        "colab": {}
      },
      "source": [
        "test_labels_diag = test_set[\"Cons_diag\"].copy()\n",
        "test_labels_read = test_set[\"re_ad\"].copy()\n",
        "diabetic_test = test_set.drop(\"Cons_diag\", axis=1) # drop labels for testing set\n",
        "diabetic_test = diabetic_test.drop(\"re_ad\", axis=1)"
      ],
      "execution_count": 0,
      "outputs": []
    },
    {
      "cell_type": "code",
      "metadata": {
        "id": "PvUWxE7inPCN",
        "colab_type": "code",
        "outputId": "81f3151b-a390-4856-d639-d025e2a87819",
        "colab": {
          "base_uri": "https://localhost:8080/",
          "height": 35
        }
      },
      "source": [
        "diabetic_train.shape"
      ],
      "execution_count": 587,
      "outputs": [
        {
          "output_type": "execute_result",
          "data": {
            "text/plain": [
              "(56353, 20)"
            ]
          },
          "metadata": {
            "tags": []
          },
          "execution_count": 587
        }
      ]
    },
    {
      "cell_type": "code",
      "metadata": {
        "id": "3zl7nrYynTRX",
        "colab_type": "code",
        "outputId": "1d05c7d4-0d9f-4d81-a0eb-9d39b0ce76fc",
        "colab": {
          "base_uri": "https://localhost:8080/",
          "height": 35
        }
      },
      "source": [
        "diabetic_test.shape"
      ],
      "execution_count": 588,
      "outputs": [
        {
          "output_type": "execute_result",
          "data": {
            "text/plain": [
              "(14088, 20)"
            ]
          },
          "metadata": {
            "tags": []
          },
          "execution_count": 588
        }
      ]
    },
    {
      "cell_type": "markdown",
      "metadata": {
        "id": "LcherHnUnwTB",
        "colab_type": "text"
      },
      "source": [
        "Scaling the data."
      ]
    },
    {
      "cell_type": "code",
      "metadata": {
        "id": "dFdshOarntVu",
        "colab_type": "code",
        "colab": {}
      },
      "source": [
        "dia_tr = num_pipeline.fit_transform(train_set)"
      ],
      "execution_count": 0,
      "outputs": []
    },
    {
      "cell_type": "code",
      "metadata": {
        "id": "NVTFGE6Jsh9L",
        "colab_type": "code",
        "colab": {}
      },
      "source": [
        "dia_te = num_pipeline.fit_transform(test_set)"
      ],
      "execution_count": 0,
      "outputs": []
    },
    {
      "cell_type": "markdown",
      "metadata": {
        "id": "m7AgXP322cjG",
        "colab_type": "text"
      },
      "source": [
        "Train a Random Forest classifier on the dataset "
      ]
    },
    {
      "cell_type": "code",
      "metadata": {
        "id": "NFORPUQk20lA",
        "colab_type": "code",
        "colab": {}
      },
      "source": [
        "from sklearn.ensemble import RandomForestClassifier\n",
        "\n",
        "rnd_clf = RandomForestClassifier(n_estimators=100, random_state=42)"
      ],
      "execution_count": 0,
      "outputs": []
    },
    {
      "cell_type": "code",
      "metadata": {
        "id": "gbnahp0LRLBh",
        "colab_type": "code",
        "outputId": "f339c9f1-d333-4ceb-98e6-f66c43bd0933",
        "colab": {
          "base_uri": "https://localhost:8080/",
          "height": 35
        }
      },
      "source": [
        "import time\n",
        "t0 = time.time()\n",
        "rnd_clf.fit(dia_tr, dia_labels_diag)\n",
        "t1 = time.time()\n",
        "print(\"Training took {:.2f}s\".format(t1 - t0))"
      ],
      "execution_count": 592,
      "outputs": [
        {
          "output_type": "stream",
          "text": [
            "Training took 3.44s\n"
          ],
          "name": "stdout"
        }
      ]
    },
    {
      "cell_type": "markdown",
      "metadata": {
        "id": "OmtLQQJIrZLP",
        "colab_type": "text"
      },
      "source": [
        "Accuracy score for predicting diagnoses of diabetes."
      ]
    },
    {
      "cell_type": "code",
      "metadata": {
        "id": "Uo98TPNKRaza",
        "colab_type": "code",
        "outputId": "a362f7de-4867-4cdf-8c92-1ddbb2abf950",
        "colab": {
          "base_uri": "https://localhost:8080/",
          "height": 35
        }
      },
      "source": [
        "from sklearn.metrics import accuracy_score\n",
        "dia_pred = rnd_clf.predict(dia_te)\n",
        "as_rf_diag = accuracy_score(test_labels_diag, dia_pred)\n",
        "as_rf_diag"
      ],
      "execution_count": 593,
      "outputs": [
        {
          "output_type": "execute_result",
          "data": {
            "text/plain": [
              "1.0"
            ]
          },
          "metadata": {
            "tags": []
          },
          "execution_count": 593
        }
      ]
    },
    {
      "cell_type": "markdown",
      "metadata": {
        "id": "huwJGIIGpQnB",
        "colab_type": "text"
      },
      "source": [
        "Confusion Matrix, Precision and Recall for Prediction of Diagnoses for diabetes."
      ]
    },
    {
      "cell_type": "code",
      "metadata": {
        "id": "IygABqWLwdAi",
        "colab_type": "code",
        "outputId": "251d92bc-5344-46c1-d35d-a3d11872cee2",
        "colab": {
          "base_uri": "https://localhost:8080/",
          "height": 52
        }
      },
      "source": [
        "from sklearn.metrics import confusion_matrix\n",
        "confusion_matrix(test_labels_diag, dia_pred)"
      ],
      "execution_count": 594,
      "outputs": [
        {
          "output_type": "execute_result",
          "data": {
            "text/plain": [
              "array([[8597,    0],\n",
              "       [   0, 5491]])"
            ]
          },
          "metadata": {
            "tags": []
          },
          "execution_count": 594
        }
      ]
    },
    {
      "cell_type": "code",
      "metadata": {
        "id": "9UF4eu-Jo_Jb",
        "colab_type": "code",
        "outputId": "5deda762-86e3-4605-fe3b-525c3dd74de6",
        "colab": {
          "base_uri": "https://localhost:8080/",
          "height": 35
        }
      },
      "source": [
        "from sklearn.metrics import precision_score, recall_score\n",
        "ps_rf_diag = precision_score(test_labels_diag, dia_pred)\n",
        "ps_rf_diag"
      ],
      "execution_count": 595,
      "outputs": [
        {
          "output_type": "execute_result",
          "data": {
            "text/plain": [
              "1.0"
            ]
          },
          "metadata": {
            "tags": []
          },
          "execution_count": 595
        }
      ]
    },
    {
      "cell_type": "code",
      "metadata": {
        "id": "GHTs2UZMpPBT",
        "colab_type": "code",
        "outputId": "3284a3af-9eee-4eee-cf0f-12a096ed8472",
        "colab": {
          "base_uri": "https://localhost:8080/",
          "height": 35
        }
      },
      "source": [
        "rs_rf_diag = recall_score(test_labels_diag, dia_pred)\n",
        "rs_rf_diag"
      ],
      "execution_count": 596,
      "outputs": [
        {
          "output_type": "execute_result",
          "data": {
            "text/plain": [
              "1.0"
            ]
          },
          "metadata": {
            "tags": []
          },
          "execution_count": 596
        }
      ]
    },
    {
      "cell_type": "markdown",
      "metadata": {
        "id": "RuebNyAXrfLJ",
        "colab_type": "text"
      },
      "source": [
        "Accuracy score for predicting re-admitted."
      ]
    },
    {
      "cell_type": "code",
      "metadata": {
        "id": "LMGywCXItq2E",
        "colab_type": "code",
        "outputId": "713483a3-63c0-4755-fc82-50946feb552a",
        "colab": {
          "base_uri": "https://localhost:8080/",
          "height": 35
        }
      },
      "source": [
        "rnd_clf.fit(dia_tr, dia_labels_read)\n",
        "read_pred = rnd_clf.predict(dia_te)\n",
        "as_rf_read = accuracy_score(test_labels_read, read_pred)\n",
        "as_rf_read"
      ],
      "execution_count": 597,
      "outputs": [
        {
          "output_type": "execute_result",
          "data": {
            "text/plain": [
              "1.0"
            ]
          },
          "metadata": {
            "tags": []
          },
          "execution_count": 597
        }
      ]
    },
    {
      "cell_type": "markdown",
      "metadata": {
        "id": "pTqt4Hnbqa4R",
        "colab_type": "text"
      },
      "source": [
        "Confusion Matrix, Precision and Recall for Prediction of re-admitted."
      ]
    },
    {
      "cell_type": "code",
      "metadata": {
        "id": "QPR1pngKPxn9",
        "colab_type": "code",
        "outputId": "659033fa-00c9-4f30-874a-d93424be89b1",
        "colab": {
          "base_uri": "https://localhost:8080/",
          "height": 52
        }
      },
      "source": [
        "confusion_matrix(test_labels_read, read_pred)"
      ],
      "execution_count": 598,
      "outputs": [
        {
          "output_type": "execute_result",
          "data": {
            "text/plain": [
              "array([[12854,     0],\n",
              "       [    0,  1234]])"
            ]
          },
          "metadata": {
            "tags": []
          },
          "execution_count": 598
        }
      ]
    },
    {
      "cell_type": "code",
      "metadata": {
        "id": "DmitIE6AqgX_",
        "colab_type": "code",
        "outputId": "592d6669-f17a-4cf6-823e-4e6333a82670",
        "colab": {
          "base_uri": "https://localhost:8080/",
          "height": 35
        }
      },
      "source": [
        "ps_rf_read = precision_score(test_labels_read, read_pred)\n",
        "ps_rf_read"
      ],
      "execution_count": 599,
      "outputs": [
        {
          "output_type": "execute_result",
          "data": {
            "text/plain": [
              "1.0"
            ]
          },
          "metadata": {
            "tags": []
          },
          "execution_count": 599
        }
      ]
    },
    {
      "cell_type": "code",
      "metadata": {
        "id": "ynRXeS4ZqqUo",
        "colab_type": "code",
        "outputId": "fe98d019-3a73-4bfc-fe27-e9359ff72e04",
        "colab": {
          "base_uri": "https://localhost:8080/",
          "height": 35
        }
      },
      "source": [
        "rs_rf_read = recall_score(test_labels_read, read_pred)\n",
        "rs_rf_read"
      ],
      "execution_count": 600,
      "outputs": [
        {
          "output_type": "execute_result",
          "data": {
            "text/plain": [
              "1.0"
            ]
          },
          "metadata": {
            "tags": []
          },
          "execution_count": 600
        }
      ]
    },
    {
      "cell_type": "markdown",
      "metadata": {
        "id": "HZMC5ZtDtUWL",
        "colab_type": "text"
      },
      "source": [
        "Let's try using k-cross validation."
      ]
    },
    {
      "cell_type": "code",
      "metadata": {
        "id": "khmDQSmttfK4",
        "colab_type": "code",
        "outputId": "42c64d7d-f57b-49c8-8482-f4904dd3cbfe",
        "colab": {
          "base_uri": "https://localhost:8080/",
          "height": 35
        }
      },
      "source": [
        "from sklearn.model_selection import cross_val_score\n",
        "RFCscore_d = cross_val_score(rnd_clf, dia_tr, dia_labels_diag, cv=5, scoring=\"accuracy\")\n",
        "RFCscore_d"
      ],
      "execution_count": 601,
      "outputs": [
        {
          "output_type": "execute_result",
          "data": {
            "text/plain": [
              "array([1., 1., 1., 1., 1.])"
            ]
          },
          "metadata": {
            "tags": []
          },
          "execution_count": 601
        }
      ]
    },
    {
      "cell_type": "code",
      "metadata": {
        "id": "fZr2f_wyuS7A",
        "colab_type": "code",
        "outputId": "e390b9fc-e248-41f1-dbad-a33d7ac876bc",
        "colab": {
          "base_uri": "https://localhost:8080/",
          "height": 35
        }
      },
      "source": [
        "RFCscore_r = cross_val_score(rnd_clf, dia_tr, dia_labels_read, cv=5, scoring=\"accuracy\")\n",
        "RFCscore_r"
      ],
      "execution_count": 602,
      "outputs": [
        {
          "output_type": "execute_result",
          "data": {
            "text/plain": [
              "array([1., 1., 1., 1., 1.])"
            ]
          },
          "metadata": {
            "tags": []
          },
          "execution_count": 602
        }
      ]
    },
    {
      "cell_type": "markdown",
      "metadata": {
        "id": "oa4zRiaTqzNO",
        "colab_type": "text"
      },
      "source": [
        "# SVM Model"
      ]
    },
    {
      "cell_type": "markdown",
      "metadata": {
        "id": "MEZXtrCXuRb_",
        "colab_type": "text"
      },
      "source": [
        "# Linear Kernel"
      ]
    },
    {
      "cell_type": "code",
      "metadata": {
        "id": "v4P6tdLLq29_",
        "colab_type": "code",
        "outputId": "e3d0abb7-292f-41bc-e05d-e6bf961c9148",
        "colab": {
          "base_uri": "https://localhost:8080/",
          "height": 159
        }
      },
      "source": [
        "from sklearn.svm import SVC\n",
        "from sklearn.svm import LinearSVC\n",
        "svm_clf = Pipeline([(\"linear_svc\", LinearSVC(C=1, loss=\"hinge\", random_state=42)),])\n",
        "svm_clf.fit(dia_tr, dia_labels_diag)\n"
      ],
      "execution_count": 603,
      "outputs": [
        {
          "output_type": "execute_result",
          "data": {
            "text/plain": [
              "Pipeline(memory=None,\n",
              "         steps=[('linear_svc',\n",
              "                 LinearSVC(C=1, class_weight=None, dual=True,\n",
              "                           fit_intercept=True, intercept_scaling=1,\n",
              "                           loss='hinge', max_iter=1000, multi_class='ovr',\n",
              "                           penalty='l2', random_state=42, tol=0.0001,\n",
              "                           verbose=0))],\n",
              "         verbose=False)"
            ]
          },
          "metadata": {
            "tags": []
          },
          "execution_count": 603
        }
      ]
    },
    {
      "cell_type": "code",
      "metadata": {
        "id": "cAO2n8Qctsr4",
        "colab_type": "code",
        "colab": {}
      },
      "source": [
        "svm_dia_pred = svm_clf.predict(dia_te)"
      ],
      "execution_count": 0,
      "outputs": []
    },
    {
      "cell_type": "code",
      "metadata": {
        "id": "_oN8vX9Nt2WD",
        "colab_type": "code",
        "outputId": "0db1e29d-6815-4c39-a96f-7b1ebdd0564d",
        "colab": {
          "base_uri": "https://localhost:8080/",
          "height": 35
        }
      },
      "source": [
        "as_svm_diag = accuracy_score(test_labels_diag, svm_dia_pred)\n",
        "as_svm_diag"
      ],
      "execution_count": 605,
      "outputs": [
        {
          "output_type": "execute_result",
          "data": {
            "text/plain": [
              "1.0"
            ]
          },
          "metadata": {
            "tags": []
          },
          "execution_count": 605
        }
      ]
    },
    {
      "cell_type": "code",
      "metadata": {
        "id": "57lS8DQy0PME",
        "colab_type": "code",
        "outputId": "aeaca003-74a9-4e29-cbf9-fd6b56e4cb3f",
        "colab": {
          "base_uri": "https://localhost:8080/",
          "height": 35
        }
      },
      "source": [
        "SVMCscore_d = cross_val_score(svm_clf, dia_tr, dia_labels_diag, cv=5, scoring=\"accuracy\")\n",
        "SVMCscore_d"
      ],
      "execution_count": 606,
      "outputs": [
        {
          "output_type": "execute_result",
          "data": {
            "text/plain": [
              "array([1., 1., 1., 1., 1.])"
            ]
          },
          "metadata": {
            "tags": []
          },
          "execution_count": 606
        }
      ]
    },
    {
      "cell_type": "markdown",
      "metadata": {
        "id": "L_YTILdvuIA0",
        "colab_type": "text"
      },
      "source": [
        "Confusion Matrix, Precision and Recall for Prediction of Diagnoses for diabetes."
      ]
    },
    {
      "cell_type": "code",
      "metadata": {
        "id": "UTq981WMuI5T",
        "colab_type": "code",
        "outputId": "fbe41b2f-9e51-4476-cf54-4d3da012003c",
        "colab": {
          "base_uri": "https://localhost:8080/",
          "height": 52
        }
      },
      "source": [
        "confusion_matrix(test_labels_diag, svm_dia_pred)"
      ],
      "execution_count": 607,
      "outputs": [
        {
          "output_type": "execute_result",
          "data": {
            "text/plain": [
              "array([[8597,    0],\n",
              "       [   0, 5491]])"
            ]
          },
          "metadata": {
            "tags": []
          },
          "execution_count": 607
        }
      ]
    },
    {
      "cell_type": "code",
      "metadata": {
        "id": "pXdkLlX_uPue",
        "colab_type": "code",
        "outputId": "27b78535-1d99-4175-ecea-80867466b785",
        "colab": {
          "base_uri": "https://localhost:8080/",
          "height": 35
        }
      },
      "source": [
        "ps_svm_diag = precision_score(test_labels_diag, svm_dia_pred)\n",
        "ps_svm_diag"
      ],
      "execution_count": 608,
      "outputs": [
        {
          "output_type": "execute_result",
          "data": {
            "text/plain": [
              "1.0"
            ]
          },
          "metadata": {
            "tags": []
          },
          "execution_count": 608
        }
      ]
    },
    {
      "cell_type": "code",
      "metadata": {
        "id": "Lwz4ExhauXYw",
        "colab_type": "code",
        "outputId": "38670fb4-72df-4d07-f4ae-c66b9ecd9d96",
        "colab": {
          "base_uri": "https://localhost:8080/",
          "height": 35
        }
      },
      "source": [
        "rs_svm_diag = recall_score(test_labels_diag, svm_dia_pred)\n",
        "rs_svm_diag"
      ],
      "execution_count": 609,
      "outputs": [
        {
          "output_type": "execute_result",
          "data": {
            "text/plain": [
              "1.0"
            ]
          },
          "metadata": {
            "tags": []
          },
          "execution_count": 609
        }
      ]
    },
    {
      "cell_type": "code",
      "metadata": {
        "id": "dZ6e1sh9ulfJ",
        "colab_type": "code",
        "colab": {}
      },
      "source": [
        "svm_clf.fit(dia_tr, dia_labels_read)\n",
        "svm_read_pred = svm_clf.predict(dia_te)"
      ],
      "execution_count": 0,
      "outputs": []
    },
    {
      "cell_type": "code",
      "metadata": {
        "id": "FxbbDESEuw-m",
        "colab_type": "code",
        "outputId": "e816d5e6-9fbc-4f1b-eff0-1577823bcffa",
        "colab": {
          "base_uri": "https://localhost:8080/",
          "height": 35
        }
      },
      "source": [
        "as_svm_read = accuracy_score(test_labels_read, svm_read_pred)\n",
        "as_svm_read"
      ],
      "execution_count": 611,
      "outputs": [
        {
          "output_type": "execute_result",
          "data": {
            "text/plain": [
              "1.0"
            ]
          },
          "metadata": {
            "tags": []
          },
          "execution_count": 611
        }
      ]
    },
    {
      "cell_type": "code",
      "metadata": {
        "id": "WRwpa8SI0YXA",
        "colab_type": "code",
        "outputId": "1a27744f-6e59-4758-ba8f-93055b9dfe0c",
        "colab": {
          "base_uri": "https://localhost:8080/",
          "height": 35
        }
      },
      "source": [
        "SVMCscore_r = cross_val_score(svm_clf, dia_tr, dia_labels_read, cv=5, scoring=\"accuracy\")\n",
        "SVMCscore_r"
      ],
      "execution_count": 612,
      "outputs": [
        {
          "output_type": "execute_result",
          "data": {
            "text/plain": [
              "array([1., 1., 1., 1., 1.])"
            ]
          },
          "metadata": {
            "tags": []
          },
          "execution_count": 612
        }
      ]
    },
    {
      "cell_type": "markdown",
      "metadata": {
        "id": "XhjTdbQHvPVj",
        "colab_type": "text"
      },
      "source": [
        "Confusion Matrix, Precision and Recall for Prediction of re-admitted."
      ]
    },
    {
      "cell_type": "code",
      "metadata": {
        "id": "QqvOn63O13Q8",
        "colab_type": "code",
        "outputId": "c623b8df-ea43-48af-9298-ade12dd0638c",
        "colab": {
          "base_uri": "https://localhost:8080/",
          "height": 52
        }
      },
      "source": [
        "confusion_matrix(test_labels_read, svm_read_pred)"
      ],
      "execution_count": 613,
      "outputs": [
        {
          "output_type": "execute_result",
          "data": {
            "text/plain": [
              "array([[12854,     0],\n",
              "       [    0,  1234]])"
            ]
          },
          "metadata": {
            "tags": []
          },
          "execution_count": 613
        }
      ]
    },
    {
      "cell_type": "code",
      "metadata": {
        "id": "iakrM6p6u6AP",
        "colab_type": "code",
        "outputId": "c8b6f44b-687b-4613-af37-fc770cf0ad2c",
        "colab": {
          "base_uri": "https://localhost:8080/",
          "height": 35
        }
      },
      "source": [
        "ps_svm_read = precision_score(test_labels_read, svm_read_pred)\n",
        "ps_svm_read"
      ],
      "execution_count": 614,
      "outputs": [
        {
          "output_type": "execute_result",
          "data": {
            "text/plain": [
              "1.0"
            ]
          },
          "metadata": {
            "tags": []
          },
          "execution_count": 614
        }
      ]
    },
    {
      "cell_type": "code",
      "metadata": {
        "id": "HXfSobU6u9CN",
        "colab_type": "code",
        "outputId": "b12b3ac8-0659-4325-b773-9e65c1ca7d78",
        "colab": {
          "base_uri": "https://localhost:8080/",
          "height": 35
        }
      },
      "source": [
        "rs_svm_read = recall_score(test_labels_read, svm_read_pred)\n",
        "rs_svm_read"
      ],
      "execution_count": 615,
      "outputs": [
        {
          "output_type": "execute_result",
          "data": {
            "text/plain": [
              "1.0"
            ]
          },
          "metadata": {
            "tags": []
          },
          "execution_count": 615
        }
      ]
    },
    {
      "cell_type": "markdown",
      "metadata": {
        "id": "OQSrfrSzykIb",
        "colab_type": "text"
      },
      "source": [
        "Let's using SGDClassifier."
      ]
    },
    {
      "cell_type": "code",
      "metadata": {
        "id": "A1__j6eFyocL",
        "colab_type": "code",
        "outputId": "9901966c-e52c-4609-cee8-ee59a40a7c7a",
        "colab": {
          "base_uri": "https://localhost:8080/",
          "height": 124
        }
      },
      "source": [
        "from sklearn.linear_model import SGDClassifier\n",
        "\n",
        "sgd_clf = SGDClassifier(max_iter=1000, tol=1e-3, random_state=42)\n",
        "sgd_clf.fit(dia_tr, dia_labels_diag)\n"
      ],
      "execution_count": 616,
      "outputs": [
        {
          "output_type": "execute_result",
          "data": {
            "text/plain": [
              "SGDClassifier(alpha=0.0001, average=False, class_weight=None,\n",
              "              early_stopping=False, epsilon=0.1, eta0=0.0, fit_intercept=True,\n",
              "              l1_ratio=0.15, learning_rate='optimal', loss='hinge',\n",
              "              max_iter=1000, n_iter_no_change=5, n_jobs=None, penalty='l2',\n",
              "              power_t=0.5, random_state=42, shuffle=True, tol=0.001,\n",
              "              validation_fraction=0.1, verbose=0, warm_start=False)"
            ]
          },
          "metadata": {
            "tags": []
          },
          "execution_count": 616
        }
      ]
    },
    {
      "cell_type": "code",
      "metadata": {
        "id": "8bMzaQON1p-k",
        "colab_type": "code",
        "colab": {}
      },
      "source": [
        "sgd_dia_pred =sgd_clf.predict(dia_te)"
      ],
      "execution_count": 0,
      "outputs": []
    },
    {
      "cell_type": "code",
      "metadata": {
        "id": "c5b8PAgV1uDy",
        "colab_type": "code",
        "outputId": "9c594e4f-df26-489f-fd2a-493abe8aec4c",
        "colab": {
          "base_uri": "https://localhost:8080/",
          "height": 35
        }
      },
      "source": [
        "as_sgd_diag = accuracy_score(test_labels_diag, sgd_dia_pred)\n",
        "as_sgd_diag"
      ],
      "execution_count": 618,
      "outputs": [
        {
          "output_type": "execute_result",
          "data": {
            "text/plain": [
              "0.9999290176036343"
            ]
          },
          "metadata": {
            "tags": []
          },
          "execution_count": 618
        }
      ]
    },
    {
      "cell_type": "code",
      "metadata": {
        "id": "JH1ay_VbjLbT",
        "colab_type": "code",
        "colab": {
          "base_uri": "https://localhost:8080/",
          "height": 35
        },
        "outputId": "c4fd6e49-c917-4212-cfcd-40dbfffacfa5"
      },
      "source": [
        "SGDCscore_d = cross_val_score(sgd_clf, dia_tr, dia_labels_diag, cv=5, scoring=\"accuracy\")\n",
        "SGDCscore_d"
      ],
      "execution_count": 619,
      "outputs": [
        {
          "output_type": "execute_result",
          "data": {
            "text/plain": [
              "array([1.        , 1.        , 0.99813681, 1.        , 1.        ])"
            ]
          },
          "metadata": {
            "tags": []
          },
          "execution_count": 619
        }
      ]
    },
    {
      "cell_type": "code",
      "metadata": {
        "id": "ioCVt_c71-s7",
        "colab_type": "code",
        "outputId": "630e5b7c-6b61-4d36-d003-29b65477dcd6",
        "colab": {
          "base_uri": "https://localhost:8080/",
          "height": 52
        }
      },
      "source": [
        "confusion_matrix(test_labels_diag, sgd_dia_pred)"
      ],
      "execution_count": 620,
      "outputs": [
        {
          "output_type": "execute_result",
          "data": {
            "text/plain": [
              "array([[8596,    1],\n",
              "       [   0, 5491]])"
            ]
          },
          "metadata": {
            "tags": []
          },
          "execution_count": 620
        }
      ]
    },
    {
      "cell_type": "code",
      "metadata": {
        "id": "wEnrI9R_2A5f",
        "colab_type": "code",
        "outputId": "b85bb058-c212-4f9c-cd26-851bd088f8aa",
        "colab": {
          "base_uri": "https://localhost:8080/",
          "height": 35
        }
      },
      "source": [
        "ps_sgd_diag = precision_score(test_labels_diag, sgd_dia_pred)\n",
        "ps_sgd_diag"
      ],
      "execution_count": 621,
      "outputs": [
        {
          "output_type": "execute_result",
          "data": {
            "text/plain": [
              "0.9998179169701383"
            ]
          },
          "metadata": {
            "tags": []
          },
          "execution_count": 621
        }
      ]
    },
    {
      "cell_type": "code",
      "metadata": {
        "id": "BZg9N6Ry2EVk",
        "colab_type": "code",
        "outputId": "5c46b6c7-e6c4-4be2-ec24-455e8b600a13",
        "colab": {
          "base_uri": "https://localhost:8080/",
          "height": 35
        }
      },
      "source": [
        "rs_sgd_diag = recall_score(test_labels_diag, sgd_dia_pred)\n",
        "rs_sgd_diag"
      ],
      "execution_count": 622,
      "outputs": [
        {
          "output_type": "execute_result",
          "data": {
            "text/plain": [
              "1.0"
            ]
          },
          "metadata": {
            "tags": []
          },
          "execution_count": 622
        }
      ]
    },
    {
      "cell_type": "code",
      "metadata": {
        "id": "Vafydie-2HZ2",
        "colab_type": "code",
        "colab": {}
      },
      "source": [
        "sgd_clf.fit(dia_tr, dia_labels_read)\n",
        "sgd_read_pred =sgd_clf.predict(dia_te)"
      ],
      "execution_count": 0,
      "outputs": []
    },
    {
      "cell_type": "code",
      "metadata": {
        "id": "SRCnhedT2RW1",
        "colab_type": "code",
        "outputId": "aa2498d9-b852-4645-bbd8-11c449a54318",
        "colab": {
          "base_uri": "https://localhost:8080/",
          "height": 35
        }
      },
      "source": [
        "as_sgd_read = accuracy_score(test_labels_read, sgd_read_pred)\n",
        "as_sgd_read"
      ],
      "execution_count": 624,
      "outputs": [
        {
          "output_type": "execute_result",
          "data": {
            "text/plain": [
              "1.0"
            ]
          },
          "metadata": {
            "tags": []
          },
          "execution_count": 624
        }
      ]
    },
    {
      "cell_type": "code",
      "metadata": {
        "id": "zJBgZouVjWE1",
        "colab_type": "code",
        "colab": {
          "base_uri": "https://localhost:8080/",
          "height": 35
        },
        "outputId": "ad0b82c9-7970-4655-8e61-1a1336746993"
      },
      "source": [
        "SGDCscore_r = cross_val_score(sgd_clf, dia_tr, dia_labels_read, cv=5, scoring=\"accuracy\")\n",
        "SGDCscore_r"
      ],
      "execution_count": 625,
      "outputs": [
        {
          "output_type": "execute_result",
          "data": {
            "text/plain": [
              "array([1., 1., 1., 1., 1.])"
            ]
          },
          "metadata": {
            "tags": []
          },
          "execution_count": 625
        }
      ]
    },
    {
      "cell_type": "code",
      "metadata": {
        "id": "H3VeDsPG2Wwt",
        "colab_type": "code",
        "outputId": "0cad5467-3952-42dd-8bda-f8620f6cd281",
        "colab": {
          "base_uri": "https://localhost:8080/",
          "height": 52
        }
      },
      "source": [
        "confusion_matrix(test_labels_read, sgd_read_pred)"
      ],
      "execution_count": 626,
      "outputs": [
        {
          "output_type": "execute_result",
          "data": {
            "text/plain": [
              "array([[12854,     0],\n",
              "       [    0,  1234]])"
            ]
          },
          "metadata": {
            "tags": []
          },
          "execution_count": 626
        }
      ]
    },
    {
      "cell_type": "code",
      "metadata": {
        "id": "VrBsCgQI2Z9y",
        "colab_type": "code",
        "outputId": "7b4dbe35-0793-4c10-f07a-ff96471265c0",
        "colab": {
          "base_uri": "https://localhost:8080/",
          "height": 35
        }
      },
      "source": [
        "ps_sgd_read = precision_score(test_labels_read, sgd_read_pred)\n",
        "ps_sgd_read"
      ],
      "execution_count": 627,
      "outputs": [
        {
          "output_type": "execute_result",
          "data": {
            "text/plain": [
              "1.0"
            ]
          },
          "metadata": {
            "tags": []
          },
          "execution_count": 627
        }
      ]
    },
    {
      "cell_type": "code",
      "metadata": {
        "id": "YfX6WMfw2c--",
        "colab_type": "code",
        "outputId": "13e0116f-0eb9-4230-ae96-87908ed3d614",
        "colab": {
          "base_uri": "https://localhost:8080/",
          "height": 35
        }
      },
      "source": [
        "rs_sgd_read = recall_score(test_labels_read, sgd_read_pred)\n",
        "rs_sgd_read"
      ],
      "execution_count": 628,
      "outputs": [
        {
          "output_type": "execute_result",
          "data": {
            "text/plain": [
              "1.0"
            ]
          },
          "metadata": {
            "tags": []
          },
          "execution_count": 628
        }
      ]
    },
    {
      "cell_type": "markdown",
      "metadata": {
        "id": "WskpR1MrvHTN",
        "colab_type": "text"
      },
      "source": [
        "# Non-linear Kernel"
      ]
    },
    {
      "cell_type": "code",
      "metadata": {
        "id": "pe0UpLIjvKyi",
        "colab_type": "code",
        "colab": {}
      },
      "source": [
        "from sklearn.preprocessing import PolynomialFeatures\n",
        "polynomial_svm_clf = Pipeline([\n",
        "        (\"poly_features\", PolynomialFeatures(degree=3)),\n",
        "        (\"svm_clf\", LinearSVC(C=10, loss=\"hinge\", random_state=42))\n",
        "    ])"
      ],
      "execution_count": 0,
      "outputs": []
    },
    {
      "cell_type": "code",
      "metadata": {
        "id": "gs5krxzyvepw",
        "colab_type": "code",
        "outputId": "b359c289-7c9d-4a84-ee43-aefc5bbfbcc1",
        "colab": {
          "base_uri": "https://localhost:8080/",
          "height": 212
        }
      },
      "source": [
        "polynomial_svm_clf.fit(dia_tr, dia_labels_diag)"
      ],
      "execution_count": 630,
      "outputs": [
        {
          "output_type": "execute_result",
          "data": {
            "text/plain": [
              "Pipeline(memory=None,\n",
              "         steps=[('poly_features',\n",
              "                 PolynomialFeatures(degree=3, include_bias=True,\n",
              "                                    interaction_only=False, order='C')),\n",
              "                ('svm_clf',\n",
              "                 LinearSVC(C=10, class_weight=None, dual=True,\n",
              "                           fit_intercept=True, intercept_scaling=1,\n",
              "                           loss='hinge', max_iter=1000, multi_class='ovr',\n",
              "                           penalty='l2', random_state=42, tol=0.0001,\n",
              "                           verbose=0))],\n",
              "         verbose=False)"
            ]
          },
          "metadata": {
            "tags": []
          },
          "execution_count": 630
        }
      ]
    },
    {
      "cell_type": "code",
      "metadata": {
        "id": "0ygXxi8vvpS2",
        "colab_type": "code",
        "colab": {}
      },
      "source": [
        "svm_poly_dia_pred = polynomial_svm_clf.predict(dia_te)"
      ],
      "execution_count": 0,
      "outputs": []
    },
    {
      "cell_type": "code",
      "metadata": {
        "id": "XUAA3-e4vy3V",
        "colab_type": "code",
        "outputId": "d398bba1-18b2-41ec-a524-04ec0507305a",
        "colab": {
          "base_uri": "https://localhost:8080/",
          "height": 35
        }
      },
      "source": [
        "as_svm_poly_diag = accuracy_score(test_labels_diag, svm_poly_dia_pred)\n",
        "as_svm_poly_diag"
      ],
      "execution_count": 632,
      "outputs": [
        {
          "output_type": "execute_result",
          "data": {
            "text/plain": [
              "1.0"
            ]
          },
          "metadata": {
            "tags": []
          },
          "execution_count": 632
        }
      ]
    },
    {
      "cell_type": "code",
      "metadata": {
        "id": "77tfzNNfyF5T",
        "colab_type": "code",
        "colab": {
          "base_uri": "https://localhost:8080/",
          "height": 35
        },
        "outputId": "9fe5c1e4-3aa9-4d32-914c-f6b662876dea"
      },
      "source": [
        "PolyCscore_d = cross_val_score(polynomial_svm_clf, dia_tr, dia_labels_diag, cv=3, scoring=\"accuracy\")\n",
        "PolyCscore_d"
      ],
      "execution_count": 633,
      "outputs": [
        {
          "output_type": "execute_result",
          "data": {
            "text/plain": [
              "array([0.99994677, 0.99989353, 0.99994676])"
            ]
          },
          "metadata": {
            "tags": []
          },
          "execution_count": 633
        }
      ]
    },
    {
      "cell_type": "markdown",
      "metadata": {
        "id": "s64P1Httv5aM",
        "colab_type": "text"
      },
      "source": [
        "Confusion Matrix, Precision and Recall for Prediction of Diagnoses for diabetes."
      ]
    },
    {
      "cell_type": "code",
      "metadata": {
        "id": "CFKKeCLUv2Bh",
        "colab_type": "code",
        "outputId": "06c29c18-190c-46f1-ae18-cee1416e78be",
        "colab": {
          "base_uri": "https://localhost:8080/",
          "height": 52
        }
      },
      "source": [
        "confusion_matrix(test_labels_diag, svm_poly_dia_pred)"
      ],
      "execution_count": 634,
      "outputs": [
        {
          "output_type": "execute_result",
          "data": {
            "text/plain": [
              "array([[8597,    0],\n",
              "       [   0, 5491]])"
            ]
          },
          "metadata": {
            "tags": []
          },
          "execution_count": 634
        }
      ]
    },
    {
      "cell_type": "code",
      "metadata": {
        "id": "dgZ64vq4v_uL",
        "colab_type": "code",
        "outputId": "3d0d14ab-d86d-48eb-a212-f55d550d3bde",
        "colab": {
          "base_uri": "https://localhost:8080/",
          "height": 35
        }
      },
      "source": [
        "ps_svm_poly_diag = precision_score(test_labels_diag, svm_poly_dia_pred)\n",
        "ps_svm_poly_diag"
      ],
      "execution_count": 635,
      "outputs": [
        {
          "output_type": "execute_result",
          "data": {
            "text/plain": [
              "1.0"
            ]
          },
          "metadata": {
            "tags": []
          },
          "execution_count": 635
        }
      ]
    },
    {
      "cell_type": "code",
      "metadata": {
        "id": "PAGAUeIwwE41",
        "colab_type": "code",
        "outputId": "deb1488a-98bd-44be-f1bb-6f68b895d48d",
        "colab": {
          "base_uri": "https://localhost:8080/",
          "height": 35
        }
      },
      "source": [
        "rs_svm_poly_diag = recall_score(test_labels_diag, svm_poly_dia_pred)\n",
        "rs_svm_poly_diag"
      ],
      "execution_count": 636,
      "outputs": [
        {
          "output_type": "execute_result",
          "data": {
            "text/plain": [
              "1.0"
            ]
          },
          "metadata": {
            "tags": []
          },
          "execution_count": 636
        }
      ]
    },
    {
      "cell_type": "code",
      "metadata": {
        "id": "CtdOstlnwODP",
        "colab_type": "code",
        "outputId": "9890b094-8cf0-4917-b689-75257bc72a27",
        "colab": {
          "base_uri": "https://localhost:8080/",
          "height": 212
        }
      },
      "source": [
        "polynomial_svm_clf.fit(dia_tr, dia_labels_read)"
      ],
      "execution_count": 637,
      "outputs": [
        {
          "output_type": "execute_result",
          "data": {
            "text/plain": [
              "Pipeline(memory=None,\n",
              "         steps=[('poly_features',\n",
              "                 PolynomialFeatures(degree=3, include_bias=True,\n",
              "                                    interaction_only=False, order='C')),\n",
              "                ('svm_clf',\n",
              "                 LinearSVC(C=10, class_weight=None, dual=True,\n",
              "                           fit_intercept=True, intercept_scaling=1,\n",
              "                           loss='hinge', max_iter=1000, multi_class='ovr',\n",
              "                           penalty='l2', random_state=42, tol=0.0001,\n",
              "                           verbose=0))],\n",
              "         verbose=False)"
            ]
          },
          "metadata": {
            "tags": []
          },
          "execution_count": 637
        }
      ]
    },
    {
      "cell_type": "code",
      "metadata": {
        "id": "wRaqWR_dwS-7",
        "colab_type": "code",
        "colab": {}
      },
      "source": [
        "svm_poly_read_pred = polynomial_svm_clf.predict(dia_te)"
      ],
      "execution_count": 0,
      "outputs": []
    },
    {
      "cell_type": "code",
      "metadata": {
        "id": "y1QSMvBMwVhM",
        "colab_type": "code",
        "outputId": "8cfa9f15-aab3-4b87-f00c-83a2494aba05",
        "colab": {
          "base_uri": "https://localhost:8080/",
          "height": 35
        }
      },
      "source": [
        "as_svm_poly_read = accuracy_score(test_labels_read, svm_poly_read_pred)\n",
        "as_svm_poly_read"
      ],
      "execution_count": 639,
      "outputs": [
        {
          "output_type": "execute_result",
          "data": {
            "text/plain": [
              "0.9999290176036343"
            ]
          },
          "metadata": {
            "tags": []
          },
          "execution_count": 639
        }
      ]
    },
    {
      "cell_type": "code",
      "metadata": {
        "id": "uY4CQXUVycee",
        "colab_type": "code",
        "colab": {
          "base_uri": "https://localhost:8080/",
          "height": 35
        },
        "outputId": "641a207f-3430-4800-bf41-6e098abdd8e0"
      },
      "source": [
        "PolyCscore_r = cross_val_score(polynomial_svm_clf, dia_tr, dia_labels_read, cv=3, scoring=\"accuracy\")\n",
        "PolyCscore_r"
      ],
      "execution_count": 640,
      "outputs": [
        {
          "output_type": "execute_result",
          "data": {
            "text/plain": [
              "array([0.99962736, 1.        , 0.99989353])"
            ]
          },
          "metadata": {
            "tags": []
          },
          "execution_count": 640
        }
      ]
    },
    {
      "cell_type": "markdown",
      "metadata": {
        "id": "8R7Ho67JwIyG",
        "colab_type": "text"
      },
      "source": [
        "Confusion Matrix, Precision and Recall for Prediction of re-admitted."
      ]
    },
    {
      "cell_type": "code",
      "metadata": {
        "id": "KuUeMsXRw6H2",
        "colab_type": "code",
        "outputId": "24314dd6-6632-45b9-9b0a-d41ea89be801",
        "colab": {
          "base_uri": "https://localhost:8080/",
          "height": 52
        }
      },
      "source": [
        "confusion_matrix(test_labels_read, svm_poly_read_pred)"
      ],
      "execution_count": 641,
      "outputs": [
        {
          "output_type": "execute_result",
          "data": {
            "text/plain": [
              "array([[12854,     0],\n",
              "       [    1,  1233]])"
            ]
          },
          "metadata": {
            "tags": []
          },
          "execution_count": 641
        }
      ]
    },
    {
      "cell_type": "code",
      "metadata": {
        "id": "d9CvCmK-w8-W",
        "colab_type": "code",
        "outputId": "2ecdc481-01ac-4296-bd3d-42b2c3950106",
        "colab": {
          "base_uri": "https://localhost:8080/",
          "height": 35
        }
      },
      "source": [
        "ps_svm_poly_read = precision_score(test_labels_read, svm_poly_read_pred)\n",
        "ps_svm_poly_read"
      ],
      "execution_count": 642,
      "outputs": [
        {
          "output_type": "execute_result",
          "data": {
            "text/plain": [
              "1.0"
            ]
          },
          "metadata": {
            "tags": []
          },
          "execution_count": 642
        }
      ]
    },
    {
      "cell_type": "code",
      "metadata": {
        "id": "WAA5DFDuxDYJ",
        "colab_type": "code",
        "outputId": "b585daa0-7ea9-45e9-b1ca-641414e11300",
        "colab": {
          "base_uri": "https://localhost:8080/",
          "height": 35
        }
      },
      "source": [
        "rs_svm_poly_read = recall_score(test_labels_read, svm_poly_read_pred)\n",
        "rs_svm_poly_read"
      ],
      "execution_count": 643,
      "outputs": [
        {
          "output_type": "execute_result",
          "data": {
            "text/plain": [
              "0.9991896272285251"
            ]
          },
          "metadata": {
            "tags": []
          },
          "execution_count": 643
        }
      ]
    },
    {
      "cell_type": "markdown",
      "metadata": {
        "id": "LuqyaLRpThdc",
        "colab_type": "text"
      },
      "source": [
        "# **Comparison Bar Charts**\n"
      ]
    },
    {
      "cell_type": "code",
      "metadata": {
        "id": "zD1n3ZNATqqk",
        "colab_type": "code",
        "colab": {
          "base_uri": "https://localhost:8080/",
          "height": 288
        },
        "outputId": "3f8d62e8-2c0b-4c32-9852-3f13113787b0"
      },
      "source": [
        "names = ['RF', 'LinearSVM', 'NonLinearSVM',\"SGD\"]\n",
        "values = [as_rf_diag, as_svm_diag, as_sgd_diag, as_svm_poly_diag]\n",
        "plt.bar(names, values)\n",
        "plt.ylim(0.9995,1)\n",
        "plt.ylabel(\"Accuracy\")\n",
        "plt.title(\"Diagnosis Accuracy Chart\", color = \"blue\", fontsize = \"xx-large\")\n",
        "plt.show()"
      ],
      "execution_count": 644,
      "outputs": [
        {
          "output_type": "display_data",
          "data": {
            "image/png": "[encoded data removed]",
            "text/plain": [
              "<Figure size 432x288 with 1 Axes>"
            ]
          },
          "metadata": {
            "tags": []
          }
        }
      ]
    },
    {
      "cell_type": "markdown",
      "metadata": {
        "id": "ljOS3-Q0TyqJ",
        "colab_type": "text"
      },
      "source": [
        "**The Figure 2**, describes the ***Precision*** for Prediction of Diagnoses for diabetes"
      ]
    },
    {
      "cell_type": "code",
      "metadata": {
        "id": "zWX-Bdc2T1QV",
        "colab_type": "code",
        "colab": {
          "base_uri": "https://localhost:8080/",
          "height": 288
        },
        "outputId": "3f097fb9-9d65-4b35-b57d-378acb92d703"
      },
      "source": [
        "names = ['RF', 'LinearSVM', 'NonLinearSVM',\"SGD\"]\n",
        "values = [ps_rf_diag, ps_svm_diag, ps_sgd_diag, ps_svm_poly_diag]\n",
        "plt.bar(names, values)\n",
        "plt.ylim(0.9995,1)\n",
        "plt.ylabel(\"Precision\")\n",
        "plt.title(\"Diagnosis Precision Chart\", color = \"blue\", fontsize = \"xx-large\")\n",
        "plt.show()"
      ],
      "execution_count": 645,
      "outputs": [
        {
          "output_type": "display_data",
          "data": {
            "image/png": "[encoded data removed]",
            "text/plain": [
              "<Figure size 432x288 with 1 Axes>"
            ]
          },
          "metadata": {
            "tags": []
          }
        }
      ]
    },
    {
      "cell_type": "markdown",
      "metadata": {
        "id": "btxnp5llT43r",
        "colab_type": "text"
      },
      "source": [
        "**The Figure 3**, describes the ***Recall*** for Prediction of Diagnoses for diabetes"
      ]
    },
    {
      "cell_type": "code",
      "metadata": {
        "id": "wEZGMwg1T68n",
        "colab_type": "code",
        "colab": {
          "base_uri": "https://localhost:8080/",
          "height": 288
        },
        "outputId": "69baf3a1-e86a-452a-fc14-cd445653760a"
      },
      "source": [
        "names = ['RF', 'LinearSVM', 'NonLinearSVM',\"SGD\"]\n",
        "values = [rs_rf_diag, rs_svm_diag, rs_sgd_diag, rs_svm_poly_diag]\n",
        "plt.bar(names, values)\n",
        "plt.ylabel(\"Recall\")\n",
        "plt.ylim(0.9995,1)\n",
        "plt.title(\"Diagnosis Recall Chart\", color = \"blue\", fontsize = \"xx-large\")\n",
        "plt.show()"
      ],
      "execution_count": 646,
      "outputs": [
        {
          "output_type": "display_data",
          "data": {
            "image/png": "[encoded data removed]",
            "text/plain": [
              "<Figure size 432x288 with 1 Axes>"
            ]
          },
          "metadata": {
            "tags": []
          }
        }
      ]
    },
    {
      "cell_type": "markdown",
      "metadata": {
        "id": "wvB4x1JqT9ox",
        "colab_type": "text"
      },
      "source": [
        "**The Figure 4**, describes the **Cross Validation Score** for Prediction of Diagnoses for diabetes"
      ]
    },
    {
      "cell_type": "code",
      "metadata": {
        "id": "fPeVqR2QUAq1",
        "colab_type": "code",
        "colab": {
          "base_uri": "https://localhost:8080/",
          "height": 288
        },
        "outputId": "b11239f4-51ab-43a9-94c2-aa2f6428d5f8"
      },
      "source": [
        "names = ['RF', 'LinearSVM', 'NonLinearSVM',\"SGD\"]\n",
        "values = [RFCscore_d.mean(), SVMCscore_d.mean(), PolyCscore_d.mean(), SGDCscore_d.mean()]\n",
        "plt.bar(names, values)\n",
        "plt.ylabel(\"Cross Validation Score\")\n",
        "plt.ylim(0.9995,1)\n",
        "plt.title(\"Diagnosis Cross Validation Score Chart\", color = \"blue\", fontsize = \"xx-large\")\n",
        "plt.show()"
      ],
      "execution_count": 647,
      "outputs": [
        {
          "output_type": "display_data",
          "data": {
            "image/png": "[encoded data removed]",
            "text/plain": [
              "<Figure size 432x288 with 1 Axes>"
            ]
          },
          "metadata": {
            "tags": []
          }
        }
      ]
    },
    {
      "cell_type": "markdown",
      "metadata": {
        "id": "w5H0_8zJUDDt",
        "colab_type": "text"
      },
      "source": [
        "**Below four figures describes the Accuracy, Precision, Recall and Cross Validation Score for Prediction of re-admitted.**\n",
        "\n",
        "**Figure 5** describes the **Accuracy** percentage **Prediction of re-admitted**. "
      ]
    },
    {
      "cell_type": "code",
      "metadata": {
        "id": "ADW--waGUE_x",
        "colab_type": "code",
        "colab": {
          "base_uri": "https://localhost:8080/",
          "height": 288
        },
        "outputId": "635d45c5-34cf-4f20-c7d8-d14635d4bca3"
      },
      "source": [
        "names = ['RF', 'LinearSVM', 'NonLinearSVM',\"SGD\"]\n",
        "values = [as_rf_read, as_svm_read, as_sgd_read, as_svm_poly_read]\n",
        "plt.bar(names, values)\n",
        "#plt.bar(\"Methods\", \"Stat\", data = accuracy_score, color = \"blue\")\n",
        "#plt.xlabel(\"RF\", \"SVM\" ,\"SGD\")\n",
        "plt.ylim(0.9995,1)\n",
        "plt.ylabel(\"Accuracy\")\n",
        "plt.title(\"Re-admision Accuracy Chart\", color = \"blue\", fontsize = \"xx-large\")\n",
        "plt.show()"
      ],
      "execution_count": 648,
      "outputs": [
        {
          "output_type": "display_data",
          "data": {
            "image/png": "[encoded data removed]",
            "text/plain": [
              "<Figure size 432x288 with 1 Axes>"
            ]
          },
          "metadata": {
            "tags": []
          }
        }
      ]
    },
    {
      "cell_type": "markdown",
      "metadata": {
        "id": "EUiQ-K5QUIxr",
        "colab_type": "text"
      },
      "source": [
        "**The Figure 6**, describes the ***Precision*** percentage prediction of re-admitted. "
      ]
    },
    {
      "cell_type": "code",
      "metadata": {
        "id": "Bwsj1ZDAUKz6",
        "colab_type": "code",
        "colab": {
          "base_uri": "https://localhost:8080/",
          "height": 288
        },
        "outputId": "00238535-8d24-4dc2-f6a1-79aa7d58efb8"
      },
      "source": [
        "names = ['RF', 'LinearSVM', 'NonLinearSVM',\"SGD\"]\n",
        "values = [ps_rf_read, ps_svm_read, ps_sgd_read, ps_svm_poly_read]\n",
        "plt.bar(names, values)\n",
        "plt.ylabel(\"Precision\")\n",
        "plt.ylim(0.9995,1)\n",
        "plt.title(\"Re-admision Precision Chart\", color = \"blue\", fontsize = \"xx-large\")\n",
        "plt.show()"
      ],
      "execution_count": 649,
      "outputs": [
        {
          "output_type": "display_data",
          "data": {
            "image/png": "[encoded data removed]",
            "text/plain": [
              "<Figure size 432x288 with 1 Axes>"
            ]
          },
          "metadata": {
            "tags": []
          }
        }
      ]
    },
    {
      "cell_type": "markdown",
      "metadata": {
        "id": "fRg6xxp8UNmw",
        "colab_type": "text"
      },
      "source": [
        "**The Figure 7**, shows the **Recall** percentage prediction of re-admitted. "
      ]
    },
    {
      "cell_type": "code",
      "metadata": {
        "id": "6QpRQaTWUNNo",
        "colab_type": "code",
        "colab": {
          "base_uri": "https://localhost:8080/",
          "height": 288
        },
        "outputId": "6b7de2f4-afbd-4f4a-faa5-be47285b4cde"
      },
      "source": [
        "names = ['RF', 'LinearSVM', 'NonLinearSVM',\"SGD\"]\n",
        "values = [rs_rf_read, rs_svm_read, rs_sgd_read, rs_svm_poly_read]\n",
        "plt.bar(names, values)\n",
        "plt.ylabel(\"Recall\")\n",
        "plt.ylim(0.995,1)\n",
        "plt.title(\"Re-admision Recall Chart\", color = \"blue\", fontsize = \"xx-large\")\n",
        "plt.show()"
      ],
      "execution_count": 650,
      "outputs": [
        {
          "output_type": "display_data",
          "data": {
            "image/png": "[encoded data removed]",
            "text/plain": [
              "<Figure size 432x288 with 1 Axes>"
            ]
          },
          "metadata": {
            "tags": []
          }
        }
      ]
    },
    {
      "cell_type": "markdown",
      "metadata": {
        "id": "NVCrDWjcUSFd",
        "colab_type": "text"
      },
      "source": [
        "**The Figure 8**, describes the **Cross Validation Score**  of the various classifiers prediction of re-admitted. ."
      ]
    },
    {
      "cell_type": "code",
      "metadata": {
        "id": "IDiExvi6UUH1",
        "colab_type": "code",
        "colab": {
          "base_uri": "https://localhost:8080/",
          "height": 288
        },
        "outputId": "adaeecab-8999-4719-c6dc-5a0b9e21b34e"
      },
      "source": [
        "names = ['RF', 'LinearSVM', 'NonLinearSVM',\"SGD\"]\n",
        "values = [RFCscore_r.mean(), SVMCscore_r.mean(), PolyCscore_r.mean(), SGDCscore_r.mean()]\n",
        "plt.bar(names, values)\n",
        "plt.ylabel(\"Cross Validation Score\")\n",
        "plt.title(\"Re-admision Cross Validation Score Chart\", color = \"blue\", fontsize = \"xx-large\")\n",
        "plt.ylim(0.9995,1)\n",
        "plt.show()"
      ],
      "execution_count": 651,
      "outputs": [
        {
          "output_type": "display_data",
          "data": {
            "image/png": "[encoded data removed]",
            "text/plain": [
              "<Figure size 432x288 with 1 Axes>"
            ]
          },
          "metadata": {
            "tags": []
          }
        }
      ]
    },
    {
      "cell_type": "markdown",
      "metadata": {
        "id": "sPX8IeAt1v_y",
        "colab_type": "text"
      },
      "source": [
        "# **Models Comparision**"
      ]
    },
    {
      "cell_type": "code",
      "metadata": {
        "id": "PAL6_KqU1xOL",
        "colab_type": "code",
        "colab": {
          "base_uri": "https://localhost:8080/",
          "height": 164
        },
        "outputId": "f524a525-8ca5-4953-a9bd-d55d313c3f41"
      },
      "source": [
        "models_com = pd.DataFrame({'Model':['Random Forrest','LinearSVM','SGD','NonLinerSVM'],\n",
        "                           'Diagnoses Accuracy':[as_rf_diag,as_svm_diag,as_sgd_diag,as_svm_poly_diag],\n",
        "                           'Readmitted Accuracy':[as_rf_read,as_svm_read,as_sgd_read,as_svm_poly_read],\n",
        "                           'Diagnoses Precision':[ps_rf_diag,ps_svm_diag,ps_sgd_diag,ps_svm_poly_diag],\n",
        "                           'Readmitted Precision':[ps_rf_read,ps_svm_read,ps_sgd_read,ps_svm_poly_read],\n",
        "                           'Diagnoses Recall':[rs_rf_diag,rs_svm_diag,rs_sgd_diag,rs_svm_poly_diag],\n",
        "                           'Readmitted recall':[rs_rf_read,rs_svm_read,rs_sgd_read,rs_svm_poly_read],})\n",
        "models_com"
      ],
      "execution_count": 654,
      "outputs": [
        {
          "output_type": "execute_result",
          "data": {
            "text/html": [
              "<div>\n",
              "<style scoped>\n",
              "    .dataframe tbody tr th:only-of-type {\n",
              "        vertical-align: middle;\n",
              "    }\n",
              "\n",
              "    .dataframe tbody tr th {\n",
              "        vertical-align: top;\n",
              "    }\n",
              "\n",
              "    .dataframe thead th {\n",
              "        text-align: right;\n",
              "    }\n",
              "</style>\n",
              "<table border=\"1\" class=\"dataframe\">\n",
              "  <thead>\n",
              "    <tr style=\"text-align: right;\">\n",
              "      <th></th>\n",
              "      <th>Model</th>\n",
              "      <th>Diagnoses Accuracy</th>\n",
              "      <th>Readmitted Accuracy</th>\n",
              "      <th>Diagnoses Precision</th>\n",
              "      <th>Readmitted Precision</th>\n",
              "      <th>Diagnoses Recall</th>\n",
              "      <th>Readmitted recall</th>\n",
              "    </tr>\n",
              "  </thead>\n",
              "  <tbody>\n",
              "    <tr>\n",
              "      <th>0</th>\n",
              "      <td>Random Forrest</td>\n",
              "      <td>1.000000</td>\n",
              "      <td>1.000000</td>\n",
              "      <td>1.000000</td>\n",
              "      <td>1.0</td>\n",
              "      <td>1.0</td>\n",
              "      <td>1.00000</td>\n",
              "    </tr>\n",
              "    <tr>\n",
              "      <th>1</th>\n",
              "      <td>LinearSVM</td>\n",
              "      <td>1.000000</td>\n",
              "      <td>1.000000</td>\n",
              "      <td>1.000000</td>\n",
              "      <td>1.0</td>\n",
              "      <td>1.0</td>\n",
              "      <td>1.00000</td>\n",
              "    </tr>\n",
              "    <tr>\n",
              "      <th>2</th>\n",
              "      <td>SGD</td>\n",
              "      <td>0.999929</td>\n",
              "      <td>1.000000</td>\n",
              "      <td>0.999818</td>\n",
              "      <td>1.0</td>\n",
              "      <td>1.0</td>\n",
              "      <td>1.00000</td>\n",
              "    </tr>\n",
              "    <tr>\n",
              "      <th>3</th>\n",
              "      <td>NonLinerSVM</td>\n",
              "      <td>1.000000</td>\n",
              "      <td>0.999929</td>\n",
              "      <td>1.000000</td>\n",
              "      <td>1.0</td>\n",
              "      <td>1.0</td>\n",
              "      <td>0.99919</td>\n",
              "    </tr>\n",
              "  </tbody>\n",
              "</table>\n",
              "</div>"
            ],
            "text/plain": [
              "            Model  Diagnoses Accuracy  ...  Diagnoses Recall  Readmitted recall\n",
              "0  Random Forrest            1.000000  ...               1.0            1.00000\n",
              "1       LinearSVM            1.000000  ...               1.0            1.00000\n",
              "2             SGD            0.999929  ...               1.0            1.00000\n",
              "3     NonLinerSVM            1.000000  ...               1.0            0.99919\n",
              "\n",
              "[4 rows x 7 columns]"
            ]
          },
          "metadata": {
            "tags": []
          },
          "execution_count": 654
        }
      ]
    }
  ]
}