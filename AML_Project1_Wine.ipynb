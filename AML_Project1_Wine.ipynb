{
  "nbformat": 4,
  "nbformat_minor": 0,
  "metadata": {
    "colab": {
      "name": "ML_P1_Wine.ipynb",
      "provenance": [],
      "collapsed_sections": [],
      "authorship_tag": "ABX9TyMWBWfezm05bk8vcOQnGMoB",
      "include_colab_link": true
    },
    "kernelspec": {
      "name": "python3",
      "display_name": "Python 3"
    }
  },
  "cells": [
    {
      "cell_type": "markdown",
      "metadata": {
        "id": "view-in-github",
        "colab_type": "text"
      },
      "source": [
        "<a href=\"https://colab.research.google.com/github/fsclsnow/AML/blob/master/ML_P1_Wine.ipynb\" target=\"_parent\"><img src=\"https://colab.research.google.com/assets/colab-badge.svg\" alt=\"Open In Colab\"/></a>"
      ]
    },
    {
      "cell_type": "markdown",
      "metadata": {
        "id": "Lv-AyuNXHHxe",
        "colab_type": "text"
      },
      "source": [
        "# **Project 1**"
      ]
    },
    {
      "cell_type": "code",
      "metadata": {
        "id": "BPUPmhbY8AG8",
        "colab_type": "code",
        "colab": {}
      },
      "source": [
        "# Python ≥3.5 is required\n",
        "import sys\n",
        "assert sys.version_info >= (3, 5)\n",
        "# Scikit-Learn ≥0.20 is required\n",
        "import sklearn\n",
        "assert sklearn.__version__ >= \"0.20\"\n",
        "\n",
        "# Common imports\n",
        "import numpy as np\n",
        "import os\n",
        "\n",
        "# To plot pretty figures\n",
        "%matplotlib inline\n",
        "import matplotlib as mpl\n",
        "import matplotlib.pyplot as plt\n",
        "mpl.rc('axes', labelsize=14)\n",
        "mpl.rc('xtick', labelsize=12)\n",
        "mpl.rc('ytick', labelsize=12)\n",
        "\n",
        "# Where to save the figures\n",
        "PROJECT_ROOT_DIR = \".\"\n",
        "CHAPTER_ID = \"end_to_end_project\"\n",
        "IMAGES_PATH = os.path.join(PROJECT_ROOT_DIR, \"images\", CHAPTER_ID)\n",
        "os.makedirs(IMAGES_PATH, exist_ok=True)\n",
        "\n",
        "def save_fig(fig_id, tight_layout=True, fig_extension=\"png\", resolution=300):\n",
        "    path = os.path.join(IMAGES_PATH, fig_id + \".\" + fig_extension)\n",
        "    print(\"Saving figure\", fig_id)\n",
        "    if tight_layout:\n",
        "        plt.tight_layout()\n",
        "    plt.savefig(path, format=fig_extension, dpi=resolution)\n",
        "\n",
        "# Ignore useless warnings (see SciPy issue #5998)\n",
        "import warnings\n",
        "warnings.filterwarnings(action=\"ignore\", message=\"^internal gelsd\")"
      ],
      "execution_count": 0,
      "outputs": []
    },
    {
      "cell_type": "code",
      "metadata": {
        "id": "U1Vc72b3QKav",
        "colab_type": "code",
        "colab": {}
      },
      "source": [
        "import os\n",
        "\n",
        "DOWNLOAD_ROOT = \"https://raw.githubusercontent.com/fsclsnow/AML/master/\"\n",
        "WINE_PATH = os.path.join(\"Data\")\n",
        "WINE_URL = DOWNLOAD_ROOT + \"Data/wine.csv\""
      ],
      "execution_count": 0,
      "outputs": []
    },
    {
      "cell_type": "code",
      "metadata": {
        "colab_type": "code",
        "id": "Wygc1diqRmu4",
        "colab": {}
      },
      "source": [
        "import pandas as pd\n",
        "\n",
        "def load_wine_data(wine_path=WINE_PATH):\n",
        "    csv_path = os.path.join(DOWNLOAD_ROOT, wine_path, \"wine.csv\")\n",
        "    return pd.read_csv(csv_path)"
      ],
      "execution_count": 0,
      "outputs": []
    },
    {
      "cell_type": "code",
      "metadata": {
        "id": "PbqoZFLER6xM",
        "colab_type": "code",
        "outputId": "b492c2a2-0952-4a56-f1fc-0f8393308db9",
        "colab": {
          "base_uri": "https://localhost:8080/",
          "height": 215
        }
      },
      "source": [
        "wine = load_wine_data()\n",
        "wine.head()"
      ],
      "execution_count": 5,
      "outputs": [
        {
          "output_type": "execute_result",
          "data": {
            "text/html": [
              "<div>\n",
              "<style scoped>\n",
              "    .dataframe tbody tr th:only-of-type {\n",
              "        vertical-align: middle;\n",
              "    }\n",
              "\n",
              "    .dataframe tbody tr th {\n",
              "        vertical-align: top;\n",
              "    }\n",
              "\n",
              "    .dataframe thead th {\n",
              "        text-align: right;\n",
              "    }\n",
              "</style>\n",
              "<table border=\"1\" class=\"dataframe\">\n",
              "  <thead>\n",
              "    <tr style=\"text-align: right;\">\n",
              "      <th></th>\n",
              "      <th>class</th>\n",
              "      <th>Alcohol</th>\n",
              "      <th>Malic acid</th>\n",
              "      <th>Ash</th>\n",
              "      <th>Alcalinity of ash</th>\n",
              "      <th>Magnesium</th>\n",
              "      <th>Total phenols</th>\n",
              "      <th>Flavanoids</th>\n",
              "      <th>Nonflavanoid phenols</th>\n",
              "      <th>Proanthocyanins</th>\n",
              "      <th>Color intensity</th>\n",
              "      <th>Hue</th>\n",
              "      <th>OD280/OD315 of diluted wines</th>\n",
              "      <th>Proline</th>\n",
              "    </tr>\n",
              "  </thead>\n",
              "  <tbody>\n",
              "    <tr>\n",
              "      <th>0</th>\n",
              "      <td>1</td>\n",
              "      <td>14.23</td>\n",
              "      <td>1.71</td>\n",
              "      <td>2.43</td>\n",
              "      <td>15.6</td>\n",
              "      <td>127</td>\n",
              "      <td>2.80</td>\n",
              "      <td>3.06</td>\n",
              "      <td>0.28</td>\n",
              "      <td>2.29</td>\n",
              "      <td>5.64</td>\n",
              "      <td>1.04</td>\n",
              "      <td>3.92</td>\n",
              "      <td>1065</td>\n",
              "    </tr>\n",
              "    <tr>\n",
              "      <th>1</th>\n",
              "      <td>1</td>\n",
              "      <td>13.20</td>\n",
              "      <td>1.78</td>\n",
              "      <td>2.14</td>\n",
              "      <td>11.2</td>\n",
              "      <td>100</td>\n",
              "      <td>2.65</td>\n",
              "      <td>2.76</td>\n",
              "      <td>0.26</td>\n",
              "      <td>1.28</td>\n",
              "      <td>4.38</td>\n",
              "      <td>1.05</td>\n",
              "      <td>3.40</td>\n",
              "      <td>1050</td>\n",
              "    </tr>\n",
              "    <tr>\n",
              "      <th>2</th>\n",
              "      <td>1</td>\n",
              "      <td>13.16</td>\n",
              "      <td>2.36</td>\n",
              "      <td>2.67</td>\n",
              "      <td>18.6</td>\n",
              "      <td>101</td>\n",
              "      <td>2.80</td>\n",
              "      <td>3.24</td>\n",
              "      <td>0.30</td>\n",
              "      <td>2.81</td>\n",
              "      <td>5.68</td>\n",
              "      <td>1.03</td>\n",
              "      <td>3.17</td>\n",
              "      <td>1185</td>\n",
              "    </tr>\n",
              "    <tr>\n",
              "      <th>3</th>\n",
              "      <td>1</td>\n",
              "      <td>14.37</td>\n",
              "      <td>1.95</td>\n",
              "      <td>2.50</td>\n",
              "      <td>16.8</td>\n",
              "      <td>113</td>\n",
              "      <td>3.85</td>\n",
              "      <td>3.49</td>\n",
              "      <td>0.24</td>\n",
              "      <td>2.18</td>\n",
              "      <td>7.80</td>\n",
              "      <td>0.86</td>\n",
              "      <td>3.45</td>\n",
              "      <td>1480</td>\n",
              "    </tr>\n",
              "    <tr>\n",
              "      <th>4</th>\n",
              "      <td>1</td>\n",
              "      <td>13.24</td>\n",
              "      <td>2.59</td>\n",
              "      <td>2.87</td>\n",
              "      <td>21.0</td>\n",
              "      <td>118</td>\n",
              "      <td>2.80</td>\n",
              "      <td>2.69</td>\n",
              "      <td>0.39</td>\n",
              "      <td>1.82</td>\n",
              "      <td>4.32</td>\n",
              "      <td>1.04</td>\n",
              "      <td>2.93</td>\n",
              "      <td>735</td>\n",
              "    </tr>\n",
              "  </tbody>\n",
              "</table>\n",
              "</div>"
            ],
            "text/plain": [
              "   class  Alcohol  Malic acid  ...   Hue  OD280/OD315 of diluted wines  Proline\n",
              "0      1    14.23        1.71  ...  1.04                          3.92     1065\n",
              "1      1    13.20        1.78  ...  1.05                          3.40     1050\n",
              "2      1    13.16        2.36  ...  1.03                          3.17     1185\n",
              "3      1    14.37        1.95  ...  0.86                          3.45     1480\n",
              "4      1    13.24        2.59  ...  1.04                          2.93      735\n",
              "\n",
              "[5 rows x 14 columns]"
            ]
          },
          "metadata": {
            "tags": []
          },
          "execution_count": 5
        }
      ]
    },
    {
      "cell_type": "code",
      "metadata": {
        "id": "_AfOK35Xi7W_",
        "colab_type": "code",
        "outputId": "6166b67a-6cec-4381-d2a7-181134997792",
        "colab": {
          "base_uri": "https://localhost:8080/",
          "height": 345
        }
      },
      "source": [
        "wine.info()"
      ],
      "execution_count": 6,
      "outputs": [
        {
          "output_type": "stream",
          "text": [
            "<class 'pandas.core.frame.DataFrame'>\n",
            "RangeIndex: 178 entries, 0 to 177\n",
            "Data columns (total 14 columns):\n",
            "class                           178 non-null int64\n",
            "Alcohol                         178 non-null float64\n",
            "Malic acid                      178 non-null float64\n",
            "Ash                             178 non-null float64\n",
            "Alcalinity of ash               178 non-null float64\n",
            "Magnesium                       178 non-null int64\n",
            "Total phenols                   178 non-null float64\n",
            "Flavanoids                      178 non-null float64\n",
            "Nonflavanoid phenols            178 non-null float64\n",
            "Proanthocyanins                 178 non-null float64\n",
            "Color intensity                 178 non-null float64\n",
            "Hue                             178 non-null float64\n",
            "OD280/OD315 of diluted wines    178 non-null float64\n",
            "Proline                         178 non-null int64\n",
            "dtypes: float64(11), int64(3)\n",
            "memory usage: 19.6 KB\n"
          ],
          "name": "stdout"
        }
      ]
    },
    {
      "cell_type": "code",
      "metadata": {
        "id": "Ow9o9m8-jBLt",
        "colab_type": "code",
        "outputId": "74a4bcda-3d61-435c-bea6-576cc1f3366d",
        "colab": {
          "base_uri": "https://localhost:8080/",
          "height": 86
        }
      },
      "source": [
        "wine[\"class\"].value_counts()"
      ],
      "execution_count": 7,
      "outputs": [
        {
          "output_type": "execute_result",
          "data": {
            "text/plain": [
              "2    71\n",
              "1    59\n",
              "3    48\n",
              "Name: class, dtype: int64"
            ]
          },
          "metadata": {
            "tags": []
          },
          "execution_count": 7
        }
      ]
    },
    {
      "cell_type": "code",
      "metadata": {
        "id": "2FMUSFUBjT1A",
        "colab_type": "code",
        "outputId": "a7521dbe-7fc1-4c2e-9dc5-b67b0bf6cff4",
        "colab": {
          "base_uri": "https://localhost:8080/",
          "height": 343
        }
      },
      "source": [
        "wine.describe()"
      ],
      "execution_count": 8,
      "outputs": [
        {
          "output_type": "execute_result",
          "data": {
            "text/html": [
              "<div>\n",
              "<style scoped>\n",
              "    .dataframe tbody tr th:only-of-type {\n",
              "        vertical-align: middle;\n",
              "    }\n",
              "\n",
              "    .dataframe tbody tr th {\n",
              "        vertical-align: top;\n",
              "    }\n",
              "\n",
              "    .dataframe thead th {\n",
              "        text-align: right;\n",
              "    }\n",
              "</style>\n",
              "<table border=\"1\" class=\"dataframe\">\n",
              "  <thead>\n",
              "    <tr style=\"text-align: right;\">\n",
              "      <th></th>\n",
              "      <th>class</th>\n",
              "      <th>Alcohol</th>\n",
              "      <th>Malic acid</th>\n",
              "      <th>Ash</th>\n",
              "      <th>Alcalinity of ash</th>\n",
              "      <th>Magnesium</th>\n",
              "      <th>Total phenols</th>\n",
              "      <th>Flavanoids</th>\n",
              "      <th>Nonflavanoid phenols</th>\n",
              "      <th>Proanthocyanins</th>\n",
              "      <th>Color intensity</th>\n",
              "      <th>Hue</th>\n",
              "      <th>OD280/OD315 of diluted wines</th>\n",
              "      <th>Proline</th>\n",
              "    </tr>\n",
              "  </thead>\n",
              "  <tbody>\n",
              "    <tr>\n",
              "      <th>count</th>\n",
              "      <td>178.000000</td>\n",
              "      <td>178.000000</td>\n",
              "      <td>178.000000</td>\n",
              "      <td>178.000000</td>\n",
              "      <td>178.000000</td>\n",
              "      <td>178.000000</td>\n",
              "      <td>178.000000</td>\n",
              "      <td>178.000000</td>\n",
              "      <td>178.000000</td>\n",
              "      <td>178.000000</td>\n",
              "      <td>178.000000</td>\n",
              "      <td>178.000000</td>\n",
              "      <td>178.000000</td>\n",
              "      <td>178.000000</td>\n",
              "    </tr>\n",
              "    <tr>\n",
              "      <th>mean</th>\n",
              "      <td>1.938202</td>\n",
              "      <td>13.000618</td>\n",
              "      <td>2.336348</td>\n",
              "      <td>2.366517</td>\n",
              "      <td>19.494944</td>\n",
              "      <td>99.741573</td>\n",
              "      <td>2.295112</td>\n",
              "      <td>2.029270</td>\n",
              "      <td>0.361854</td>\n",
              "      <td>1.590899</td>\n",
              "      <td>5.058090</td>\n",
              "      <td>0.957449</td>\n",
              "      <td>2.611685</td>\n",
              "      <td>746.893258</td>\n",
              "    </tr>\n",
              "    <tr>\n",
              "      <th>std</th>\n",
              "      <td>0.775035</td>\n",
              "      <td>0.811827</td>\n",
              "      <td>1.117146</td>\n",
              "      <td>0.274344</td>\n",
              "      <td>3.339564</td>\n",
              "      <td>14.282484</td>\n",
              "      <td>0.625851</td>\n",
              "      <td>0.998859</td>\n",
              "      <td>0.124453</td>\n",
              "      <td>0.572359</td>\n",
              "      <td>2.318286</td>\n",
              "      <td>0.228572</td>\n",
              "      <td>0.709990</td>\n",
              "      <td>314.907474</td>\n",
              "    </tr>\n",
              "    <tr>\n",
              "      <th>min</th>\n",
              "      <td>1.000000</td>\n",
              "      <td>11.030000</td>\n",
              "      <td>0.740000</td>\n",
              "      <td>1.360000</td>\n",
              "      <td>10.600000</td>\n",
              "      <td>70.000000</td>\n",
              "      <td>0.980000</td>\n",
              "      <td>0.340000</td>\n",
              "      <td>0.130000</td>\n",
              "      <td>0.410000</td>\n",
              "      <td>1.280000</td>\n",
              "      <td>0.480000</td>\n",
              "      <td>1.270000</td>\n",
              "      <td>278.000000</td>\n",
              "    </tr>\n",
              "    <tr>\n",
              "      <th>25%</th>\n",
              "      <td>1.000000</td>\n",
              "      <td>12.362500</td>\n",
              "      <td>1.602500</td>\n",
              "      <td>2.210000</td>\n",
              "      <td>17.200000</td>\n",
              "      <td>88.000000</td>\n",
              "      <td>1.742500</td>\n",
              "      <td>1.205000</td>\n",
              "      <td>0.270000</td>\n",
              "      <td>1.250000</td>\n",
              "      <td>3.220000</td>\n",
              "      <td>0.782500</td>\n",
              "      <td>1.937500</td>\n",
              "      <td>500.500000</td>\n",
              "    </tr>\n",
              "    <tr>\n",
              "      <th>50%</th>\n",
              "      <td>2.000000</td>\n",
              "      <td>13.050000</td>\n",
              "      <td>1.865000</td>\n",
              "      <td>2.360000</td>\n",
              "      <td>19.500000</td>\n",
              "      <td>98.000000</td>\n",
              "      <td>2.355000</td>\n",
              "      <td>2.135000</td>\n",
              "      <td>0.340000</td>\n",
              "      <td>1.555000</td>\n",
              "      <td>4.690000</td>\n",
              "      <td>0.965000</td>\n",
              "      <td>2.780000</td>\n",
              "      <td>673.500000</td>\n",
              "    </tr>\n",
              "    <tr>\n",
              "      <th>75%</th>\n",
              "      <td>3.000000</td>\n",
              "      <td>13.677500</td>\n",
              "      <td>3.082500</td>\n",
              "      <td>2.557500</td>\n",
              "      <td>21.500000</td>\n",
              "      <td>107.000000</td>\n",
              "      <td>2.800000</td>\n",
              "      <td>2.875000</td>\n",
              "      <td>0.437500</td>\n",
              "      <td>1.950000</td>\n",
              "      <td>6.200000</td>\n",
              "      <td>1.120000</td>\n",
              "      <td>3.170000</td>\n",
              "      <td>985.000000</td>\n",
              "    </tr>\n",
              "    <tr>\n",
              "      <th>max</th>\n",
              "      <td>3.000000</td>\n",
              "      <td>14.830000</td>\n",
              "      <td>5.800000</td>\n",
              "      <td>3.230000</td>\n",
              "      <td>30.000000</td>\n",
              "      <td>162.000000</td>\n",
              "      <td>3.880000</td>\n",
              "      <td>5.080000</td>\n",
              "      <td>0.660000</td>\n",
              "      <td>3.580000</td>\n",
              "      <td>13.000000</td>\n",
              "      <td>1.710000</td>\n",
              "      <td>4.000000</td>\n",
              "      <td>1680.000000</td>\n",
              "    </tr>\n",
              "  </tbody>\n",
              "</table>\n",
              "</div>"
            ],
            "text/plain": [
              "            class     Alcohol  ...  OD280/OD315 of diluted wines      Proline\n",
              "count  178.000000  178.000000  ...                    178.000000   178.000000\n",
              "mean     1.938202   13.000618  ...                      2.611685   746.893258\n",
              "std      0.775035    0.811827  ...                      0.709990   314.907474\n",
              "min      1.000000   11.030000  ...                      1.270000   278.000000\n",
              "25%      1.000000   12.362500  ...                      1.937500   500.500000\n",
              "50%      2.000000   13.050000  ...                      2.780000   673.500000\n",
              "75%      3.000000   13.677500  ...                      3.170000   985.000000\n",
              "max      3.000000   14.830000  ...                      4.000000  1680.000000\n",
              "\n",
              "[8 rows x 14 columns]"
            ]
          },
          "metadata": {
            "tags": []
          },
          "execution_count": 8
        }
      ]
    },
    {
      "cell_type": "markdown",
      "metadata": {
        "id": "skWmmxjYg9n7",
        "colab_type": "text"
      },
      "source": [
        "Classification data against each of the attributes:\n",
        "1. Alcohol"
      ]
    },
    {
      "cell_type": "code",
      "metadata": {
        "id": "6Z6rrSWVg7VW",
        "colab_type": "code",
        "outputId": "90ea0577-9bf3-48b4-b2fd-9c493e920e89",
        "colab": {
          "base_uri": "https://localhost:8080/",
          "height": 286
        }
      },
      "source": [
        "# Code example\n",
        "import matplotlib.pyplot as plt\n",
        "import numpy as np\n",
        "import pandas as pd\n",
        "import sklearn.linear_model\n",
        "\n",
        "# Prepare the data\n",
        "x = np.c_[wine[\"Alcohol\"]]\n",
        "y = np.c_[wine[\"class\"]]\n",
        "\n",
        "# Visualize the data\n",
        "wine.plot(kind='scatter',x=\"Alcohol\", y='class')\n",
        "plt.show()"
      ],
      "execution_count": 9,
      "outputs": [
        {
          "output_type": "display_data",
          "data": {
            "image/png": "[encoded data removed]",
            "text/plain": [
              "<Figure size 432x288 with 1 Axes>"
            ]
          },
          "metadata": {
            "tags": []
          }
        }
      ]
    },
    {
      "cell_type": "markdown",
      "metadata": {
        "id": "ze-SW0i6iPKQ",
        "colab_type": "text"
      },
      "source": [
        "2.Malic acid"
      ]
    },
    {
      "cell_type": "code",
      "metadata": {
        "id": "janoE1Lgiagq",
        "colab_type": "code",
        "outputId": "4e49b733-5b71-4e1d-c606-51ea55266795",
        "colab": {
          "base_uri": "https://localhost:8080/",
          "height": 286
        }
      },
      "source": [
        "# Code example\n",
        "import matplotlib.pyplot as plt\n",
        "import numpy as np\n",
        "import pandas as pd\n",
        "import sklearn.linear_model\n",
        "\n",
        "# Prepare the data\n",
        "x = np.c_[wine[\"Malic acid\"]]\n",
        "y = np.c_[wine[\"class\"]]\n",
        "\n",
        "# Visualize the data\n",
        "wine.plot(kind='scatter',x=\"Malic acid\", y='class')\n",
        "plt.show()"
      ],
      "execution_count": 10,
      "outputs": [
        {
          "output_type": "display_data",
          "data": {
            "image/png": "[encoded data removed]",
            "text/plain": [
              "<Figure size 432x288 with 1 Axes>"
            ]
          },
          "metadata": {
            "tags": []
          }
        }
      ]
    },
    {
      "cell_type": "markdown",
      "metadata": {
        "id": "ILgcUSDqisBg",
        "colab_type": "text"
      },
      "source": [
        "3.Ash"
      ]
    },
    {
      "cell_type": "code",
      "metadata": {
        "id": "6n4MTWogjx8j",
        "colab_type": "code",
        "colab": {
          "base_uri": "https://localhost:8080/",
          "height": 286
        },
        "outputId": "da4b655c-de78-4c36-ac62-6995d459efb5"
      },
      "source": [
        "# Code example\n",
        "import matplotlib.pyplot as plt\n",
        "import numpy as np\n",
        "import pandas as pd\n",
        "import sklearn.linear_model\n",
        "\n",
        "# Prepare the data\n",
        "x = np.c_[wine[\"Ash\"]]\n",
        "y = np.c_[wine[\"class\"]]\n",
        "\n",
        "# Visualize the data\n",
        "wine.plot(kind='scatter',x=\"Ash\", y='class')\n",
        "plt.show()"
      ],
      "execution_count": 11,
      "outputs": [
        {
          "output_type": "display_data",
          "data": {
            "image/png": "[encoded data removed]",
            "text/plain": [
              "<Figure size 432x288 with 1 Axes>"
            ]
          },
          "metadata": {
            "tags": []
          }
        }
      ]
    },
    {
      "cell_type": "markdown",
      "metadata": {
        "id": "TL-aJ5VlkCxh",
        "colab_type": "text"
      },
      "source": [
        "4.Alcalinity of ash"
      ]
    },
    {
      "cell_type": "code",
      "metadata": {
        "id": "KyXZTcPFkCQv",
        "colab_type": "code",
        "colab": {
          "base_uri": "https://localhost:8080/",
          "height": 286
        },
        "outputId": "db473df1-efa4-472f-e6e2-1cd73e297804"
      },
      "source": [
        "# Code example\n",
        "import matplotlib.pyplot as plt\n",
        "import numpy as np\n",
        "import pandas as pd\n",
        "import sklearn.linear_model\n",
        "\n",
        "# Prepare the data\n",
        "x = np.c_[wine[\"Alcalinity of ash\"]]\n",
        "y = np.c_[wine[\"class\"]]\n",
        "\n",
        "# Visualize the data\n",
        "wine.plot(kind='scatter',x=\"Alcalinity of ash\", y='class')\n",
        "plt.show()"
      ],
      "execution_count": 12,
      "outputs": [
        {
          "output_type": "display_data",
          "data": {
            "image/png": "[encoded data removed]",
            "text/plain": [
              "<Figure size 432x288 with 1 Axes>"
            ]
          },
          "metadata": {
            "tags": []
          }
        }
      ]
    },
    {
      "cell_type": "markdown",
      "metadata": {
        "id": "T7ZmlIEjkNiN",
        "colab_type": "text"
      },
      "source": [
        "5.Magnesium"
      ]
    },
    {
      "cell_type": "code",
      "metadata": {
        "id": "nicYaWIzkQ9z",
        "colab_type": "code",
        "colab": {
          "base_uri": "https://localhost:8080/",
          "height": 286
        },
        "outputId": "b5cdd861-d0bb-4128-f5a7-2a492931c1c8"
      },
      "source": [
        "# Code example\n",
        "import matplotlib.pyplot as plt\n",
        "import numpy as np\n",
        "import pandas as pd\n",
        "import sklearn.linear_model\n",
        "\n",
        "# Prepare the data\n",
        "x = np.c_[wine[\"Magnesium\"]]\n",
        "y = np.c_[wine[\"class\"]]\n",
        "\n",
        "# Visualize the data\n",
        "wine.plot(kind='scatter',x=\"Magnesium\", y='class')\n",
        "plt.show()"
      ],
      "execution_count": 13,
      "outputs": [
        {
          "output_type": "display_data",
          "data": {
            "image/png": "[encoded data removed]",
            "text/plain": [
              "<Figure size 432x288 with 1 Axes>"
            ]
          },
          "metadata": {
            "tags": []
          }
        }
      ]
    },
    {
      "cell_type": "markdown",
      "metadata": {
        "id": "7FDXCktRkY7K",
        "colab_type": "text"
      },
      "source": [
        "6.Total phenols"
      ]
    },
    {
      "cell_type": "code",
      "metadata": {
        "id": "EkvgvlvJkdkY",
        "colab_type": "code",
        "colab": {
          "base_uri": "https://localhost:8080/",
          "height": 286
        },
        "outputId": "bb5700ee-66a5-4ecc-abcb-c16281fee5b3"
      },
      "source": [
        "# Code example\n",
        "import matplotlib.pyplot as plt\n",
        "import numpy as np\n",
        "import pandas as pd\n",
        "import sklearn.linear_model\n",
        "\n",
        "# Prepare the data\n",
        "x = np.c_[wine[\"Total phenols\"]]\n",
        "y = np.c_[wine[\"class\"]]\n",
        "\n",
        "# Visualize the data\n",
        "wine.plot(kind='scatter',x=\"Total phenols\", y='class')\n",
        "plt.show()"
      ],
      "execution_count": 16,
      "outputs": [
        {
          "output_type": "display_data",
          "data": {
            "image/png": "[encoded data removed]",
            "text/plain": [
              "<Figure size 432x288 with 1 Axes>"
            ]
          },
          "metadata": {
            "tags": []
          }
        }
      ]
    },
    {
      "cell_type": "markdown",
      "metadata": {
        "id": "-N7cAK46kmPi",
        "colab_type": "text"
      },
      "source": [
        "7.Flavanoids"
      ]
    },
    {
      "cell_type": "code",
      "metadata": {
        "id": "lPc-EsIDkqJ_",
        "colab_type": "code",
        "colab": {
          "base_uri": "https://localhost:8080/",
          "height": 286
        },
        "outputId": "eeaf50db-b4ea-480c-c0b7-d789251f0058"
      },
      "source": [
        "# Code example\n",
        "import matplotlib.pyplot as plt\n",
        "import numpy as np\n",
        "import pandas as pd\n",
        "import sklearn.linear_model\n",
        "\n",
        "# Prepare the data\n",
        "x = np.c_[wine[\"Flavanoids\"]]\n",
        "y = np.c_[wine[\"class\"]]\n",
        "\n",
        "# Visualize the data\n",
        "wine.plot(kind='scatter',x=\"Flavanoids\", y='class')\n",
        "plt.show()"
      ],
      "execution_count": 17,
      "outputs": [
        {
          "output_type": "display_data",
          "data": {
            "image/png": "[encoded data removed]",
            "text/plain": [
              "<Figure size 432x288 with 1 Axes>"
            ]
          },
          "metadata": {
            "tags": []
          }
        }
      ]
    },
    {
      "cell_type": "markdown",
      "metadata": {
        "id": "kY-Wto3BkxRc",
        "colab_type": "text"
      },
      "source": [
        "8.Nonflavanoid phenols"
      ]
    },
    {
      "cell_type": "code",
      "metadata": {
        "id": "6K-zKUvvk1wf",
        "colab_type": "code",
        "colab": {
          "base_uri": "https://localhost:8080/",
          "height": 286
        },
        "outputId": "ed55a62e-d81c-45ae-fe21-8ff2560093b8"
      },
      "source": [
        "# Code example\n",
        "import matplotlib.pyplot as plt\n",
        "import numpy as np\n",
        "import pandas as pd\n",
        "import sklearn.linear_model\n",
        "\n",
        "# Prepare the data\n",
        "x = np.c_[wine[\"Nonflavanoid phenols\"]]\n",
        "y = np.c_[wine[\"class\"]]\n",
        "\n",
        "# Visualize the data\n",
        "wine.plot(kind='scatter',x=\"Nonflavanoid phenols\", y='class')\n",
        "plt.show()"
      ],
      "execution_count": 18,
      "outputs": [
        {
          "output_type": "display_data",
          "data": {
            "image/png": "[encoded data removed]",
            "text/plain": [
              "<Figure size 432x288 with 1 Axes>"
            ]
          },
          "metadata": {
            "tags": []
          }
        }
      ]
    },
    {
      "cell_type": "markdown",
      "metadata": {
        "id": "FFtC3CvJk6t7",
        "colab_type": "text"
      },
      "source": [
        "9.Proanthocyanins"
      ]
    },
    {
      "cell_type": "code",
      "metadata": {
        "id": "r4sBndldk1ix",
        "colab_type": "code",
        "colab": {
          "base_uri": "https://localhost:8080/",
          "height": 286
        },
        "outputId": "a3aa525b-0c94-48b2-a7c3-5553e3fbcb96"
      },
      "source": [
        "# Code example\n",
        "import matplotlib.pyplot as plt\n",
        "import numpy as np\n",
        "import pandas as pd\n",
        "import sklearn.linear_model\n",
        "\n",
        "# Prepare the data\n",
        "x = np.c_[wine[\"Proanthocyanins\"]]\n",
        "y = np.c_[wine[\"class\"]]\n",
        "\n",
        "# Visualize the data\n",
        "wine.plot(kind='scatter',x=\"Proanthocyanins\", y='class')\n",
        "plt.show()"
      ],
      "execution_count": 19,
      "outputs": [
        {
          "output_type": "display_data",
          "data": {
            "image/png": "[encoded data removed]",
            "text/plain": [
              "<Figure size 432x288 with 1 Axes>"
            ]
          },
          "metadata": {
            "tags": []
          }
        }
      ]
    },
    {
      "cell_type": "markdown",
      "metadata": {
        "id": "hyf6EULWlDNa",
        "colab_type": "text"
      },
      "source": [
        "10.Color intensity"
      ]
    },
    {
      "cell_type": "code",
      "metadata": {
        "id": "xkJH08UalGx4",
        "colab_type": "code",
        "colab": {
          "base_uri": "https://localhost:8080/",
          "height": 286
        },
        "outputId": "09d34bca-7302-4c1e-a119-88b2fba1d115"
      },
      "source": [
        "# Code example\n",
        "import matplotlib.pyplot as plt\n",
        "import numpy as np\n",
        "import pandas as pd\n",
        "import sklearn.linear_model\n",
        "\n",
        "# Prepare the data\n",
        "x = np.c_[wine[\"Color intensity\"]]\n",
        "y = np.c_[wine[\"class\"]]\n",
        "\n",
        "# Visualize the data\n",
        "wine.plot(kind='scatter',x=\"Color intensity\", y='class')\n",
        "plt.show()"
      ],
      "execution_count": 20,
      "outputs": [
        {
          "output_type": "display_data",
          "data": {
            "image/png": "[encoded data removed]",
            "text/plain": [
              "<Figure size 432x288 with 1 Axes>"
            ]
          },
          "metadata": {
            "tags": []
          }
        }
      ]
    },
    {
      "cell_type": "markdown",
      "metadata": {
        "id": "Y25j-1D9lLL3",
        "colab_type": "text"
      },
      "source": [
        "11.Hue"
      ]
    },
    {
      "cell_type": "code",
      "metadata": {
        "id": "kH2aSsBGlN9b",
        "colab_type": "code",
        "colab": {
          "base_uri": "https://localhost:8080/",
          "height": 286
        },
        "outputId": "c2e6949a-c9a5-4429-c8a2-5e0b53cdf076"
      },
      "source": [
        "# Code example\n",
        "import matplotlib.pyplot as plt\n",
        "import numpy as np\n",
        "import pandas as pd\n",
        "import sklearn.linear_model\n",
        "\n",
        "# Prepare the data\n",
        "x = np.c_[wine[\"Hue\"]]\n",
        "y = np.c_[wine[\"class\"]]\n",
        "\n",
        "# Visualize the data\n",
        "wine.plot(kind='scatter',x=\"Hue\", y='class')\n",
        "plt.show()"
      ],
      "execution_count": 21,
      "outputs": [
        {
          "output_type": "display_data",
          "data": {
            "image/png": "[encoded data removed]",
            "text/plain": [
              "<Figure size 432x288 with 1 Axes>"
            ]
          },
          "metadata": {
            "tags": []
          }
        }
      ]
    },
    {
      "cell_type": "markdown",
      "metadata": {
        "id": "8-aVZ1bRlZ8A",
        "colab_type": "text"
      },
      "source": [
        "12.OD280/OD315 of diluted wines"
      ]
    },
    {
      "cell_type": "code",
      "metadata": {
        "id": "dJg69qJwlc0C",
        "colab_type": "code",
        "colab": {
          "base_uri": "https://localhost:8080/",
          "height": 286
        },
        "outputId": "267226b7-74df-4a79-dbe9-eee4b775cd69"
      },
      "source": [
        "# Code example\n",
        "import matplotlib.pyplot as plt\n",
        "import numpy as np\n",
        "import pandas as pd\n",
        "import sklearn.linear_model\n",
        "\n",
        "# Prepare the data\n",
        "x = np.c_[wine[\"OD280/OD315 of diluted wines\"]]\n",
        "y = np.c_[wine[\"class\"]]\n",
        "\n",
        "# Visualize the data\n",
        "wine.plot(kind='scatter',x=\"OD280/OD315 of diluted wines\", y='class')\n",
        "plt.show()"
      ],
      "execution_count": 22,
      "outputs": [
        {
          "output_type": "display_data",
          "data": {
            "image/png": "[encoded data removed]",
            "text/plain": [
              "<Figure size 432x288 with 1 Axes>"
            ]
          },
          "metadata": {
            "tags": []
          }
        }
      ]
    },
    {
      "cell_type": "markdown",
      "metadata": {
        "id": "zj37owNXlisW",
        "colab_type": "text"
      },
      "source": [
        "13.Proline"
      ]
    },
    {
      "cell_type": "code",
      "metadata": {
        "id": "j0Ob6ca_lmFS",
        "colab_type": "code",
        "colab": {
          "base_uri": "https://localhost:8080/",
          "height": 286
        },
        "outputId": "bef793e8-90f6-4122-bfc8-401455c9102f"
      },
      "source": [
        "# Code example\n",
        "import matplotlib.pyplot as plt\n",
        "import numpy as np\n",
        "import pandas as pd\n",
        "import sklearn.linear_model\n",
        "\n",
        "# Prepare the data\n",
        "x = np.c_[wine[\"Proline\"]]\n",
        "y = np.c_[wine[\"class\"]]\n",
        "\n",
        "# Visualize the data\n",
        "wine.plot(kind='scatter',x=\"Proline\", y='class')\n",
        "plt.show()"
      ],
      "execution_count": 23,
      "outputs": [
        {
          "output_type": "display_data",
          "data": {
            "image/png": "[encoded data removed]",
            "text/plain": [
              "<Figure size 432x288 with 1 Axes>"
            ]
          },
          "metadata": {
            "tags": []
          }
        }
      ]
    },
    {
      "cell_type": "code",
      "metadata": {
        "id": "aMllye9Cjhdg",
        "colab_type": "code",
        "outputId": "b55901ad-cb32-4490-fef4-7b04d67677b7",
        "colab": {
          "base_uri": "https://localhost:8080/",
          "height": 1000
        }
      },
      "source": [
        "%matplotlib inline\n",
        "import matplotlib.pyplot as plt\n",
        "wine.hist(bins=50, figsize=(20,15))\n",
        "save_fig(\"attribute_histogram_plots\")\n",
        "plt.show()"
      ],
      "execution_count": 0,
      "outputs": [
        {
          "output_type": "stream",
          "text": [
            "Saving figure attribute_histogram_plots\n"
          ],
          "name": "stdout"
        },
        {
          "output_type": "display_data",
          "data": {
            "image/png": "[encoded data removed]",
            "text/plain": [
              "<Figure size 1440x1080 with 16 Axes>"
            ]
          },
          "metadata": {
            "tags": []
          }
        }
      ]
    },
    {
      "cell_type": "code",
      "metadata": {
        "id": "7hfjs-b5jsDB",
        "colab_type": "code",
        "colab": {}
      },
      "source": [
        "# to make this notebook's output identical at every run\n",
        "np.random.seed(42)"
      ],
      "execution_count": 0,
      "outputs": []
    },
    {
      "cell_type": "code",
      "metadata": {
        "id": "G7sN5nfnjve0",
        "colab_type": "code",
        "colab": {}
      },
      "source": [
        "import numpy as np\n",
        "\n",
        "# For illustration only. Sklearn has train_test_split()\n",
        "def split_train_test(data, test_ratio):\n",
        "    shuffled_indices = np.random.permutation(len(data))\n",
        "    test_set_size = int(len(data) * test_ratio)\n",
        "    test_indices = shuffled_indices[:test_set_size]\n",
        "    train_indices = shuffled_indices[test_set_size:]\n",
        "    return data.iloc[train_indices], data.iloc[test_indices]"
      ],
      "execution_count": 0,
      "outputs": []
    },
    {
      "cell_type": "code",
      "metadata": {
        "id": "COhSGuezjzyY",
        "colab_type": "code",
        "outputId": "95fef4d0-36db-405e-ee3b-c33eb703e7da",
        "colab": {
          "base_uri": "https://localhost:8080/",
          "height": 35
        }
      },
      "source": [
        "train_set, test_set = split_train_test(wine, 0.2)\n",
        "len(train_set)"
      ],
      "execution_count": 0,
      "outputs": [
        {
          "output_type": "execute_result",
          "data": {
            "text/plain": [
              "143"
            ]
          },
          "metadata": {
            "tags": []
          },
          "execution_count": 14
        }
      ]
    },
    {
      "cell_type": "code",
      "metadata": {
        "id": "AR_wwi7Hj7EK",
        "colab_type": "code",
        "outputId": "c7243fe6-c2cb-4996-bf4f-ec4f993f1f09",
        "colab": {
          "base_uri": "https://localhost:8080/",
          "height": 35
        }
      },
      "source": [
        "len(test_set)"
      ],
      "execution_count": 0,
      "outputs": [
        {
          "output_type": "execute_result",
          "data": {
            "text/plain": [
              "35"
            ]
          },
          "metadata": {
            "tags": []
          },
          "execution_count": 15
        }
      ]
    },
    {
      "cell_type": "code",
      "metadata": {
        "id": "0FHwhM9ukEi2",
        "colab_type": "code",
        "colab": {}
      },
      "source": [
        "from zlib import crc32\n",
        "\n",
        "def test_set_check(identifier, test_ratio):\n",
        "    return crc32(np.int64(identifier)) & 0xffffffff < test_ratio * 2**32\n",
        "\n",
        "def split_train_test_by_id(data, test_ratio, id_column):\n",
        "    ids = data[id_column]\n",
        "    in_test_set = ids.apply(lambda id_: test_set_check(id_, test_ratio))\n",
        "    return data.loc[~in_test_set], data.loc[in_test_set]"
      ],
      "execution_count": 0,
      "outputs": []
    },
    {
      "cell_type": "code",
      "metadata": {
        "id": "mYvsdI4uka2i",
        "colab_type": "code",
        "colab": {}
      },
      "source": [
        "wine_with_id = wine.reset_index()   # adds an `index` column\n",
        "train_set, test_set = split_train_test_by_id(wine_with_id, 0.2, \"index\")"
      ],
      "execution_count": 0,
      "outputs": []
    },
    {
      "cell_type": "code",
      "metadata": {
        "id": "KOVUrwHalq8F",
        "colab_type": "code",
        "colab": {}
      },
      "source": [
        "wine_with_id = wine.reset_index()   # adds an `index` column\n",
        "train_set, test_set = split_train_test_by_id(wine_with_id, 0.2, \"index\")"
      ],
      "execution_count": 0,
      "outputs": []
    },
    {
      "cell_type": "code",
      "metadata": {
        "id": "ZuiM5Da6lw-5",
        "colab_type": "code",
        "colab": {}
      },
      "source": [
        "wine_with_id[\"id\"] = wine[\"Alcohol\"]*1000 + wine[\"Malic acid\"]\n",
        "train_set, test_set = split_train_test_by_id(wine_with_id, 0.2, \"id\")"
      ],
      "execution_count": 0,
      "outputs": []
    },
    {
      "cell_type": "code",
      "metadata": {
        "id": "w_qQzvMsmDX2",
        "colab_type": "code",
        "outputId": "345eefab-8d57-412d-89b8-9205f35ed924",
        "colab": {
          "base_uri": "https://localhost:8080/",
          "height": 253
        }
      },
      "source": [
        "test_set.head()"
      ],
      "execution_count": 0,
      "outputs": [
        {
          "output_type": "execute_result",
          "data": {
            "text/html": [
              "<div>\n",
              "<style scoped>\n",
              "    .dataframe tbody tr th:only-of-type {\n",
              "        vertical-align: middle;\n",
              "    }\n",
              "\n",
              "    .dataframe tbody tr th {\n",
              "        vertical-align: top;\n",
              "    }\n",
              "\n",
              "    .dataframe thead th {\n",
              "        text-align: right;\n",
              "    }\n",
              "</style>\n",
              "<table border=\"1\" class=\"dataframe\">\n",
              "  <thead>\n",
              "    <tr style=\"text-align: right;\">\n",
              "      <th></th>\n",
              "      <th>index</th>\n",
              "      <th>class</th>\n",
              "      <th>Alcohol</th>\n",
              "      <th>Malic acid</th>\n",
              "      <th>Ash</th>\n",
              "      <th>Alcalinity of ash</th>\n",
              "      <th>Magnesium</th>\n",
              "      <th>Total phenols</th>\n",
              "      <th>Flavanoids</th>\n",
              "      <th>Nonflavanoid phenols</th>\n",
              "      <th>Proanthocyanins</th>\n",
              "      <th>Color intensity</th>\n",
              "      <th>Hue</th>\n",
              "      <th>OD280/OD315 of diluted wines</th>\n",
              "      <th>Proline</th>\n",
              "      <th>id</th>\n",
              "    </tr>\n",
              "  </thead>\n",
              "  <tbody>\n",
              "    <tr>\n",
              "      <th>0</th>\n",
              "      <td>0</td>\n",
              "      <td>1</td>\n",
              "      <td>14.23</td>\n",
              "      <td>1.71</td>\n",
              "      <td>2.43</td>\n",
              "      <td>15.6</td>\n",
              "      <td>127</td>\n",
              "      <td>2.80</td>\n",
              "      <td>3.06</td>\n",
              "      <td>0.28</td>\n",
              "      <td>2.29</td>\n",
              "      <td>5.64</td>\n",
              "      <td>1.04</td>\n",
              "      <td>3.92</td>\n",
              "      <td>1065</td>\n",
              "      <td>14231.71</td>\n",
              "    </tr>\n",
              "    <tr>\n",
              "      <th>1</th>\n",
              "      <td>1</td>\n",
              "      <td>1</td>\n",
              "      <td>13.20</td>\n",
              "      <td>1.78</td>\n",
              "      <td>2.14</td>\n",
              "      <td>11.2</td>\n",
              "      <td>100</td>\n",
              "      <td>2.65</td>\n",
              "      <td>2.76</td>\n",
              "      <td>0.26</td>\n",
              "      <td>1.28</td>\n",
              "      <td>4.38</td>\n",
              "      <td>1.05</td>\n",
              "      <td>3.40</td>\n",
              "      <td>1050</td>\n",
              "      <td>13201.78</td>\n",
              "    </tr>\n",
              "    <tr>\n",
              "      <th>8</th>\n",
              "      <td>8</td>\n",
              "      <td>1</td>\n",
              "      <td>14.83</td>\n",
              "      <td>1.64</td>\n",
              "      <td>2.17</td>\n",
              "      <td>14.0</td>\n",
              "      <td>97</td>\n",
              "      <td>2.80</td>\n",
              "      <td>2.98</td>\n",
              "      <td>0.29</td>\n",
              "      <td>1.98</td>\n",
              "      <td>5.20</td>\n",
              "      <td>1.08</td>\n",
              "      <td>2.85</td>\n",
              "      <td>1045</td>\n",
              "      <td>14831.64</td>\n",
              "    </tr>\n",
              "    <tr>\n",
              "      <th>9</th>\n",
              "      <td>9</td>\n",
              "      <td>1</td>\n",
              "      <td>13.86</td>\n",
              "      <td>1.35</td>\n",
              "      <td>2.27</td>\n",
              "      <td>16.0</td>\n",
              "      <td>98</td>\n",
              "      <td>2.98</td>\n",
              "      <td>3.15</td>\n",
              "      <td>0.22</td>\n",
              "      <td>1.85</td>\n",
              "      <td>7.22</td>\n",
              "      <td>1.01</td>\n",
              "      <td>3.55</td>\n",
              "      <td>1045</td>\n",
              "      <td>13861.35</td>\n",
              "    </tr>\n",
              "    <tr>\n",
              "      <th>18</th>\n",
              "      <td>18</td>\n",
              "      <td>1</td>\n",
              "      <td>14.19</td>\n",
              "      <td>1.59</td>\n",
              "      <td>2.48</td>\n",
              "      <td>16.5</td>\n",
              "      <td>108</td>\n",
              "      <td>3.30</td>\n",
              "      <td>3.93</td>\n",
              "      <td>0.32</td>\n",
              "      <td>1.86</td>\n",
              "      <td>8.70</td>\n",
              "      <td>1.23</td>\n",
              "      <td>2.82</td>\n",
              "      <td>1680</td>\n",
              "      <td>14191.59</td>\n",
              "    </tr>\n",
              "  </tbody>\n",
              "</table>\n",
              "</div>"
            ],
            "text/plain": [
              "    index  class  Alcohol  ...  OD280/OD315 of diluted wines  Proline        id\n",
              "0       0      1    14.23  ...                          3.92     1065  14231.71\n",
              "1       1      1    13.20  ...                          3.40     1050  13201.78\n",
              "8       8      1    14.83  ...                          2.85     1045  14831.64\n",
              "9       9      1    13.86  ...                          3.55     1045  13861.35\n",
              "18     18      1    14.19  ...                          2.82     1680  14191.59\n",
              "\n",
              "[5 rows x 16 columns]"
            ]
          },
          "metadata": {
            "tags": []
          },
          "execution_count": 20
        }
      ]
    },
    {
      "cell_type": "code",
      "metadata": {
        "id": "hPtqJTUynaiC",
        "colab_type": "code",
        "colab": {}
      },
      "source": [
        "from sklearn.model_selection import train_test_split\n",
        "\n",
        "train_set, test_set = train_test_split(wine, test_size=0.2, random_state=42)"
      ],
      "execution_count": 0,
      "outputs": []
    },
    {
      "cell_type": "code",
      "metadata": {
        "id": "vjYrD-nfnieo",
        "colab_type": "code",
        "outputId": "81748cc7-0174-435b-a9ea-37e538942da5",
        "colab": {
          "base_uri": "https://localhost:8080/",
          "height": 253
        }
      },
      "source": [
        "test_set.head()"
      ],
      "execution_count": 0,
      "outputs": [
        {
          "output_type": "execute_result",
          "data": {
            "text/html": [
              "<div>\n",
              "<style scoped>\n",
              "    .dataframe tbody tr th:only-of-type {\n",
              "        vertical-align: middle;\n",
              "    }\n",
              "\n",
              "    .dataframe tbody tr th {\n",
              "        vertical-align: top;\n",
              "    }\n",
              "\n",
              "    .dataframe thead th {\n",
              "        text-align: right;\n",
              "    }\n",
              "</style>\n",
              "<table border=\"1\" class=\"dataframe\">\n",
              "  <thead>\n",
              "    <tr style=\"text-align: right;\">\n",
              "      <th></th>\n",
              "      <th>class</th>\n",
              "      <th>Alcohol</th>\n",
              "      <th>Malic acid</th>\n",
              "      <th>Ash</th>\n",
              "      <th>Alcalinity of ash</th>\n",
              "      <th>Magnesium</th>\n",
              "      <th>Total phenols</th>\n",
              "      <th>Flavanoids</th>\n",
              "      <th>Nonflavanoid phenols</th>\n",
              "      <th>Proanthocyanins</th>\n",
              "      <th>Color intensity</th>\n",
              "      <th>Hue</th>\n",
              "      <th>OD280/OD315 of diluted wines</th>\n",
              "      <th>Proline</th>\n",
              "    </tr>\n",
              "  </thead>\n",
              "  <tbody>\n",
              "    <tr>\n",
              "      <th>19</th>\n",
              "      <td>1</td>\n",
              "      <td>13.64</td>\n",
              "      <td>3.10</td>\n",
              "      <td>2.56</td>\n",
              "      <td>15.2</td>\n",
              "      <td>116</td>\n",
              "      <td>2.70</td>\n",
              "      <td>3.03</td>\n",
              "      <td>0.17</td>\n",
              "      <td>1.66</td>\n",
              "      <td>5.10</td>\n",
              "      <td>0.96</td>\n",
              "      <td>3.36</td>\n",
              "      <td>845</td>\n",
              "    </tr>\n",
              "    <tr>\n",
              "      <th>45</th>\n",
              "      <td>1</td>\n",
              "      <td>14.21</td>\n",
              "      <td>4.04</td>\n",
              "      <td>2.44</td>\n",
              "      <td>18.9</td>\n",
              "      <td>111</td>\n",
              "      <td>2.85</td>\n",
              "      <td>2.65</td>\n",
              "      <td>0.30</td>\n",
              "      <td>1.25</td>\n",
              "      <td>5.24</td>\n",
              "      <td>0.87</td>\n",
              "      <td>3.33</td>\n",
              "      <td>1080</td>\n",
              "    </tr>\n",
              "    <tr>\n",
              "      <th>140</th>\n",
              "      <td>3</td>\n",
              "      <td>12.93</td>\n",
              "      <td>2.81</td>\n",
              "      <td>2.70</td>\n",
              "      <td>21.0</td>\n",
              "      <td>96</td>\n",
              "      <td>1.54</td>\n",
              "      <td>0.50</td>\n",
              "      <td>0.53</td>\n",
              "      <td>0.75</td>\n",
              "      <td>4.60</td>\n",
              "      <td>0.77</td>\n",
              "      <td>2.31</td>\n",
              "      <td>600</td>\n",
              "    </tr>\n",
              "    <tr>\n",
              "      <th>30</th>\n",
              "      <td>1</td>\n",
              "      <td>13.73</td>\n",
              "      <td>1.50</td>\n",
              "      <td>2.70</td>\n",
              "      <td>22.5</td>\n",
              "      <td>101</td>\n",
              "      <td>3.00</td>\n",
              "      <td>3.25</td>\n",
              "      <td>0.29</td>\n",
              "      <td>2.38</td>\n",
              "      <td>5.70</td>\n",
              "      <td>1.19</td>\n",
              "      <td>2.71</td>\n",
              "      <td>1285</td>\n",
              "    </tr>\n",
              "    <tr>\n",
              "      <th>67</th>\n",
              "      <td>2</td>\n",
              "      <td>12.37</td>\n",
              "      <td>1.17</td>\n",
              "      <td>1.92</td>\n",
              "      <td>19.6</td>\n",
              "      <td>78</td>\n",
              "      <td>2.11</td>\n",
              "      <td>2.00</td>\n",
              "      <td>0.27</td>\n",
              "      <td>1.04</td>\n",
              "      <td>4.68</td>\n",
              "      <td>1.12</td>\n",
              "      <td>3.48</td>\n",
              "      <td>510</td>\n",
              "    </tr>\n",
              "  </tbody>\n",
              "</table>\n",
              "</div>"
            ],
            "text/plain": [
              "     class  Alcohol  Malic acid  ...   Hue  OD280/OD315 of diluted wines  Proline\n",
              "19       1    13.64        3.10  ...  0.96                          3.36      845\n",
              "45       1    14.21        4.04  ...  0.87                          3.33     1080\n",
              "140      3    12.93        2.81  ...  0.77                          2.31      600\n",
              "30       1    13.73        1.50  ...  1.19                          2.71     1285\n",
              "67       2    12.37        1.17  ...  1.12                          3.48      510\n",
              "\n",
              "[5 rows x 14 columns]"
            ]
          },
          "metadata": {
            "tags": []
          },
          "execution_count": 22
        }
      ]
    },
    {
      "cell_type": "markdown",
      "metadata": {
        "id": "4CfFhXgo6rvV",
        "colab_type": "text"
      },
      "source": [
        "Take attribute 'Alcohol' as an exercise example"
      ]
    },
    {
      "cell_type": "code",
      "metadata": {
        "id": "6WnyLNI0nnU-",
        "colab_type": "code",
        "outputId": "88c28f1e-0cda-4aee-9762-87bb466de6ac",
        "colab": {
          "base_uri": "https://localhost:8080/",
          "height": 285
        }
      },
      "source": [
        "wine[\"Alcohol\"].hist()"
      ],
      "execution_count": 0,
      "outputs": [
        {
          "output_type": "execute_result",
          "data": {
            "text/plain": [
              "<matplotlib.axes._subplots.AxesSubplot at 0x7fad676312e8>"
            ]
          },
          "metadata": {
            "tags": []
          },
          "execution_count": 23
        },
        {
          "output_type": "display_data",
          "data": {
            "image/png": "[encoded data removed]",
            "text/plain": [
              "<Figure size 432x288 with 1 Axes>"
            ]
          },
          "metadata": {
            "tags": []
          }
        }
      ]
    },
    {
      "cell_type": "code",
      "metadata": {
        "id": "S1hd-ZPioEYF",
        "colab_type": "code",
        "colab": {}
      },
      "source": [
        "wine[\"alcohol_cat\"] = pd.cut(wine[\"Alcohol\"],\n",
        "                               bins=[11.0, 12.0, 13.0, 14.0, np.inf],\n",
        "                               labels=[1, 2, 3, 4])"
      ],
      "execution_count": 0,
      "outputs": []
    },
    {
      "cell_type": "code",
      "metadata": {
        "id": "okC9oYP6osU2",
        "colab_type": "code",
        "outputId": "308635f2-9e22-40f5-e5ee-bfef8ac64fe7",
        "colab": {
          "base_uri": "https://localhost:8080/",
          "height": 104
        }
      },
      "source": [
        "wine[\"alcohol_cat\"].value_counts()"
      ],
      "execution_count": 0,
      "outputs": [
        {
          "output_type": "execute_result",
          "data": {
            "text/plain": [
              "3    70\n",
              "2    64\n",
              "4    22\n",
              "1    22\n",
              "Name: alcohol_cat, dtype: int64"
            ]
          },
          "metadata": {
            "tags": []
          },
          "execution_count": 25
        }
      ]
    },
    {
      "cell_type": "code",
      "metadata": {
        "id": "H8WVcxpOo8Zj",
        "colab_type": "code",
        "outputId": "fa13308f-8d05-437b-ad99-37925292e483",
        "colab": {
          "base_uri": "https://localhost:8080/",
          "height": 285
        }
      },
      "source": [
        "wine[\"alcohol_cat\"].hist()"
      ],
      "execution_count": 0,
      "outputs": [
        {
          "output_type": "execute_result",
          "data": {
            "text/plain": [
              "<matplotlib.axes._subplots.AxesSubplot at 0x7fad6d48ef98>"
            ]
          },
          "metadata": {
            "tags": []
          },
          "execution_count": 26
        },
        {
          "output_type": "display_data",
          "data": {
            "image/png": "[encoded data removed]",
            "text/plain": [
              "<Figure size 432x288 with 1 Axes>"
            ]
          },
          "metadata": {
            "tags": []
          }
        }
      ]
    },
    {
      "cell_type": "code",
      "metadata": {
        "id": "oSBM970upCXj",
        "colab_type": "code",
        "colab": {}
      },
      "source": [
        "from sklearn.model_selection import StratifiedShuffleSplit\n",
        "\n",
        "split = StratifiedShuffleSplit(n_splits=1, test_size=0.2, random_state=42)\n",
        "for train_index, test_index in split.split(wine, wine[\"alcohol_cat\"]):\n",
        "    strat_train_set = wine.loc[train_index]\n",
        "    strat_test_set = wine.loc[test_index]"
      ],
      "execution_count": 0,
      "outputs": []
    },
    {
      "cell_type": "code",
      "metadata": {
        "id": "boERhIHXpUEz",
        "colab_type": "code",
        "outputId": "d314ebfa-ad62-4976-93c1-5ce2a9f39110",
        "colab": {
          "base_uri": "https://localhost:8080/",
          "height": 104
        }
      },
      "source": [
        "strat_test_set[\"alcohol_cat\"].value_counts() / len(strat_test_set)"
      ],
      "execution_count": 0,
      "outputs": [
        {
          "output_type": "execute_result",
          "data": {
            "text/plain": [
              "3    0.388889\n",
              "2    0.361111\n",
              "1    0.138889\n",
              "4    0.111111\n",
              "Name: alcohol_cat, dtype: float64"
            ]
          },
          "metadata": {
            "tags": []
          },
          "execution_count": 37
        }
      ]
    },
    {
      "cell_type": "code",
      "metadata": {
        "id": "kLmnx3RjpbY2",
        "colab_type": "code",
        "outputId": "8cdce1c5-e193-42e9-a77f-5ff0c349df45",
        "colab": {
          "base_uri": "https://localhost:8080/",
          "height": 104
        }
      },
      "source": [
        "wine[\"alcohol_cat\"].value_counts() / len(wine)"
      ],
      "execution_count": 0,
      "outputs": [
        {
          "output_type": "execute_result",
          "data": {
            "text/plain": [
              "3    0.393258\n",
              "2    0.359551\n",
              "4    0.123596\n",
              "1    0.123596\n",
              "Name: alcohol_cat, dtype: float64"
            ]
          },
          "metadata": {
            "tags": []
          },
          "execution_count": 38
        }
      ]
    },
    {
      "cell_type": "code",
      "metadata": {
        "id": "i-28MDoypkoF",
        "colab_type": "code",
        "colab": {}
      },
      "source": [
        "def alcohol_cat_proportions(data):\n",
        "    return data[\"alcohol_cat\"].value_counts() / len(data)\n",
        "\n",
        "train_set, test_set = train_test_split(wine, test_size=0.2, random_state=42)\n",
        "\n",
        "compare_props = pd.DataFrame({\n",
        "    \"Overall\": alcohol_cat_proportions(wine),\n",
        "    \"Stratified\": alcohol_cat_proportions(strat_test_set),\n",
        "    \"Random\": alcohol_cat_proportions(test_set),\n",
        "}).sort_index()\n",
        "compare_props[\"Rand. %error\"] = 100 * compare_props[\"Random\"] / compare_props[\"Overall\"] - 100\n",
        "compare_props[\"Strat. %error\"] = 100 * compare_props[\"Stratified\"] / compare_props[\"Overall\"] - 100"
      ],
      "execution_count": 0,
      "outputs": []
    },
    {
      "cell_type": "code",
      "metadata": {
        "id": "4cDKu1B9p0T7",
        "colab_type": "code",
        "outputId": "f9f04e57-467d-420f-d651-8868be33f433",
        "colab": {
          "base_uri": "https://localhost:8080/",
          "height": 168
        }
      },
      "source": [
        "compare_props"
      ],
      "execution_count": 0,
      "outputs": [
        {
          "output_type": "execute_result",
          "data": {
            "text/html": [
              "<div>\n",
              "<style scoped>\n",
              "    .dataframe tbody tr th:only-of-type {\n",
              "        vertical-align: middle;\n",
              "    }\n",
              "\n",
              "    .dataframe tbody tr th {\n",
              "        vertical-align: top;\n",
              "    }\n",
              "\n",
              "    .dataframe thead th {\n",
              "        text-align: right;\n",
              "    }\n",
              "</style>\n",
              "<table border=\"1\" class=\"dataframe\">\n",
              "  <thead>\n",
              "    <tr style=\"text-align: right;\">\n",
              "      <th></th>\n",
              "      <th>Overall</th>\n",
              "      <th>Stratified</th>\n",
              "      <th>Random</th>\n",
              "      <th>Rand. %error</th>\n",
              "      <th>Strat. %error</th>\n",
              "    </tr>\n",
              "  </thead>\n",
              "  <tbody>\n",
              "    <tr>\n",
              "      <th>1</th>\n",
              "      <td>0.123596</td>\n",
              "      <td>0.138889</td>\n",
              "      <td>0.083333</td>\n",
              "      <td>-32.575758</td>\n",
              "      <td>12.373737</td>\n",
              "    </tr>\n",
              "    <tr>\n",
              "      <th>2</th>\n",
              "      <td>0.359551</td>\n",
              "      <td>0.361111</td>\n",
              "      <td>0.333333</td>\n",
              "      <td>-7.291667</td>\n",
              "      <td>0.434028</td>\n",
              "    </tr>\n",
              "    <tr>\n",
              "      <th>3</th>\n",
              "      <td>0.393258</td>\n",
              "      <td>0.388889</td>\n",
              "      <td>0.472222</td>\n",
              "      <td>20.079365</td>\n",
              "      <td>-1.111111</td>\n",
              "    </tr>\n",
              "    <tr>\n",
              "      <th>4</th>\n",
              "      <td>0.123596</td>\n",
              "      <td>0.111111</td>\n",
              "      <td>0.111111</td>\n",
              "      <td>-10.101010</td>\n",
              "      <td>-10.101010</td>\n",
              "    </tr>\n",
              "  </tbody>\n",
              "</table>\n",
              "</div>"
            ],
            "text/plain": [
              "    Overall  Stratified    Random  Rand. %error  Strat. %error\n",
              "1  0.123596    0.138889  0.083333    -32.575758      12.373737\n",
              "2  0.359551    0.361111  0.333333     -7.291667       0.434028\n",
              "3  0.393258    0.388889  0.472222     20.079365      -1.111111\n",
              "4  0.123596    0.111111  0.111111    -10.101010     -10.101010"
            ]
          },
          "metadata": {
            "tags": []
          },
          "execution_count": 40
        }
      ]
    },
    {
      "cell_type": "markdown",
      "metadata": {
        "id": "eWjyM67v6-W0",
        "colab_type": "text"
      },
      "source": [
        "From the %error it seems alcohol is a bad estimating attribute"
      ]
    },
    {
      "cell_type": "code",
      "metadata": {
        "id": "Epql6A3xp62c",
        "colab_type": "code",
        "colab": {}
      },
      "source": [
        "for set_ in (strat_train_set, strat_test_set):\n",
        "    set_.drop(\"alcohol_cat\", axis=1, inplace=True)"
      ],
      "execution_count": 0,
      "outputs": []
    },
    {
      "cell_type": "code",
      "metadata": {
        "id": "2gr-v6-s_NMG",
        "colab_type": "code",
        "colab": {}
      },
      "source": [
        "corr_matrix = wine.corr()"
      ],
      "execution_count": 0,
      "outputs": []
    },
    {
      "cell_type": "code",
      "metadata": {
        "id": "wgDyKPUBAPQP",
        "colab_type": "code",
        "outputId": "8cf6a575-b9c9-458c-88ef-57b395ee0e19",
        "colab": {
          "base_uri": "https://localhost:8080/",
          "height": 276
        }
      },
      "source": [
        "corr_matrix[\"class\"].sort_values(ascending=False)"
      ],
      "execution_count": 0,
      "outputs": [
        {
          "output_type": "execute_result",
          "data": {
            "text/plain": [
              "class                           1.000000\n",
              "Alcalinity of ash               0.517859\n",
              "Nonflavanoid phenols            0.489109\n",
              "Malic acid                      0.437776\n",
              "Color intensity                 0.265668\n",
              "Ash                            -0.049643\n",
              "Magnesium                      -0.209179\n",
              "Alcohol                        -0.328222\n",
              "Proanthocyanins                -0.499130\n",
              "Hue                            -0.617369\n",
              "Proline                        -0.633717\n",
              "Total phenols                  -0.719163\n",
              "OD280/OD315 of diluted wines   -0.788230\n",
              "Flavanoids                     -0.847498\n",
              "Name: class, dtype: float64"
            ]
          },
          "metadata": {
            "tags": []
          },
          "execution_count": 44
        }
      ]
    },
    {
      "cell_type": "markdown",
      "metadata": {
        "id": "js_t6-f8BhEP",
        "colab_type": "text"
      },
      "source": [
        "# **From the correlation matrix above we can find out that the attribute with the strongest correlation is Flavanoids.**"
      ]
    },
    {
      "cell_type": "code",
      "metadata": {
        "id": "c09ldufJDlvO",
        "colab_type": "code",
        "outputId": "55dd894b-a4ab-4902-b6ec-f7b48df82388",
        "colab": {
          "base_uri": "https://localhost:8080/",
          "height": 624
        }
      },
      "source": [
        "# from pandas.tools.plotting import scatter_matrix # For older versions of Pandas\n",
        "from pandas.plotting import scatter_matrix\n",
        "\n",
        "attributes = [\"class\", \"Flavanoids\", \"OD280/OD315 of diluted wines\",\n",
        "              \"Total phenols\"]\n",
        "scatter_matrix(wine[attributes], figsize=(12, 8))\n",
        "save_fig(\"scatter_matrix_plot\")"
      ],
      "execution_count": 0,
      "outputs": [
        {
          "output_type": "stream",
          "text": [
            "Saving figure scatter_matrix_plot\n"
          ],
          "name": "stdout"
        },
        {
          "output_type": "display_data",
          "data": {
            "image/png": "[encoded data removed]",
            "text/plain": [
              "<Figure size 864x576 with 16 Axes>"
            ]
          },
          "metadata": {
            "tags": []
          }
        }
      ]
    },
    {
      "cell_type": "code",
      "metadata": {
        "id": "iAjwSMHsEJ6M",
        "colab_type": "code",
        "outputId": "64c0f89e-a8d6-47c3-e95a-0b9834282120",
        "colab": {
          "base_uri": "https://localhost:8080/",
          "height": 315
        }
      },
      "source": [
        "wine.plot(kind=\"scatter\", x=\"class\", y=\"Flavanoids\",\n",
        "             alpha=0.1)\n",
        "plt.axis([0.5, 3.5, 0, 5.5])\n",
        "save_fig(\"class_vs_Flavanoids_scatterplot\")"
      ],
      "execution_count": 0,
      "outputs": [
        {
          "output_type": "stream",
          "text": [
            "Saving figure class_vs_Flavanoids_scatterplot\n"
          ],
          "name": "stdout"
        },
        {
          "output_type": "display_data",
          "data": {
            "image/png": "[encoded data removed]",
            "text/plain": [
              "<Figure size 432x288 with 1 Axes>"
            ]
          },
          "metadata": {
            "tags": []
          }
        }
      ]
    },
    {
      "cell_type": "markdown",
      "metadata": {
        "id": "5ORWAN2FFzKF",
        "colab_type": "text"
      },
      "source": [
        "# Prepare the data for Machine Learning algorithms\n",
        "\n",
        "Since there is no missing data, non-numeric data in this wine database, we can skip some data cleaning parts.\n"
      ]
    },
    {
      "cell_type": "code",
      "metadata": {
        "id": "07_PKWNZw7OK",
        "colab_type": "code",
        "colab": {}
      },
      "source": [
        "wine = strat_train_set.drop(\"class\", axis=1) # drop labels for training set\n",
        "wine_labels = strat_train_set[\"class\"].copy()"
      ],
      "execution_count": 0,
      "outputs": []
    },
    {
      "cell_type": "code",
      "metadata": {
        "id": "1hRdknGoPdYz",
        "colab_type": "code",
        "colab": {}
      },
      "source": [
        "# not necessary here since there is no missing data\n",
        "from sklearn.impute import SimpleImputer\n",
        "imputer = SimpleImputer(strategy=\"median\")"
      ],
      "execution_count": 0,
      "outputs": []
    },
    {
      "cell_type": "code",
      "metadata": {
        "id": "ZPADo0gVQ70c",
        "colab_type": "code",
        "colab": {}
      },
      "source": [
        "from sklearn.base import BaseEstimator, TransformerMixin\n",
        "from sklearn.pipeline import Pipeline\n",
        "from sklearn.preprocessing import StandardScaler\n",
        "\n",
        "num_pipeline = Pipeline([\n",
        "        ('std_scaler', StandardScaler()),\n",
        "    ])\n",
        "\n",
        "wine_num_tr = num_pipeline.fit_transform(wine)\n"
      ],
      "execution_count": 0,
      "outputs": []
    },
    {
      "cell_type": "code",
      "metadata": {
        "id": "ROBGqC2JRaNW",
        "colab_type": "code",
        "outputId": "46ce76c0-646d-46c4-c8b1-bc0c3e0461b2",
        "colab": {
          "base_uri": "https://localhost:8080/",
          "height": 242
        }
      },
      "source": [
        "wine_num_tr"
      ],
      "execution_count": 0,
      "outputs": [
        {
          "output_type": "execute_result",
          "data": {
            "text/plain": [
              "array([[-1.92608989, -0.01193832,  0.1807181 , ..., -0.64190312,\n",
              "         1.10308382, -0.37979644],\n",
              "       [ 0.13463047, -1.20807276, -2.50093915, ...,  0.71690046,\n",
              "         0.80561629, -0.76217623],\n",
              "       [ 0.966367  ,  0.2978519 , -0.26622478, ..., -1.06652924,\n",
              "        -1.31915179, -0.41088423],\n",
              "       ...,\n",
              "       [ 1.36361429, -0.3389391 ,  0.10622762, ...,  0.5045874 ,\n",
              "         0.19651611,  0.97252233],\n",
              "       [ 0.0601466 , -0.6573346 ,  0.66490621, ...,  0.71690046,\n",
              "        -0.14344678,  1.11241738],\n",
              "       [-1.29297701, -1.13923049, -0.26622478, ...,  0.16488651,\n",
              "         0.73479069,  0.43159482]])"
            ]
          },
          "metadata": {
            "tags": []
          },
          "execution_count": 71
        }
      ]
    },
    {
      "cell_type": "code",
      "metadata": {
        "id": "YO2ArnwWwhhC",
        "colab_type": "code",
        "outputId": "edc78a56-c66e-4d31-8f91-4155bf42b5dd",
        "colab": {
          "base_uri": "https://localhost:8080/",
          "height": 35
        }
      },
      "source": [
        "wine_num_tr.shape"
      ],
      "execution_count": 0,
      "outputs": [
        {
          "output_type": "execute_result",
          "data": {
            "text/plain": [
              "(142, 13)"
            ]
          },
          "metadata": {
            "tags": []
          },
          "execution_count": 72
        }
      ]
    },
    {
      "cell_type": "markdown",
      "metadata": {
        "id": "1c7uDHWOwHK_",
        "colab_type": "text"
      },
      "source": [
        "# Select and train a model"
      ]
    },
    {
      "cell_type": "code",
      "metadata": {
        "id": "kYvzdjYVwLVd",
        "colab_type": "code",
        "outputId": "0a611a1d-742d-4711-c734-cc3bc9f6a5bb",
        "colab": {
          "base_uri": "https://localhost:8080/",
          "height": 55
        }
      },
      "source": [
        "from sklearn.linear_model import LinearRegression\n",
        "\n",
        "lin_reg = LinearRegression()\n",
        "lin_reg.fit(wine_num_tr, wine_labels)"
      ],
      "execution_count": 0,
      "outputs": [
        {
          "output_type": "execute_result",
          "data": {
            "text/plain": [
              "LinearRegression(copy_X=True, fit_intercept=True, n_jobs=None, normalize=False)"
            ]
          },
          "metadata": {
            "tags": []
          },
          "execution_count": 74
        }
      ]
    },
    {
      "cell_type": "code",
      "metadata": {
        "id": "LZU6ZhvAxeIY",
        "colab_type": "code",
        "outputId": "06e81427-d6db-4143-bd37-9a2911cc99d3",
        "colab": {
          "base_uri": "https://localhost:8080/",
          "height": 55
        }
      },
      "source": [
        "# let's try the full preprocessing pipeline on a few training instances\n",
        "some_data = wine.iloc[:5]\n",
        "some_labels = wine_labels.iloc[:5]\n",
        "some_data_prepared = num_pipeline.transform(some_data)\n",
        "\n",
        "print(\"Predictions:\", lin_reg.predict(some_data_prepared))"
      ],
      "execution_count": 0,
      "outputs": [
        {
          "output_type": "stream",
          "text": [
            "Predictions: [1.6573009  1.59138935 3.0341314  1.12764548 2.07777298]\n"
          ],
          "name": "stdout"
        }
      ]
    },
    {
      "cell_type": "markdown",
      "metadata": {
        "id": "Om5FrD8gyLz9",
        "colab_type": "text"
      },
      "source": [
        "# Compare against the actual values:"
      ]
    },
    {
      "cell_type": "code",
      "metadata": {
        "id": "olemcLPqyNl9",
        "colab_type": "code",
        "outputId": "74746214-a80c-4fd1-9f67-314de7dbee7f",
        "colab": {
          "base_uri": "https://localhost:8080/",
          "height": 35
        }
      },
      "source": [
        "print(\"Labels:\", list(some_labels))"
      ],
      "execution_count": 0,
      "outputs": [
        {
          "output_type": "stream",
          "text": [
            "Labels: [2, 2, 3, 1, 2]\n"
          ],
          "name": "stdout"
        }
      ]
    },
    {
      "cell_type": "code",
      "metadata": {
        "id": "9uDV3MKXyTTx",
        "colab_type": "code",
        "outputId": "8d85cfb4-f047-4189-9ad5-f17782ff8819",
        "colab": {
          "base_uri": "https://localhost:8080/",
          "height": 296
        }
      },
      "source": [
        "some_data_prepared"
      ],
      "execution_count": 0,
      "outputs": [
        {
          "output_type": "execute_result",
          "data": {
            "text/plain": [
              "array([[-1.92608989, -0.01193832,  0.1807181 ,  0.18179154, -0.26393331,\n",
              "         0.98886788,  0.82417644, -0.34902117,  0.38929326, -0.77852712,\n",
              "        -0.64190312,  1.10308382, -0.37979644],\n",
              "       [ 0.13463047, -1.20807276, -2.50093915, -1.40580986, -1.52019689,\n",
              "         1.11678338,  1.22848942, -0.8389158 ,  1.14516806,  0.0993704 ,\n",
              "         0.71690046,  0.80561629, -0.76217623],\n",
              "       [ 0.966367  ,  0.2978519 , -0.26622478,  0.8168321 , -0.68268784,\n",
              "        -1.48949492, -1.36326041,  0.38582077, -0.95448415,  1.93224914,\n",
              "        -1.06652924, -1.31915179, -0.41088423],\n",
              "       [ 0.19670036, -0.04635945,  1.11184909, -0.26273685,  0.08502879,\n",
              "         0.82897351,  1.29069141, -0.51231938,  2.0354206 ,  0.26210263,\n",
              "         0.33473696,  0.79145117,  1.36111968],\n",
              "       [-0.72193402,  1.73493429,  1.33532053,  2.24567336,  0.15482122,\n",
              "        -0.13039274,  0.13995449,  0.54911898,  0.18772665, -1.27957108,\n",
              "        -0.13235178,  0.72062557, -1.18807893]])"
            ]
          },
          "metadata": {
            "tags": []
          },
          "execution_count": 78
        }
      ]
    },
    {
      "cell_type": "code",
      "metadata": {
        "id": "WHj-qOdVyWwC",
        "colab_type": "code",
        "outputId": "7f3cfb3e-8332-478d-bb4b-e3f5d6ef7330",
        "colab": {
          "base_uri": "https://localhost:8080/",
          "height": 35
        }
      },
      "source": [
        "from sklearn.metrics import mean_squared_error\n",
        "\n",
        "wine_predictions = lin_reg.predict(wine_num_tr)\n",
        "lin_mse = mean_squared_error(wine_labels, wine_predictions)\n",
        "lin_rmse = np.sqrt(lin_mse)\n",
        "lin_rmse"
      ],
      "execution_count": 0,
      "outputs": [
        {
          "output_type": "execute_result",
          "data": {
            "text/plain": [
              "0.2239468442714033"
            ]
          },
          "metadata": {
            "tags": []
          },
          "execution_count": 80
        }
      ]
    },
    {
      "cell_type": "code",
      "metadata": {
        "id": "-l39STdcyt3b",
        "colab_type": "code",
        "outputId": "52fd174d-488b-40c2-db4a-5381eca5ec47",
        "colab": {
          "base_uri": "https://localhost:8080/",
          "height": 35
        }
      },
      "source": [
        "from sklearn.metrics import mean_absolute_error\n",
        "\n",
        "lin_mae = mean_absolute_error(wine_labels, wine_predictions)\n",
        "lin_mae"
      ],
      "execution_count": 0,
      "outputs": [
        {
          "output_type": "execute_result",
          "data": {
            "text/plain": [
              "0.18190825008869033"
            ]
          },
          "metadata": {
            "tags": []
          },
          "execution_count": 82
        }
      ]
    },
    {
      "cell_type": "code",
      "metadata": {
        "id": "w48_XTZxy5xI",
        "colab_type": "code",
        "outputId": "0459b775-041d-4dc1-ec16-6b4dfa82152a",
        "colab": {
          "base_uri": "https://localhost:8080/",
          "height": 141
        }
      },
      "source": [
        "from sklearn.tree import DecisionTreeRegressor\n",
        "\n",
        "tree_reg = DecisionTreeRegressor(random_state=42)\n",
        "tree_reg.fit(wine_num_tr, wine_labels)"
      ],
      "execution_count": 0,
      "outputs": [
        {
          "output_type": "execute_result",
          "data": {
            "text/plain": [
              "DecisionTreeRegressor(ccp_alpha=0.0, criterion='mse', max_depth=None,\n",
              "                      max_features=None, max_leaf_nodes=None,\n",
              "                      min_impurity_decrease=0.0, min_impurity_split=None,\n",
              "                      min_samples_leaf=1, min_samples_split=2,\n",
              "                      min_weight_fraction_leaf=0.0, presort='deprecated',\n",
              "                      random_state=42, splitter='best')"
            ]
          },
          "metadata": {
            "tags": []
          },
          "execution_count": 83
        }
      ]
    },
    {
      "cell_type": "code",
      "metadata": {
        "id": "LeHOxk-4zBJy",
        "colab_type": "code",
        "outputId": "468f4f25-6bf3-400b-ea69-063ffeb8e0cf",
        "colab": {
          "base_uri": "https://localhost:8080/",
          "height": 35
        }
      },
      "source": [
        "wine_predictions = tree_reg.predict(wine_num_tr)\n",
        "tree_mse = mean_squared_error(wine_labels, wine_predictions)\n",
        "tree_rmse = np.sqrt(tree_mse)\n",
        "tree_rmse"
      ],
      "execution_count": 0,
      "outputs": [
        {
          "output_type": "execute_result",
          "data": {
            "text/plain": [
              "0.0"
            ]
          },
          "metadata": {
            "tags": []
          },
          "execution_count": 84
        }
      ]
    },
    {
      "cell_type": "markdown",
      "metadata": {
        "id": "DHkKYKcLzOZ3",
        "colab_type": "text"
      },
      "source": [
        "# Fine-tune your model\n"
      ]
    },
    {
      "cell_type": "code",
      "metadata": {
        "id": "FEuHYED3zPn6",
        "colab_type": "code",
        "colab": {}
      },
      "source": [
        "from sklearn.model_selection import cross_val_score\n",
        "\n",
        "scores = cross_val_score(tree_reg, wine_num_tr, wine_labels,\n",
        "                         scoring=\"neg_mean_squared_error\", cv=10)\n",
        "tree_rmse_scores = np.sqrt(-scores)"
      ],
      "execution_count": 0,
      "outputs": []
    },
    {
      "cell_type": "code",
      "metadata": {
        "id": "hfE7Vh4RzY-P",
        "colab_type": "code",
        "outputId": "413d33ea-be4a-4c20-88c4-4566c5112d5a",
        "colab": {
          "base_uri": "https://localhost:8080/",
          "height": 106
        }
      },
      "source": [
        "def display_scores(scores):\n",
        "    print(\"Scores:\", scores)\n",
        "    print(\"Mean:\", scores.mean())\n",
        "    print(\"Standard deviation:\", scores.std())\n",
        "\n",
        "display_scores(tree_rmse_scores)"
      ],
      "execution_count": 0,
      "outputs": [
        {
          "output_type": "stream",
          "text": [
            "Scores: [0.25819889 0.36514837 0.26726124 0.37796447 0.         0.5976143\n",
            " 0.         0.         0.         0.        ]\n",
            "Mean: 0.18661872810061203\n",
            "Standard deviation: 0.20570927899578806\n"
          ],
          "name": "stdout"
        }
      ]
    },
    {
      "cell_type": "code",
      "metadata": {
        "id": "oPh41N3Pzg9y",
        "colab_type": "code",
        "outputId": "d61f7177-1a92-47e0-8d9e-be2f56a9404d",
        "colab": {
          "base_uri": "https://localhost:8080/",
          "height": 106
        }
      },
      "source": [
        "lin_scores = cross_val_score(lin_reg, wine_num_tr, wine_labels,\n",
        "                             scoring=\"neg_mean_squared_error\", cv=10)\n",
        "lin_rmse_scores = np.sqrt(-lin_scores)\n",
        "display_scores(lin_rmse_scores)"
      ],
      "execution_count": 0,
      "outputs": [
        {
          "output_type": "stream",
          "text": [
            "Scores: [0.2444211  0.27210645 0.2765766  0.22265265 0.18111329 0.28033643\n",
            " 0.27928221 0.26981742 0.24557511 0.23007429]\n",
            "Mean: 0.25019555535728377\n",
            "Standard deviation: 0.0305059019519677\n"
          ],
          "name": "stdout"
        }
      ]
    },
    {
      "cell_type": "code",
      "metadata": {
        "id": "6C4j1Dsnzs5c",
        "colab_type": "code",
        "outputId": "ad3af29c-a34b-42ef-bebc-e5e59b2e6f21",
        "colab": {
          "base_uri": "https://localhost:8080/",
          "height": 158
        }
      },
      "source": [
        "from sklearn.ensemble import RandomForestRegressor\n",
        "\n",
        "forest_reg = RandomForestRegressor(n_estimators=100, random_state=42)\n",
        "forest_reg.fit(wine_num_tr, wine_labels)"
      ],
      "execution_count": 0,
      "outputs": [
        {
          "output_type": "execute_result",
          "data": {
            "text/plain": [
              "RandomForestRegressor(bootstrap=True, ccp_alpha=0.0, criterion='mse',\n",
              "                      max_depth=None, max_features='auto', max_leaf_nodes=None,\n",
              "                      max_samples=None, min_impurity_decrease=0.0,\n",
              "                      min_impurity_split=None, min_samples_leaf=1,\n",
              "                      min_samples_split=2, min_weight_fraction_leaf=0.0,\n",
              "                      n_estimators=100, n_jobs=None, oob_score=False,\n",
              "                      random_state=42, verbose=0, warm_start=False)"
            ]
          },
          "metadata": {
            "tags": []
          },
          "execution_count": 89
        }
      ]
    },
    {
      "cell_type": "code",
      "metadata": {
        "id": "9DMBSPtFz892",
        "colab_type": "code",
        "outputId": "ea5f108c-50a6-4708-ac39-45b4fc02b857",
        "colab": {
          "base_uri": "https://localhost:8080/",
          "height": 35
        }
      },
      "source": [
        "wine_predictions = forest_reg.predict(wine_num_tr)\n",
        "forest_mse = mean_squared_error(wine_labels, wine_predictions)\n",
        "forest_rmse = np.sqrt(forest_mse)\n",
        "forest_rmse"
      ],
      "execution_count": 0,
      "outputs": [
        {
          "output_type": "execute_result",
          "data": {
            "text/plain": [
              "0.06825800267790923"
            ]
          },
          "metadata": {
            "tags": []
          },
          "execution_count": 90
        }
      ]
    },
    {
      "cell_type": "code",
      "metadata": {
        "id": "4F1fFhBc0Kmp",
        "colab_type": "code",
        "outputId": "04974630-9245-4ed1-fd10-908241f573a3",
        "colab": {
          "base_uri": "https://localhost:8080/",
          "height": 106
        }
      },
      "source": [
        "from sklearn.model_selection import cross_val_score\n",
        "\n",
        "forest_scores = cross_val_score(forest_reg, wine_num_tr, wine_labels,\n",
        "                                scoring=\"neg_mean_squared_error\", cv=10)\n",
        "forest_rmse_scores = np.sqrt(-forest_scores)\n",
        "display_scores(forest_rmse_scores)"
      ],
      "execution_count": 0,
      "outputs": [
        {
          "output_type": "stream",
          "text": [
            "Scores: [0.11938732 0.31557355 0.13392429 0.25288337 0.07526145 0.18417771\n",
            " 0.24424812 0.16826849 0.08904253 0.16552945]\n",
            "Mean: 0.17482962828718335\n",
            "Standard deviation: 0.07277186221410141\n"
          ],
          "name": "stdout"
        }
      ]
    },
    {
      "cell_type": "code",
      "metadata": {
        "id": "ZUtOLuB00TKp",
        "colab_type": "code",
        "outputId": "5e444fa6-90be-4de0-c7e0-61744321442e",
        "colab": {
          "base_uri": "https://localhost:8080/",
          "height": 173
        }
      },
      "source": [
        "scores = cross_val_score(lin_reg, wine_num_tr, wine_labels, scoring=\"neg_mean_squared_error\", cv=10)\n",
        "pd.Series(np.sqrt(-scores)).describe()"
      ],
      "execution_count": 0,
      "outputs": [
        {
          "output_type": "execute_result",
          "data": {
            "text/plain": [
              "count    10.000000\n",
              "mean      0.250196\n",
              "std       0.032156\n",
              "min       0.181113\n",
              "25%       0.233661\n",
              "50%       0.257696\n",
              "75%       0.275459\n",
              "max       0.280336\n",
              "dtype: float64"
            ]
          },
          "metadata": {
            "tags": []
          },
          "execution_count": 92
        }
      ]
    },
    {
      "cell_type": "code",
      "metadata": {
        "id": "redjzEVp0cJf",
        "colab_type": "code",
        "outputId": "0fdf8af0-c335-40cb-81ee-498747623484",
        "colab": {
          "base_uri": "https://localhost:8080/",
          "height": 35
        }
      },
      "source": [
        "from sklearn.svm import SVR\n",
        "\n",
        "svm_reg = SVR(kernel=\"linear\")\n",
        "svm_reg.fit(wine_num_tr, wine_labels)\n",
        "wine_predictions = svm_reg.predict(wine_num_tr)\n",
        "svm_mse = mean_squared_error(wine_labels, wine_predictions)\n",
        "svm_rmse = np.sqrt(svm_mse)\n",
        "svm_rmse"
      ],
      "execution_count": 0,
      "outputs": [
        {
          "output_type": "execute_result",
          "data": {
            "text/plain": [
              "0.2265339903457838"
            ]
          },
          "metadata": {
            "tags": []
          },
          "execution_count": 94
        }
      ]
    },
    {
      "cell_type": "code",
      "metadata": {
        "id": "2Xj8yAXh0b7_",
        "colab_type": "code",
        "outputId": "fa3648bc-b8b9-4b4e-c069-e2555ea24a2f",
        "colab": {
          "base_uri": "https://localhost:8080/",
          "height": 400
        }
      },
      "source": [
        "from sklearn.model_selection import GridSearchCV\n",
        "\n",
        "param_grid = [\n",
        "    # try 12 (3×4) combinations of hyperparameters\n",
        "    {'n_estimators': [3, 10, 30], 'max_features': [2, 4, 6, 8]},\n",
        "    # then try 6 (2×3) combinations with bootstrap set as False\n",
        "    {'bootstrap': [False], 'n_estimators': [3, 10], 'max_features': [2, 3, 4]},\n",
        "  ]\n",
        "\n",
        "forest_reg = RandomForestRegressor(random_state=42)\n",
        "# train across 5 folds, that's a total of (12+6)*5=90 rounds of training \n",
        "grid_search = GridSearchCV(forest_reg, param_grid, cv=5,\n",
        "                           scoring='neg_mean_squared_error',\n",
        "                           return_train_score=True)\n",
        "grid_search.fit(wine_num_tr, wine_labels)"
      ],
      "execution_count": 0,
      "outputs": [
        {
          "output_type": "execute_result",
          "data": {
            "text/plain": [
              "GridSearchCV(cv=5, error_score=nan,\n",
              "             estimator=RandomForestRegressor(bootstrap=True, ccp_alpha=0.0,\n",
              "                                             criterion='mse', max_depth=None,\n",
              "                                             max_features='auto',\n",
              "                                             max_leaf_nodes=None,\n",
              "                                             max_samples=None,\n",
              "                                             min_impurity_decrease=0.0,\n",
              "                                             min_impurity_split=None,\n",
              "                                             min_samples_leaf=1,\n",
              "                                             min_samples_split=2,\n",
              "                                             min_weight_fraction_leaf=0.0,\n",
              "                                             n_estimators=100, n_jobs=None,\n",
              "                                             oob_score=False, random_state=42,\n",
              "                                             verbose=0, warm_start=False),\n",
              "             iid='deprecated', n_jobs=None,\n",
              "             param_grid=[{'max_features': [2, 4, 6, 8],\n",
              "                          'n_estimators': [3, 10, 30]},\n",
              "                         {'bootstrap': [False], 'max_features': [2, 3, 4],\n",
              "                          'n_estimators': [3, 10]}],\n",
              "             pre_dispatch='2*n_jobs', refit=True, return_train_score=True,\n",
              "             scoring='neg_mean_squared_error', verbose=0)"
            ]
          },
          "metadata": {
            "tags": []
          },
          "execution_count": 96
        }
      ]
    },
    {
      "cell_type": "code",
      "metadata": {
        "id": "pGxQovv309dh",
        "colab_type": "code",
        "outputId": "7b64d8db-de6e-4d8b-bede-69ed9e93aca8",
        "colab": {
          "base_uri": "https://localhost:8080/",
          "height": 35
        }
      },
      "source": [
        "grid_search.best_params_"
      ],
      "execution_count": 0,
      "outputs": [
        {
          "output_type": "execute_result",
          "data": {
            "text/plain": [
              "{'max_features': 8, 'n_estimators': 30}"
            ]
          },
          "metadata": {
            "tags": []
          },
          "execution_count": 97
        }
      ]
    },
    {
      "cell_type": "code",
      "metadata": {
        "id": "vQdRjbpQ1BIz",
        "colab_type": "code",
        "outputId": "f2e1758e-9466-4e40-e15b-14e884b7ddc4",
        "colab": {
          "base_uri": "https://localhost:8080/",
          "height": 158
        }
      },
      "source": [
        "grid_search.best_estimator_"
      ],
      "execution_count": 0,
      "outputs": [
        {
          "output_type": "execute_result",
          "data": {
            "text/plain": [
              "RandomForestRegressor(bootstrap=True, ccp_alpha=0.0, criterion='mse',\n",
              "                      max_depth=None, max_features=8, max_leaf_nodes=None,\n",
              "                      max_samples=None, min_impurity_decrease=0.0,\n",
              "                      min_impurity_split=None, min_samples_leaf=1,\n",
              "                      min_samples_split=2, min_weight_fraction_leaf=0.0,\n",
              "                      n_estimators=30, n_jobs=None, oob_score=False,\n",
              "                      random_state=42, verbose=0, warm_start=False)"
            ]
          },
          "metadata": {
            "tags": []
          },
          "execution_count": 98
        }
      ]
    },
    {
      "cell_type": "code",
      "metadata": {
        "id": "E7t0NhWn1FI2",
        "colab_type": "code",
        "outputId": "f155f73b-7a64-401d-ae16-7a15196758e3",
        "colab": {
          "base_uri": "https://localhost:8080/",
          "height": 348
        }
      },
      "source": [
        "cvres = grid_search.cv_results_\n",
        "for mean_score, params in zip(cvres[\"mean_test_score\"], cvres[\"params\"]):\n",
        "    print(np.sqrt(-mean_score), params)"
      ],
      "execution_count": 0,
      "outputs": [
        {
          "output_type": "stream",
          "text": [
            "0.25835783029145143 {'max_features': 2, 'n_estimators': 3}\n",
            "0.23121013835646945 {'max_features': 2, 'n_estimators': 10}\n",
            "0.2028269016983328 {'max_features': 2, 'n_estimators': 30}\n",
            "0.26396413814908715 {'max_features': 4, 'n_estimators': 3}\n",
            "0.19466404051583522 {'max_features': 4, 'n_estimators': 10}\n",
            "0.16612802944562874 {'max_features': 4, 'n_estimators': 30}\n",
            "0.24132456960019696 {'max_features': 6, 'n_estimators': 3}\n",
            "0.19338824881136166 {'max_features': 6, 'n_estimators': 10}\n",
            "0.17082016649967754 {'max_features': 6, 'n_estimators': 30}\n",
            "0.26224787198403204 {'max_features': 8, 'n_estimators': 3}\n",
            "0.17674534295465222 {'max_features': 8, 'n_estimators': 10}\n",
            "0.1658922896908487 {'max_features': 8, 'n_estimators': 30}\n",
            "0.2343048038466938 {'bootstrap': False, 'max_features': 2, 'n_estimators': 3}\n",
            "0.21673233815917017 {'bootstrap': False, 'max_features': 2, 'n_estimators': 10}\n",
            "0.23360294065075188 {'bootstrap': False, 'max_features': 3, 'n_estimators': 3}\n",
            "0.18098662280806274 {'bootstrap': False, 'max_features': 3, 'n_estimators': 10}\n",
            "0.2484213980790219 {'bootstrap': False, 'max_features': 4, 'n_estimators': 3}\n",
            "0.2038182325533765 {'bootstrap': False, 'max_features': 4, 'n_estimators': 10}\n"
          ],
          "name": "stdout"
        }
      ]
    },
    {
      "cell_type": "code",
      "metadata": {
        "id": "p4mCoosj1Kb2",
        "colab_type": "code",
        "outputId": "98735083-d880-4b3f-8cda-3b2b60b5d5a0",
        "colab": {
          "base_uri": "https://localhost:8080/",
          "height": 1000
        }
      },
      "source": [
        "pd.DataFrame(grid_search.cv_results_)"
      ],
      "execution_count": 0,
      "outputs": [
        {
          "output_type": "execute_result",
          "data": {
            "text/html": [
              "<div>\n",
              "<style scoped>\n",
              "    .dataframe tbody tr th:only-of-type {\n",
              "        vertical-align: middle;\n",
              "    }\n",
              "\n",
              "    .dataframe tbody tr th {\n",
              "        vertical-align: top;\n",
              "    }\n",
              "\n",
              "    .dataframe thead th {\n",
              "        text-align: right;\n",
              "    }\n",
              "</style>\n",
              "<table border=\"1\" class=\"dataframe\">\n",
              "  <thead>\n",
              "    <tr style=\"text-align: right;\">\n",
              "      <th></th>\n",
              "      <th>mean_fit_time</th>\n",
              "      <th>std_fit_time</th>\n",
              "      <th>mean_score_time</th>\n",
              "      <th>std_score_time</th>\n",
              "      <th>param_max_features</th>\n",
              "      <th>param_n_estimators</th>\n",
              "      <th>param_bootstrap</th>\n",
              "      <th>params</th>\n",
              "      <th>split0_test_score</th>\n",
              "      <th>split1_test_score</th>\n",
              "      <th>split2_test_score</th>\n",
              "      <th>split3_test_score</th>\n",
              "      <th>split4_test_score</th>\n",
              "      <th>mean_test_score</th>\n",
              "      <th>std_test_score</th>\n",
              "      <th>rank_test_score</th>\n",
              "      <th>split0_train_score</th>\n",
              "      <th>split1_train_score</th>\n",
              "      <th>split2_train_score</th>\n",
              "      <th>split3_train_score</th>\n",
              "      <th>split4_train_score</th>\n",
              "      <th>mean_train_score</th>\n",
              "      <th>std_train_score</th>\n",
              "    </tr>\n",
              "  </thead>\n",
              "  <tbody>\n",
              "    <tr>\n",
              "      <th>0</th>\n",
              "      <td>0.006320</td>\n",
              "      <td>0.001777</td>\n",
              "      <td>0.000993</td>\n",
              "      <td>0.000214</td>\n",
              "      <td>2</td>\n",
              "      <td>3</td>\n",
              "      <td>NaN</td>\n",
              "      <td>{'max_features': 2, 'n_estimators': 3}</td>\n",
              "      <td>-0.049808</td>\n",
              "      <td>-0.049808</td>\n",
              "      <td>-0.063492</td>\n",
              "      <td>-0.071429</td>\n",
              "      <td>-0.099206</td>\n",
              "      <td>-0.066749</td>\n",
              "      <td>0.018221</td>\n",
              "      <td>16</td>\n",
              "      <td>-0.029499</td>\n",
              "      <td>-0.020649</td>\n",
              "      <td>-0.019493</td>\n",
              "      <td>-0.030214</td>\n",
              "      <td>-0.023392</td>\n",
              "      <td>-0.024649</td>\n",
              "      <td>0.004442</td>\n",
              "    </tr>\n",
              "    <tr>\n",
              "      <th>1</th>\n",
              "      <td>0.013316</td>\n",
              "      <td>0.000249</td>\n",
              "      <td>0.001517</td>\n",
              "      <td>0.000307</td>\n",
              "      <td>2</td>\n",
              "      <td>10</td>\n",
              "      <td>NaN</td>\n",
              "      <td>{'max_features': 2, 'n_estimators': 10}</td>\n",
              "      <td>-0.041034</td>\n",
              "      <td>-0.064828</td>\n",
              "      <td>-0.042143</td>\n",
              "      <td>-0.033929</td>\n",
              "      <td>-0.085357</td>\n",
              "      <td>-0.053458</td>\n",
              "      <td>0.019029</td>\n",
              "      <td>11</td>\n",
              "      <td>-0.013274</td>\n",
              "      <td>-0.012301</td>\n",
              "      <td>-0.009386</td>\n",
              "      <td>-0.009912</td>\n",
              "      <td>-0.009649</td>\n",
              "      <td>-0.010905</td>\n",
              "      <td>0.001577</td>\n",
              "    </tr>\n",
              "    <tr>\n",
              "      <th>2</th>\n",
              "      <td>0.037731</td>\n",
              "      <td>0.000929</td>\n",
              "      <td>0.002574</td>\n",
              "      <td>0.000206</td>\n",
              "      <td>2</td>\n",
              "      <td>30</td>\n",
              "      <td>NaN</td>\n",
              "      <td>{'max_features': 2, 'n_estimators': 30}</td>\n",
              "      <td>-0.045326</td>\n",
              "      <td>-0.059693</td>\n",
              "      <td>-0.036151</td>\n",
              "      <td>-0.024286</td>\n",
              "      <td>-0.040238</td>\n",
              "      <td>-0.041139</td>\n",
              "      <td>0.011589</td>\n",
              "      <td>8</td>\n",
              "      <td>-0.007139</td>\n",
              "      <td>-0.008958</td>\n",
              "      <td>-0.006316</td>\n",
              "      <td>-0.005936</td>\n",
              "      <td>-0.007300</td>\n",
              "      <td>-0.007130</td>\n",
              "      <td>0.001045</td>\n",
              "    </tr>\n",
              "    <tr>\n",
              "      <th>3</th>\n",
              "      <td>0.004887</td>\n",
              "      <td>0.000139</td>\n",
              "      <td>0.000907</td>\n",
              "      <td>0.000057</td>\n",
              "      <td>4</td>\n",
              "      <td>3</td>\n",
              "      <td>NaN</td>\n",
              "      <td>{'max_features': 4, 'n_estimators': 3}</td>\n",
              "      <td>-0.076628</td>\n",
              "      <td>-0.057471</td>\n",
              "      <td>-0.031746</td>\n",
              "      <td>-0.126984</td>\n",
              "      <td>-0.055556</td>\n",
              "      <td>-0.069677</td>\n",
              "      <td>0.031999</td>\n",
              "      <td>18</td>\n",
              "      <td>-0.020649</td>\n",
              "      <td>-0.019666</td>\n",
              "      <td>-0.019493</td>\n",
              "      <td>-0.032164</td>\n",
              "      <td>-0.015595</td>\n",
              "      <td>-0.021513</td>\n",
              "      <td>0.005598</td>\n",
              "    </tr>\n",
              "    <tr>\n",
              "      <th>4</th>\n",
              "      <td>0.013871</td>\n",
              "      <td>0.000281</td>\n",
              "      <td>0.001457</td>\n",
              "      <td>0.000088</td>\n",
              "      <td>4</td>\n",
              "      <td>10</td>\n",
              "      <td>NaN</td>\n",
              "      <td>{'max_features': 4, 'n_estimators': 10}</td>\n",
              "      <td>-0.045517</td>\n",
              "      <td>-0.049310</td>\n",
              "      <td>-0.031429</td>\n",
              "      <td>-0.030000</td>\n",
              "      <td>-0.033214</td>\n",
              "      <td>-0.037894</td>\n",
              "      <td>0.007930</td>\n",
              "      <td>7</td>\n",
              "      <td>-0.013628</td>\n",
              "      <td>-0.010442</td>\n",
              "      <td>-0.009825</td>\n",
              "      <td>-0.011491</td>\n",
              "      <td>-0.011754</td>\n",
              "      <td>-0.011428</td>\n",
              "      <td>0.001303</td>\n",
              "    </tr>\n",
              "    <tr>\n",
              "      <th>5</th>\n",
              "      <td>0.038564</td>\n",
              "      <td>0.000990</td>\n",
              "      <td>0.002436</td>\n",
              "      <td>0.000045</td>\n",
              "      <td>4</td>\n",
              "      <td>30</td>\n",
              "      <td>NaN</td>\n",
              "      <td>{'max_features': 4, 'n_estimators': 30}</td>\n",
              "      <td>-0.040958</td>\n",
              "      <td>-0.030805</td>\n",
              "      <td>-0.021746</td>\n",
              "      <td>-0.022143</td>\n",
              "      <td>-0.022341</td>\n",
              "      <td>-0.027599</td>\n",
              "      <td>0.007489</td>\n",
              "      <td>2</td>\n",
              "      <td>-0.003500</td>\n",
              "      <td>-0.006745</td>\n",
              "      <td>-0.005848</td>\n",
              "      <td>-0.005692</td>\n",
              "      <td>-0.007261</td>\n",
              "      <td>-0.005809</td>\n",
              "      <td>0.001291</td>\n",
              "    </tr>\n",
              "    <tr>\n",
              "      <th>6</th>\n",
              "      <td>0.005308</td>\n",
              "      <td>0.000178</td>\n",
              "      <td>0.000934</td>\n",
              "      <td>0.000024</td>\n",
              "      <td>6</td>\n",
              "      <td>3</td>\n",
              "      <td>NaN</td>\n",
              "      <td>{'max_features': 6, 'n_estimators': 3}</td>\n",
              "      <td>-0.030651</td>\n",
              "      <td>-0.149425</td>\n",
              "      <td>-0.027778</td>\n",
              "      <td>-0.039683</td>\n",
              "      <td>-0.043651</td>\n",
              "      <td>-0.058238</td>\n",
              "      <td>0.045959</td>\n",
              "      <td>14</td>\n",
              "      <td>-0.006883</td>\n",
              "      <td>-0.007866</td>\n",
              "      <td>-0.023392</td>\n",
              "      <td>-0.014620</td>\n",
              "      <td>-0.023392</td>\n",
              "      <td>-0.015231</td>\n",
              "      <td>0.007176</td>\n",
              "    </tr>\n",
              "    <tr>\n",
              "      <th>7</th>\n",
              "      <td>0.014250</td>\n",
              "      <td>0.000303</td>\n",
              "      <td>0.001500</td>\n",
              "      <td>0.000122</td>\n",
              "      <td>6</td>\n",
              "      <td>10</td>\n",
              "      <td>NaN</td>\n",
              "      <td>{'max_features': 6, 'n_estimators': 10}</td>\n",
              "      <td>-0.035517</td>\n",
              "      <td>-0.078621</td>\n",
              "      <td>-0.023214</td>\n",
              "      <td>-0.023929</td>\n",
              "      <td>-0.025714</td>\n",
              "      <td>-0.037399</td>\n",
              "      <td>0.021081</td>\n",
              "      <td>6</td>\n",
              "      <td>-0.006106</td>\n",
              "      <td>-0.007434</td>\n",
              "      <td>-0.012456</td>\n",
              "      <td>-0.005439</td>\n",
              "      <td>-0.010526</td>\n",
              "      <td>-0.008392</td>\n",
              "      <td>0.002681</td>\n",
              "    </tr>\n",
              "    <tr>\n",
              "      <th>8</th>\n",
              "      <td>0.040203</td>\n",
              "      <td>0.000838</td>\n",
              "      <td>0.002665</td>\n",
              "      <td>0.000181</td>\n",
              "      <td>6</td>\n",
              "      <td>30</td>\n",
              "      <td>NaN</td>\n",
              "      <td>{'max_features': 6, 'n_estimators': 30}</td>\n",
              "      <td>-0.036858</td>\n",
              "      <td>-0.054674</td>\n",
              "      <td>-0.010794</td>\n",
              "      <td>-0.026786</td>\n",
              "      <td>-0.016786</td>\n",
              "      <td>-0.029180</td>\n",
              "      <td>0.015533</td>\n",
              "      <td>3</td>\n",
              "      <td>-0.003687</td>\n",
              "      <td>-0.006411</td>\n",
              "      <td>-0.006657</td>\n",
              "      <td>-0.004659</td>\n",
              "      <td>-0.008002</td>\n",
              "      <td>-0.005883</td>\n",
              "      <td>0.001529</td>\n",
              "    </tr>\n",
              "    <tr>\n",
              "      <th>9</th>\n",
              "      <td>0.005091</td>\n",
              "      <td>0.000241</td>\n",
              "      <td>0.000887</td>\n",
              "      <td>0.000020</td>\n",
              "      <td>8</td>\n",
              "      <td>3</td>\n",
              "      <td>NaN</td>\n",
              "      <td>{'max_features': 8, 'n_estimators': 3}</td>\n",
              "      <td>-0.057471</td>\n",
              "      <td>-0.203065</td>\n",
              "      <td>-0.035714</td>\n",
              "      <td>-0.031746</td>\n",
              "      <td>-0.015873</td>\n",
              "      <td>-0.068774</td>\n",
              "      <td>0.068446</td>\n",
              "      <td>17</td>\n",
              "      <td>-0.005900</td>\n",
              "      <td>-0.006883</td>\n",
              "      <td>-0.020468</td>\n",
              "      <td>-0.016569</td>\n",
              "      <td>-0.022417</td>\n",
              "      <td>-0.014447</td>\n",
              "      <td>0.006849</td>\n",
              "    </tr>\n",
              "    <tr>\n",
              "      <th>10</th>\n",
              "      <td>0.014414</td>\n",
              "      <td>0.000534</td>\n",
              "      <td>0.001418</td>\n",
              "      <td>0.000090</td>\n",
              "      <td>8</td>\n",
              "      <td>10</td>\n",
              "      <td>NaN</td>\n",
              "      <td>{'max_features': 8, 'n_estimators': 10}</td>\n",
              "      <td>-0.035172</td>\n",
              "      <td>-0.071379</td>\n",
              "      <td>-0.011071</td>\n",
              "      <td>-0.025357</td>\n",
              "      <td>-0.013214</td>\n",
              "      <td>-0.031239</td>\n",
              "      <td>0.021877</td>\n",
              "      <td>4</td>\n",
              "      <td>-0.005133</td>\n",
              "      <td>-0.008938</td>\n",
              "      <td>-0.010614</td>\n",
              "      <td>-0.006930</td>\n",
              "      <td>-0.009474</td>\n",
              "      <td>-0.008218</td>\n",
              "      <td>0.001950</td>\n",
              "    </tr>\n",
              "    <tr>\n",
              "      <th>11</th>\n",
              "      <td>0.039961</td>\n",
              "      <td>0.000921</td>\n",
              "      <td>0.002527</td>\n",
              "      <td>0.000170</td>\n",
              "      <td>8</td>\n",
              "      <td>30</td>\n",
              "      <td>NaN</td>\n",
              "      <td>{'max_features': 8, 'n_estimators': 30}</td>\n",
              "      <td>-0.038774</td>\n",
              "      <td>-0.043946</td>\n",
              "      <td>-0.010119</td>\n",
              "      <td>-0.031230</td>\n",
              "      <td>-0.013532</td>\n",
              "      <td>-0.027520</td>\n",
              "      <td>0.013481</td>\n",
              "      <td>1</td>\n",
              "      <td>-0.004267</td>\n",
              "      <td>-0.007257</td>\n",
              "      <td>-0.007096</td>\n",
              "      <td>-0.005283</td>\n",
              "      <td>-0.006608</td>\n",
              "      <td>-0.006102</td>\n",
              "      <td>0.001150</td>\n",
              "    </tr>\n",
              "    <tr>\n",
              "      <th>12</th>\n",
              "      <td>0.003844</td>\n",
              "      <td>0.000124</td>\n",
              "      <td>0.001005</td>\n",
              "      <td>0.000159</td>\n",
              "      <td>2</td>\n",
              "      <td>3</td>\n",
              "      <td>False</td>\n",
              "      <td>{'bootstrap': False, 'max_features': 2, 'n_est...</td>\n",
              "      <td>-0.049808</td>\n",
              "      <td>-0.042146</td>\n",
              "      <td>-0.047619</td>\n",
              "      <td>-0.043651</td>\n",
              "      <td>-0.091270</td>\n",
              "      <td>-0.054899</td>\n",
              "      <td>0.018390</td>\n",
              "      <td>13</td>\n",
              "      <td>-0.000000</td>\n",
              "      <td>-0.000000</td>\n",
              "      <td>-0.000000</td>\n",
              "      <td>-0.000000</td>\n",
              "      <td>-0.000000</td>\n",
              "      <td>0.000000</td>\n",
              "      <td>0.000000</td>\n",
              "    </tr>\n",
              "    <tr>\n",
              "      <th>13</th>\n",
              "      <td>0.010036</td>\n",
              "      <td>0.000278</td>\n",
              "      <td>0.001497</td>\n",
              "      <td>0.000129</td>\n",
              "      <td>2</td>\n",
              "      <td>10</td>\n",
              "      <td>False</td>\n",
              "      <td>{'bootstrap': False, 'max_features': 2, 'n_est...</td>\n",
              "      <td>-0.060690</td>\n",
              "      <td>-0.063103</td>\n",
              "      <td>-0.043929</td>\n",
              "      <td>-0.025000</td>\n",
              "      <td>-0.042143</td>\n",
              "      <td>-0.046973</td>\n",
              "      <td>0.013883</td>\n",
              "      <td>10</td>\n",
              "      <td>-0.000000</td>\n",
              "      <td>-0.000000</td>\n",
              "      <td>-0.000000</td>\n",
              "      <td>-0.000000</td>\n",
              "      <td>-0.000000</td>\n",
              "      <td>0.000000</td>\n",
              "      <td>0.000000</td>\n",
              "    </tr>\n",
              "    <tr>\n",
              "      <th>14</th>\n",
              "      <td>0.004142</td>\n",
              "      <td>0.000460</td>\n",
              "      <td>0.000951</td>\n",
              "      <td>0.000108</td>\n",
              "      <td>3</td>\n",
              "      <td>3</td>\n",
              "      <td>False</td>\n",
              "      <td>{'bootstrap': False, 'max_features': 3, 'n_est...</td>\n",
              "      <td>-0.068966</td>\n",
              "      <td>-0.068966</td>\n",
              "      <td>-0.019841</td>\n",
              "      <td>-0.055556</td>\n",
              "      <td>-0.059524</td>\n",
              "      <td>-0.054570</td>\n",
              "      <td>0.018144</td>\n",
              "      <td>12</td>\n",
              "      <td>-0.000000</td>\n",
              "      <td>-0.000000</td>\n",
              "      <td>-0.000000</td>\n",
              "      <td>-0.000000</td>\n",
              "      <td>-0.000000</td>\n",
              "      <td>0.000000</td>\n",
              "      <td>0.000000</td>\n",
              "    </tr>\n",
              "    <tr>\n",
              "      <th>15</th>\n",
              "      <td>0.010371</td>\n",
              "      <td>0.000175</td>\n",
              "      <td>0.001542</td>\n",
              "      <td>0.000115</td>\n",
              "      <td>3</td>\n",
              "      <td>10</td>\n",
              "      <td>False</td>\n",
              "      <td>{'bootstrap': False, 'max_features': 3, 'n_est...</td>\n",
              "      <td>-0.045862</td>\n",
              "      <td>-0.048276</td>\n",
              "      <td>-0.020000</td>\n",
              "      <td>-0.019286</td>\n",
              "      <td>-0.030357</td>\n",
              "      <td>-0.032756</td>\n",
              "      <td>0.012350</td>\n",
              "      <td>5</td>\n",
              "      <td>-0.000000</td>\n",
              "      <td>-0.000000</td>\n",
              "      <td>-0.000000</td>\n",
              "      <td>-0.000000</td>\n",
              "      <td>-0.000000</td>\n",
              "      <td>0.000000</td>\n",
              "      <td>0.000000</td>\n",
              "    </tr>\n",
              "    <tr>\n",
              "      <th>16</th>\n",
              "      <td>0.004029</td>\n",
              "      <td>0.000194</td>\n",
              "      <td>0.001025</td>\n",
              "      <td>0.000146</td>\n",
              "      <td>4</td>\n",
              "      <td>3</td>\n",
              "      <td>False</td>\n",
              "      <td>{'bootstrap': False, 'max_features': 4, 'n_est...</td>\n",
              "      <td>-0.065134</td>\n",
              "      <td>-0.072797</td>\n",
              "      <td>-0.039683</td>\n",
              "      <td>-0.087302</td>\n",
              "      <td>-0.043651</td>\n",
              "      <td>-0.061713</td>\n",
              "      <td>0.017894</td>\n",
              "      <td>15</td>\n",
              "      <td>-0.000000</td>\n",
              "      <td>-0.000000</td>\n",
              "      <td>-0.000000</td>\n",
              "      <td>-0.000000</td>\n",
              "      <td>-0.000000</td>\n",
              "      <td>0.000000</td>\n",
              "      <td>0.000000</td>\n",
              "    </tr>\n",
              "    <tr>\n",
              "      <th>17</th>\n",
              "      <td>0.010703</td>\n",
              "      <td>0.000390</td>\n",
              "      <td>0.001555</td>\n",
              "      <td>0.000103</td>\n",
              "      <td>4</td>\n",
              "      <td>10</td>\n",
              "      <td>False</td>\n",
              "      <td>{'bootstrap': False, 'max_features': 4, 'n_est...</td>\n",
              "      <td>-0.057241</td>\n",
              "      <td>-0.046897</td>\n",
              "      <td>-0.036429</td>\n",
              "      <td>-0.033214</td>\n",
              "      <td>-0.033929</td>\n",
              "      <td>-0.041542</td>\n",
              "      <td>0.009259</td>\n",
              "      <td>9</td>\n",
              "      <td>-0.000000</td>\n",
              "      <td>-0.000000</td>\n",
              "      <td>-0.000000</td>\n",
              "      <td>-0.000000</td>\n",
              "      <td>-0.000000</td>\n",
              "      <td>0.000000</td>\n",
              "      <td>0.000000</td>\n",
              "    </tr>\n",
              "  </tbody>\n",
              "</table>\n",
              "</div>"
            ],
            "text/plain": [
              "    mean_fit_time  std_fit_time  ...  mean_train_score  std_train_score\n",
              "0        0.006320      0.001777  ...         -0.024649         0.004442\n",
              "1        0.013316      0.000249  ...         -0.010905         0.001577\n",
              "2        0.037731      0.000929  ...         -0.007130         0.001045\n",
              "3        0.004887      0.000139  ...         -0.021513         0.005598\n",
              "4        0.013871      0.000281  ...         -0.011428         0.001303\n",
              "5        0.038564      0.000990  ...         -0.005809         0.001291\n",
              "6        0.005308      0.000178  ...         -0.015231         0.007176\n",
              "7        0.014250      0.000303  ...         -0.008392         0.002681\n",
              "8        0.040203      0.000838  ...         -0.005883         0.001529\n",
              "9        0.005091      0.000241  ...         -0.014447         0.006849\n",
              "10       0.014414      0.000534  ...         -0.008218         0.001950\n",
              "11       0.039961      0.000921  ...         -0.006102         0.001150\n",
              "12       0.003844      0.000124  ...          0.000000         0.000000\n",
              "13       0.010036      0.000278  ...          0.000000         0.000000\n",
              "14       0.004142      0.000460  ...          0.000000         0.000000\n",
              "15       0.010371      0.000175  ...          0.000000         0.000000\n",
              "16       0.004029      0.000194  ...          0.000000         0.000000\n",
              "17       0.010703      0.000390  ...          0.000000         0.000000\n",
              "\n",
              "[18 rows x 23 columns]"
            ]
          },
          "metadata": {
            "tags": []
          },
          "execution_count": 100
        }
      ]
    },
    {
      "cell_type": "code",
      "metadata": {
        "id": "REqcJKMI1jF2",
        "colab_type": "code",
        "outputId": "76335a06-a240-498d-b964-fe8f5885a06b",
        "colab": {
          "base_uri": "https://localhost:8080/",
          "height": 417
        }
      },
      "source": [
        "from sklearn.model_selection import RandomizedSearchCV\n",
        "from scipy.stats import randint\n",
        "\n",
        "param_distribs = {\n",
        "        'n_estimators': randint(low=1, high=200),\n",
        "        'max_features': randint(low=1, high=8),\n",
        "    }\n",
        "\n",
        "forest_reg = RandomForestRegressor(random_state=42)\n",
        "rnd_search = RandomizedSearchCV(forest_reg, param_distributions=param_distribs,\n",
        "                                n_iter=10, cv=5, scoring='neg_mean_squared_error', random_state=42)\n",
        "rnd_search.fit(wine_num_tr, wine_labels)"
      ],
      "execution_count": 0,
      "outputs": [
        {
          "output_type": "execute_result",
          "data": {
            "text/plain": [
              "RandomizedSearchCV(cv=5, error_score=nan,\n",
              "                   estimator=RandomForestRegressor(bootstrap=True,\n",
              "                                                   ccp_alpha=0.0,\n",
              "                                                   criterion='mse',\n",
              "                                                   max_depth=None,\n",
              "                                                   max_features='auto',\n",
              "                                                   max_leaf_nodes=None,\n",
              "                                                   max_samples=None,\n",
              "                                                   min_impurity_decrease=0.0,\n",
              "                                                   min_impurity_split=None,\n",
              "                                                   min_samples_leaf=1,\n",
              "                                                   min_samples_split=2,\n",
              "                                                   min_weight_fraction_leaf=0.0,\n",
              "                                                   n_estimators=100,\n",
              "                                                   n_jobs=None, oob_score=Fals...\n",
              "                                                   warm_start=False),\n",
              "                   iid='deprecated', n_iter=10, n_jobs=None,\n",
              "                   param_distributions={'max_features': <scipy.stats._distn_infrastructure.rv_frozen object at 0x7fad67c0de10>,\n",
              "                                        'n_estimators': <scipy.stats._distn_infrastructure.rv_frozen object at 0x7fad67c0df60>},\n",
              "                   pre_dispatch='2*n_jobs', random_state=42, refit=True,\n",
              "                   return_train_score=False, scoring='neg_mean_squared_error',\n",
              "                   verbose=0)"
            ]
          },
          "metadata": {
            "tags": []
          },
          "execution_count": 101
        }
      ]
    },
    {
      "cell_type": "code",
      "metadata": {
        "id": "6TydHILX1wf8",
        "colab_type": "code",
        "outputId": "a2bba3b8-d25d-44a1-d2f8-3ce2244d096f",
        "colab": {
          "base_uri": "https://localhost:8080/",
          "height": 190
        }
      },
      "source": [
        "cvres = rnd_search.cv_results_\n",
        "for mean_score, params in zip(cvres[\"mean_test_score\"], cvres[\"params\"]):\n",
        "    print(np.sqrt(-mean_score), params)"
      ],
      "execution_count": 0,
      "outputs": [
        {
          "output_type": "stream",
          "text": [
            "0.16932299792331046 {'max_features': 7, 'n_estimators': 180}\n",
            "0.1783031372621525 {'max_features': 5, 'n_estimators': 15}\n",
            "0.17822055475608345 {'max_features': 3, 'n_estimators': 72}\n",
            "0.17885933472336538 {'max_features': 5, 'n_estimators': 21}\n",
            "0.16496080016069542 {'max_features': 7, 'n_estimators': 122}\n",
            "0.17597681093192083 {'max_features': 3, 'n_estimators': 75}\n",
            "0.17637555447701495 {'max_features': 3, 'n_estimators': 88}\n",
            "0.16372006927601712 {'max_features': 5, 'n_estimators': 100}\n",
            "0.1787022793711252 {'max_features': 3, 'n_estimators': 150}\n",
            "0.27216971668391576 {'max_features': 5, 'n_estimators': 2}\n"
          ],
          "name": "stdout"
        }
      ]
    },
    {
      "cell_type": "code",
      "metadata": {
        "id": "hbUvgJhf11-v",
        "colab_type": "code",
        "outputId": "f6c1f46f-a7f1-4c61-dc50-3771f63466a9",
        "colab": {
          "base_uri": "https://localhost:8080/",
          "height": 69
        }
      },
      "source": [
        "feature_importances = grid_search.best_estimator_.feature_importances_\n",
        "feature_importances"
      ],
      "execution_count": 0,
      "outputs": [
        {
          "output_type": "execute_result",
          "data": {
            "text/plain": [
              "array([0.03473736, 0.01110304, 0.00380886, 0.00775948, 0.0082167 ,\n",
              "       0.00065522, 0.42850166, 0.        , 0.00228693, 0.08038548,\n",
              "       0.03616637, 0.14022164, 0.24615727])"
            ]
          },
          "metadata": {
            "tags": []
          },
          "execution_count": 103
        }
      ]
    },
    {
      "cell_type": "code",
      "metadata": {
        "id": "qAWiR_xF14yd",
        "colab_type": "code",
        "colab": {}
      },
      "source": [
        "final_model = grid_search.best_estimator_\n",
        "\n",
        "X_test = strat_test_set.drop(\"class\", axis=1)\n",
        "y_test = strat_test_set[\"class\"].copy()\n",
        "\n",
        "X_test_prepared = num_pipeline.transform(X_test)\n",
        "final_predictions = final_model.predict(X_test_prepared)\n",
        "\n",
        "final_mse = mean_squared_error(y_test, final_predictions)\n",
        "final_rmse = np.sqrt(final_mse)"
      ],
      "execution_count": 0,
      "outputs": []
    },
    {
      "cell_type": "code",
      "metadata": {
        "id": "KHBojegO2X6x",
        "colab_type": "code",
        "outputId": "02a489b7-b9c8-4b73-c0be-22dce9f7c6c1",
        "colab": {
          "base_uri": "https://localhost:8080/",
          "height": 35
        }
      },
      "source": [
        "final_rmse"
      ],
      "execution_count": 0,
      "outputs": [
        {
          "output_type": "execute_result",
          "data": {
            "text/plain": [
              "0.18509256943286315"
            ]
          },
          "metadata": {
            "tags": []
          },
          "execution_count": 105
        }
      ]
    },
    {
      "cell_type": "code",
      "metadata": {
        "id": "dXP-D-sN2X3T",
        "colab_type": "code",
        "outputId": "5a8c80c2-74bf-47ff-d0c2-2743eab65548",
        "colab": {
          "base_uri": "https://localhost:8080/",
          "height": 35
        }
      },
      "source": [
        "from scipy import stats\n",
        "\n",
        "confidence = 0.95\n",
        "squared_errors = (final_predictions - y_test) ** 2\n",
        "np.sqrt(stats.t.interval(confidence, len(squared_errors) - 1,\n",
        "                         loc=squared_errors.mean(),\n",
        "                         scale=stats.sem(squared_errors)))"
      ],
      "execution_count": 0,
      "outputs": [
        {
          "output_type": "execute_result",
          "data": {
            "text/plain": [
              "array([0.05233178, 0.25647593])"
            ]
          },
          "metadata": {
            "tags": []
          },
          "execution_count": 106
        }
      ]
    },
    {
      "cell_type": "code",
      "metadata": {
        "id": "F87mCqC-2g4h",
        "colab_type": "code",
        "outputId": "0697ea0a-99ab-4275-89a1-9de7c898fcd2",
        "colab": {
          "base_uri": "https://localhost:8080/",
          "height": 35
        }
      },
      "source": [
        "m = len(squared_errors)\n",
        "mean = squared_errors.mean()\n",
        "tscore = stats.t.ppf((1 + confidence) / 2, df=m - 1)\n",
        "tmargin = tscore * squared_errors.std(ddof=1) / np.sqrt(m)\n",
        "np.sqrt(mean - tmargin), np.sqrt(mean + tmargin)"
      ],
      "execution_count": 0,
      "outputs": [
        {
          "output_type": "execute_result",
          "data": {
            "text/plain": [
              "(0.05233177710865188, 0.2564759318594415)"
            ]
          },
          "metadata": {
            "tags": []
          },
          "execution_count": 107
        }
      ]
    },
    {
      "cell_type": "code",
      "metadata": {
        "id": "9jCBzu1u2jk5",
        "colab_type": "code",
        "outputId": "1b411a8b-a2ac-44ee-ad17-9b0130b1b2eb",
        "colab": {
          "base_uri": "https://localhost:8080/",
          "height": 35
        }
      },
      "source": [
        "zscore = stats.norm.ppf((1 + confidence) / 2)\n",
        "zmargin = zscore * squared_errors.std(ddof=1) / np.sqrt(m)\n",
        "np.sqrt(mean - zmargin), np.sqrt(mean + zmargin)"
      ],
      "execution_count": 0,
      "outputs": [
        {
          "output_type": "execute_result",
          "data": {
            "text/plain": [
              "(0.06186849631367738, 0.2543438768329267)"
            ]
          },
          "metadata": {
            "tags": []
          },
          "execution_count": 108
        }
      ]
    }
  ]
}
