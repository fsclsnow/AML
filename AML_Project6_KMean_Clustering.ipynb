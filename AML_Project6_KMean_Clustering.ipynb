{
  "nbformat": 4,
  "nbformat_minor": 0,
  "metadata": {
    "colab": {
      "name": "AML_Project6_KMean_Clustering.ipynb",
      "provenance": [],
      "collapsed_sections": [],
      "authorship_tag": "ABX9TyNNhjrmZ5bce1tAEq4kNtyQ",
      "include_colab_link": true
    },
    "kernelspec": {
      "name": "python3",
      "display_name": "Python 3"
    }
  },
  "cells": [
    {
      "cell_type": "markdown",
      "metadata": {
        "id": "view-in-github",
        "colab_type": "text"
      },
      "source": [
        "<a href=\"https://colab.research.google.com/github/fsclsnow/AML/blob/master/AML_Project6_KMean_Clustering.ipynb\" target=\"_parent\"><img src=\"https://colab.research.google.com/assets/colab-badge.svg\" alt=\"Open In Colab\"/></a>"
      ]
    },
    {
      "cell_type": "markdown",
      "metadata": {
        "id": "rXN9EdeGG0xN",
        "colab_type": "text"
      },
      "source": [
        "# Project 6 - Team 2\n",
        "Joe, Getong, Abby\n",
        "\n",
        "In this project, the following items were performed.\n",
        "\n",
        "1) Select 4 datasets\n",
        "\n",
        "2) For each dataset, cluster the images using K-Means and plot the elbow graph to show the best K.\n",
        "\n",
        "3) Train a classifier to determine which object is represented in each image and evaluate it on the validation set.\n",
        "\n",
        "4) Use K-Means as a dimensionality reduction tool and train a classifier on the reduced set. Search for the number of clusters that provides the best performance.\n",
        "\n",
        "5) Train a Gaussian mixture model  on each dataset. To speed up the algorithm, use PCA dimensionality reduction (99% variataion).\n",
        "\n",
        "6) Graph results of your experiments for the different data sets and provide a qualitative assessment and detailed discussion of the achieved results.\n"
      ]
    },
    {
      "cell_type": "markdown",
      "metadata": {
        "id": "qqOt4qH4G6Xt",
        "colab_type": "text"
      },
      "source": [
        "# Setup"
      ]
    },
    {
      "cell_type": "code",
      "metadata": {
        "id": "ZsbA4QBfGsVV",
        "colab_type": "code",
        "colab": {}
      },
      "source": [
        "# Python ≥3.5 is required\n",
        "import sys\n",
        "assert sys.version_info >= (3, 5)\n",
        "\n",
        "# Scikit-Learn ≥0.20 is required\n",
        "import sklearn\n",
        "assert sklearn.__version__ >= \"0.20\"\n",
        "\n",
        "# Common imports\n",
        "import numpy as np\n",
        "import os\n",
        "import urllib\n",
        "from sklearn.cluster import KMeans\n",
        "from sklearn.mixture import GaussianMixture\n",
        "from sklearn.mixture import GaussianMixture\n",
        "import tensorflow as tf\n",
        "import IPython.display as display\n",
        "from PIL import Image\n",
        "\n",
        "# to make this notebook's output stable across runs\n",
        "np.random.seed(42)\n",
        "\n",
        "# To plot pretty figures\n",
        "%matplotlib inline\n",
        "import matplotlib as mpl\n",
        "import matplotlib.pyplot as plt\n",
        "mpl.rc('axes', labelsize=14)\n",
        "mpl.rc('xtick', labelsize=12)\n",
        "mpl.rc('ytick', labelsize=12)\n",
        "\n",
        "# Where to save the figures\n",
        "PROJECT_ROOT_DIR = \".\"\n",
        "CHAPTER_ID = \"unsupervised_learning\"\n",
        "IMAGES_PATH = os.path.join(PROJECT_ROOT_DIR, \"images\", CHAPTER_ID)\n",
        "os.makedirs(IMAGES_PATH, exist_ok=True)\n",
        "\n",
        "def save_fig(fig_id, tight_layout=True, fig_extension=\"png\", resolution=300):\n",
        "    path = os.path.join(IMAGES_PATH, fig_id + \".\" + fig_extension)\n",
        "    print(\"Saving figure\", fig_id)\n",
        "    if tight_layout:\n",
        "        plt.tight_layout()\n",
        "    plt.savefig(path, format=fig_extension, dpi=resolution)\n",
        "\n",
        "# Ignore useless warnings (see SciPy issue #5998)\n",
        "import warnings\n",
        "warnings.filterwarnings(action=\"ignore\", message=\"^internal gelsd\")"
      ],
      "execution_count": 0,
      "outputs": []
    },
    {
      "cell_type": "code",
      "metadata": {
        "id": "B26le1jzJZIp",
        "colab_type": "code",
        "colab": {}
      },
      "source": [
        "import tensorflow_datasets as tfds"
      ],
      "execution_count": 0,
      "outputs": []
    },
    {
      "cell_type": "code",
      "metadata": {
        "id": "-pDLJ2SHta08",
        "colab_type": "code",
        "outputId": "53fa7a9d-33fa-4428-d6e3-86940acbc523",
        "colab": {
          "base_uri": "https://localhost:8080/",
          "height": 52
        }
      },
      "source": [
        "from sklearn.model_selection import StratifiedShuffleSplit\n",
        "\n",
        "(X_train, y_train), (X_test, y_test) = tf.keras.datasets.mnist.load_data()"
      ],
      "execution_count": 3,
      "outputs": [
        {
          "output_type": "stream",
          "text": [
            "Downloading data from https://storage.googleapis.com/tensorflow/tf-keras-datasets/mnist.npz\n",
            "11493376/11490434 [==============================] - 0s 0us/step\n"
          ],
          "name": "stdout"
        }
      ]
    },
    {
      "cell_type": "code",
      "metadata": {
        "id": "Z_mBjfgpkWpd",
        "colab_type": "code",
        "colab": {}
      },
      "source": [
        "X_train = X_train.astype('float32') / 255.0\n",
        "X_test = X_test.astype('float32') / 255.0"
      ],
      "execution_count": 0,
      "outputs": []
    },
    {
      "cell_type": "code",
      "metadata": {
        "id": "o0x_uP5Ytpzh",
        "colab_type": "code",
        "outputId": "9095d72f-e48f-4a44-8373-72ab9f33896a",
        "colab": {
          "base_uri": "https://localhost:8080/",
          "height": 35
        }
      },
      "source": [
        "X_train.shape"
      ],
      "execution_count": 5,
      "outputs": [
        {
          "output_type": "execute_result",
          "data": {
            "text/plain": [
              "(60000, 28, 28)"
            ]
          },
          "metadata": {
            "tags": []
          },
          "execution_count": 5
        }
      ]
    },
    {
      "cell_type": "code",
      "metadata": {
        "id": "iEJ6GubvuNSK",
        "colab_type": "code",
        "colab": {}
      },
      "source": [
        "X_train_2d = X_train.reshape(60000,-1)\n",
        "X_train_2d.shape\n",
        "X_test_2d = X_test.reshape(10000,-1)"
      ],
      "execution_count": 0,
      "outputs": []
    },
    {
      "cell_type": "code",
      "metadata": {
        "id": "lPhjKnSOtx0b",
        "colab_type": "code",
        "colab": {}
      },
      "source": [
        "kmeans_per_k = [KMeans(n_clusters=k, random_state=42).fit(X_train_2d)\n",
        "                for k in range(1, 10)]\n",
        "inertias = [model.inertia_ for model in kmeans_per_k]"
      ],
      "execution_count": 0,
      "outputs": []
    },
    {
      "cell_type": "code",
      "metadata": {
        "id": "xsCPCNYs08Jl",
        "colab_type": "code",
        "outputId": "84d9634c-e18b-4a45-d190-c2f888094078",
        "colab": {
          "base_uri": "https://localhost:8080/",
          "height": 177
        }
      },
      "source": [
        "inertias "
      ],
      "execution_count": 30,
      "outputs": [
        {
          "output_type": "execute_result",
          "data": {
            "text/plain": [
              "[3163502.2,\n",
              " 2960780.8400971578,\n",
              " 2816456.49579086,\n",
              " 2707243.5099163563,\n",
              " 2605960.4654046213,\n",
              " 2533295.9175548307,\n",
              " 2479887.9212119407,\n",
              " 2432393.929051661,\n",
              " 2388861.719857866]"
            ]
          },
          "metadata": {
            "tags": []
          },
          "execution_count": 30
        }
      ]
    },
    {
      "cell_type": "code",
      "metadata": {
        "id": "uTb8Bxdouvxm",
        "colab_type": "code",
        "outputId": "5747da95-2aa0-4a76-b3b2-61a11f8f7e06",
        "colab": {
          "base_uri": "https://localhost:8080/",
          "height": 279
        }
      },
      "source": [
        "plt.figure(figsize=(8, 3.5))\n",
        "plt.plot(range(1, 10), inertias, \"bo-\")\n",
        "plt.xlabel(\"$k$\", fontsize=14)\n",
        "plt.ylabel(\"Inertia\", fontsize=14)\n",
        "plt.annotate('Elbow',\n",
        "             xy=(2.2, inertias[1]),\n",
        "             xytext=(0.3, 0.85),\n",
        "             textcoords='figure fraction',\n",
        "             fontsize=16,\n",
        "             arrowprops=dict(facecolor='black', shrink=0.1)\n",
        "            )\n",
        "plt.axis([1, 10, 2300000, 3200000])\n",
        "save_fig(\"inertia_vs_k_plot\")\n",
        "plt.show()"
      ],
      "execution_count": 27,
      "outputs": [
        {
          "output_type": "stream",
          "text": [
            "Saving figure inertia_vs_k_plot\n"
          ],
          "name": "stdout"
        },
        {
          "output_type": "display_data",
          "data": {
            "image/png": "[encoded data removed]",
            "text/plain": [
              "<Figure size 576x252 with 1 Axes>"
            ]
          },
          "metadata": {
            "tags": []
          }
        }
      ]
    },
    {
      "cell_type": "markdown",
      "metadata": {
        "id": "iMyEkAIIsXZ8",
        "colab_type": "text"
      },
      "source": [
        "Then let's take a look at the silhouette score, which is the mean silhouette coefficient over all the instances. "
      ]
    },
    {
      "cell_type": "code",
      "metadata": {
        "id": "b76cWY9G10aS",
        "colab_type": "code",
        "colab": {}
      },
      "source": [
        "from sklearn.metrics import silhouette_score\n",
        "silhouette_scores = [silhouette_score(X_train_2d, model.labels_)\n",
        "                     for model in kmeans_per_k[1:]]"
      ],
      "execution_count": 0,
      "outputs": []
    },
    {
      "cell_type": "code",
      "metadata": {
        "id": "V7WZWaKU8HGm",
        "colab_type": "code",
        "outputId": "e0c7e6da-d369-404b-a79e-29779312aee5",
        "colab": {
          "base_uri": "https://localhost:8080/",
          "height": 243
        }
      },
      "source": [
        "plt.figure(figsize=(8, 3))\n",
        "plt.plot(range(2, 10), silhouette_scores, \"bo-\")\n",
        "plt.xlabel(\"$k$\", fontsize=14)\n",
        "plt.ylabel(\"Silhouette score\", fontsize=14)\n",
        "plt.axis([1.8, 9.5, 0.04, 0.10])\n",
        "save_fig(\"silhouette_score_vs_k_plot\")\n",
        "plt.show()"
      ],
      "execution_count": 33,
      "outputs": [
        {
          "output_type": "stream",
          "text": [
            "Saving figure silhouette_score_vs_k_plot\n"
          ],
          "name": "stdout"
        },
        {
          "output_type": "display_data",
          "data": {
            "image/png": "[encoded data removed]",
            "text/plain": [
              "<Figure size 576x216 with 1 Axes>"
            ]
          },
          "metadata": {
            "tags": []
          }
        }
      ]
    },
    {
      "cell_type": "code",
      "metadata": {
        "id": "e4BY8VWE8AYW",
        "colab_type": "code",
        "outputId": "ca797003-94e7-43f6-8c8d-abf571a4714e",
        "colab": {
          "base_uri": "https://localhost:8080/",
          "height": 675
        }
      },
      "source": [
        "from sklearn.metrics import silhouette_samples\n",
        "from matplotlib.ticker import FixedLocator, FixedFormatter\n",
        "\n",
        "plt.figure(figsize=(11, 9))\n",
        "\n",
        "for k in (2, 3, 4, 5):\n",
        "    plt.subplot(2, 2, k - 1)\n",
        "    \n",
        "    y_pred = kmeans_per_k[k - 0].labels_\n",
        "    silhouette_coefficients = silhouette_samples(X_train_2d, y_pred)\n",
        "\n",
        "    padding = len(X_train_2d) // 30\n",
        "    pos = padding\n",
        "    ticks = []\n",
        "    for i in range(k):\n",
        "        coeffs = silhouette_coefficients[y_pred == i]\n",
        "        coeffs.sort()\n",
        "\n",
        "        color = mpl.cm.Spectral(i / k)\n",
        "        plt.fill_betweenx(np.arange(pos, pos + len(coeffs)), 0, coeffs,\n",
        "                          facecolor=color, edgecolor=color, alpha=0.7)\n",
        "        ticks.append(pos + len(coeffs) // 2)\n",
        "        pos += len(coeffs) + padding\n",
        "\n",
        "    plt.gca().yaxis.set_major_locator(FixedLocator(ticks))\n",
        "    plt.gca().yaxis.set_major_formatter(FixedFormatter(range(k)))\n",
        "    if k in (3, 4):\n",
        "        plt.ylabel(\"Cluster\")\n",
        "    \n",
        "    if k in (4, 5):\n",
        "        plt.gca().set_xticks([-0.1, 0, 0.2, 0.4, 0.6, 0.8, 1])\n",
        "        plt.xlabel(\"Silhouette Coefficient\")\n",
        "    else:\n",
        "        plt.tick_params(labelbottom=False)\n",
        "\n",
        "    plt.axvline(x=silhouette_scores[k - 1], color=\"red\", linestyle=\"--\")\n",
        "    plt.title(\"$k={}$\".format(k), fontsize=16)\n",
        "\n",
        "save_fig(\"silhouette_analysis_plot\")\n",
        "plt.show()"
      ],
      "execution_count": 0,
      "outputs": [
        {
          "output_type": "stream",
          "text": [
            "Saving figure silhouette_analysis_plot\n"
          ],
          "name": "stdout"
        },
        {
          "output_type": "display_data",
          "data": {
            "image/png": "[encoded data removed]",
            "text/plain": [
              "<Figure size 792x648 with 4 Axes>"
            ]
          },
          "metadata": {
            "tags": []
          }
        }
      ]
    },
    {
      "cell_type": "markdown",
      "metadata": {
        "id": "psX5Gjf31s9N",
        "colab_type": "text"
      },
      "source": [
        "# Train a classifier (LogisticRegression)"
      ]
    },
    {
      "cell_type": "code",
      "metadata": {
        "id": "NDQqVlhg98vp",
        "colab_type": "code",
        "colab": {
          "base_uri": "https://localhost:8080/",
          "height": 35
        },
        "outputId": "fb995636-884c-463d-cce0-48fb4d658f7e"
      },
      "source": [
        "from sklearn.linear_model import LogisticRegression\n",
        "log_reg = LogisticRegression(multi_class=\"ovr\", solver=\"lbfgs\", max_iter=10000, random_state=42)\n",
        "log_reg.fit(X_train_2d, y_train)\n",
        "log_reg.score(X_test_2d, y_test)"
      ],
      "execution_count": 34,
      "outputs": [
        {
          "output_type": "execute_result",
          "data": {
            "text/plain": [
              "0.9198"
            ]
          },
          "metadata": {
            "tags": []
          },
          "execution_count": 34
        }
      ]
    },
    {
      "cell_type": "markdown",
      "metadata": {
        "id": "jwGexXgixBS8",
        "colab_type": "text"
      },
      "source": [
        "The prediction accuracy is 91.98%. Let's see how is the performance after implementing the K-means algorithm."
      ]
    },
    {
      "cell_type": "code",
      "metadata": {
        "id": "mYXmU-iA_ckO",
        "colab_type": "code",
        "colab": {
          "base_uri": "https://localhost:8080/",
          "height": 35
        },
        "outputId": "4515c2ec-fc81-4fdd-b07b-2240d334f2a1"
      },
      "source": [
        "from sklearn.pipeline import Pipeline\n",
        "pipeline = Pipeline([\n",
        "    (\"kmeans\", KMeans(n_clusters=50, random_state=42)),\n",
        "    (\"log_reg\", LogisticRegression(multi_class=\"ovr\", solver=\"lbfgs\", max_iter=10000, random_state=42)),\n",
        "])\n",
        "pipeline.fit(X_train_2d, y_train)\n",
        "pipeline.score(X_test_2d, y_test)"
      ],
      "execution_count": 37,
      "outputs": [
        {
          "output_type": "execute_result",
          "data": {
            "text/plain": [
              "0.9125"
            ]
          },
          "metadata": {
            "tags": []
          },
          "execution_count": 37
        }
      ]
    },
    {
      "cell_type": "markdown",
      "metadata": {
        "id": "j5EVci6v4Iwz",
        "colab_type": "text"
      },
      "source": [
        "With cluster = 50, the accuracy doesn't show improvement, but get slice lower. Since this cluter number is arbitary. "
      ]
    },
    {
      "cell_type": "markdown",
      "metadata": {
        "id": "gHGImila4yqz",
        "colab_type": "text"
      },
      "source": [
        "Here we try to find the best k, when the accuracy score peaks."
      ]
    },
    {
      "cell_type": "markdown",
      "metadata": {
        "id": "4aJTzoDSBeQp",
        "colab_type": "text"
      },
      "source": [
        "It will take over 2 days to run k-mean through 2-100.\n",
        "\n",
        "---\n",
        "\n"
      ]
    },
    {
      "cell_type": "code",
      "metadata": {
        "id": "hHA8J6C048Al",
        "colab_type": "code",
        "colab": {
          "base_uri": "https://localhost:8080/",
          "height": 1000
        },
        "outputId": "9a144f3f-08c1-42f8-bfe8-7d7d230613ae"
      },
      "source": [
        "from sklearn.model_selection import GridSearchCV\n",
        "param_grid = dict(kmeans__n_clusters=range(10, 100, 10))\n",
        "grid_clf = GridSearchCV(pipeline, param_grid, cv=3, verbose=2)\n",
        "grid_clf.fit(X_train_2d, y_train)"
      ],
      "execution_count": 38,
      "outputs": [
        {
          "output_type": "stream",
          "text": [
            "Fitting 3 folds for each of 9 candidates, totalling 27 fits\n",
            "[CV] kmeans__n_clusters=10 ...........................................\n"
          ],
          "name": "stdout"
        },
        {
          "output_type": "stream",
          "text": [
            "[Parallel(n_jobs=1)]: Using backend SequentialBackend with 1 concurrent workers.\n"
          ],
          "name": "stderr"
        },
        {
          "output_type": "stream",
          "text": [
            "[CV] ............................ kmeans__n_clusters=10, total= 1.3min\n",
            "[CV] kmeans__n_clusters=10 ...........................................\n"
          ],
          "name": "stdout"
        },
        {
          "output_type": "stream",
          "text": [
            "[Parallel(n_jobs=1)]: Done   1 out of   1 | elapsed:  1.3min remaining:    0.0s\n"
          ],
          "name": "stderr"
        },
        {
          "output_type": "stream",
          "text": [
            "[CV] ............................ kmeans__n_clusters=10, total= 1.5min\n",
            "[CV] kmeans__n_clusters=10 ...........................................\n",
            "[CV] ............................ kmeans__n_clusters=10, total= 1.6min\n",
            "[CV] kmeans__n_clusters=20 ...........................................\n",
            "[CV] ............................ kmeans__n_clusters=20, total= 2.5min\n",
            "[CV] kmeans__n_clusters=20 ...........................................\n",
            "[CV] ............................ kmeans__n_clusters=20, total= 2.5min\n",
            "[CV] kmeans__n_clusters=20 ...........................................\n",
            "[CV] ............................ kmeans__n_clusters=20, total= 2.5min\n",
            "[CV] kmeans__n_clusters=30 ...........................................\n",
            "[CV] ............................ kmeans__n_clusters=30, total= 4.3min\n",
            "[CV] kmeans__n_clusters=30 ...........................................\n",
            "[CV] ............................ kmeans__n_clusters=30, total= 3.9min\n",
            "[CV] kmeans__n_clusters=30 ...........................................\n",
            "[CV] ............................ kmeans__n_clusters=30, total= 4.1min\n",
            "[CV] kmeans__n_clusters=40 ...........................................\n",
            "[CV] ............................ kmeans__n_clusters=40, total= 5.8min\n",
            "[CV] kmeans__n_clusters=40 ...........................................\n",
            "[CV] ............................ kmeans__n_clusters=40, total= 5.2min\n",
            "[CV] kmeans__n_clusters=40 ...........................................\n",
            "[CV] ............................ kmeans__n_clusters=40, total= 5.2min\n",
            "[CV] kmeans__n_clusters=50 ...........................................\n",
            "[CV] ............................ kmeans__n_clusters=50, total= 6.8min\n",
            "[CV] kmeans__n_clusters=50 ...........................................\n",
            "[CV] ............................ kmeans__n_clusters=50, total= 6.9min\n",
            "[CV] kmeans__n_clusters=50 ...........................................\n",
            "[CV] ............................ kmeans__n_clusters=50, total= 7.2min\n",
            "[CV] kmeans__n_clusters=60 ...........................................\n",
            "[CV] ............................ kmeans__n_clusters=60, total= 8.0min\n",
            "[CV] kmeans__n_clusters=60 ...........................................\n",
            "[CV] ............................ kmeans__n_clusters=60, total= 8.0min\n",
            "[CV] kmeans__n_clusters=60 ...........................................\n",
            "[CV] ............................ kmeans__n_clusters=60, total= 8.1min\n",
            "[CV] kmeans__n_clusters=70 ...........................................\n",
            "[CV] ............................ kmeans__n_clusters=70, total= 9.6min\n",
            "[CV] kmeans__n_clusters=70 ...........................................\n",
            "[CV] ............................ kmeans__n_clusters=70, total= 9.3min\n",
            "[CV] kmeans__n_clusters=70 ...........................................\n",
            "[CV] ............................ kmeans__n_clusters=70, total=10.4min\n",
            "[CV] kmeans__n_clusters=80 ...........................................\n",
            "[CV] ............................ kmeans__n_clusters=80, total=10.3min\n",
            "[CV] kmeans__n_clusters=80 ...........................................\n",
            "[CV] ............................ kmeans__n_clusters=80, total=10.9min\n",
            "[CV] kmeans__n_clusters=80 ...........................................\n",
            "[CV] ............................ kmeans__n_clusters=80, total=11.3min\n",
            "[CV] kmeans__n_clusters=90 ...........................................\n",
            "[CV] ............................ kmeans__n_clusters=90, total=12.4min\n",
            "[CV] kmeans__n_clusters=90 ...........................................\n",
            "[CV] ............................ kmeans__n_clusters=90, total=12.3min\n",
            "[CV] kmeans__n_clusters=90 ...........................................\n",
            "[CV] ............................ kmeans__n_clusters=90, total=11.6min\n"
          ],
          "name": "stdout"
        },
        {
          "output_type": "stream",
          "text": [
            "[Parallel(n_jobs=1)]: Done  27 out of  27 | elapsed: 183.4min finished\n"
          ],
          "name": "stderr"
        },
        {
          "output_type": "execute_result",
          "data": {
            "text/plain": [
              "GridSearchCV(cv=3, error_score=nan,\n",
              "             estimator=Pipeline(memory=None,\n",
              "                                steps=[('kmeans',\n",
              "                                        KMeans(algorithm='auto', copy_x=True,\n",
              "                                               init='k-means++', max_iter=300,\n",
              "                                               n_clusters=50, n_init=10,\n",
              "                                               n_jobs=None,\n",
              "                                               precompute_distances='auto',\n",
              "                                               random_state=42, tol=0.0001,\n",
              "                                               verbose=0)),\n",
              "                                       ('log_reg',\n",
              "                                        LogisticRegression(C=1.0,\n",
              "                                                           class_weight=None,\n",
              "                                                           dual=False,\n",
              "                                                           fit_intercept=True,\n",
              "                                                           intercept_scaling=1,\n",
              "                                                           l1_ratio=None,\n",
              "                                                           max_iter=10000,\n",
              "                                                           multi_class='ovr',\n",
              "                                                           n_jobs=None,\n",
              "                                                           penalty='l2',\n",
              "                                                           random_state=42,\n",
              "                                                           solver='lbfgs',\n",
              "                                                           tol=0.0001,\n",
              "                                                           verbose=0,\n",
              "                                                           warm_start=False))],\n",
              "                                verbose=False),\n",
              "             iid='deprecated', n_jobs=None,\n",
              "             param_grid={'kmeans__n_clusters': range(10, 100, 10)},\n",
              "             pre_dispatch='2*n_jobs', refit=True, return_train_score=False,\n",
              "             scoring=None, verbose=2)"
            ]
          },
          "metadata": {
            "tags": []
          },
          "execution_count": 38
        }
      ]
    },
    {
      "cell_type": "code",
      "metadata": {
        "id": "83dVJGBlB0BC",
        "colab_type": "code",
        "colab": {
          "base_uri": "https://localhost:8080/",
          "height": 35
        },
        "outputId": "91bad7c8-2f21-4b2c-c6ff-af7dcf163e32"
      },
      "source": [
        "grid_clf.best_params_"
      ],
      "execution_count": 39,
      "outputs": [
        {
          "output_type": "execute_result",
          "data": {
            "text/plain": [
              "{'kmeans__n_clusters': 90}"
            ]
          },
          "metadata": {
            "tags": []
          },
          "execution_count": 39
        }
      ]
    },
    {
      "cell_type": "code",
      "metadata": {
        "id": "LJ81WfN9B1-g",
        "colab_type": "code",
        "colab": {
          "base_uri": "https://localhost:8080/",
          "height": 35
        },
        "outputId": "dfdc2d63-833e-4a15-d42e-ed693df81cbe"
      },
      "source": [
        "grid_clf.score(X_test_2d, y_test)"
      ],
      "execution_count": 40,
      "outputs": [
        {
          "output_type": "execute_result",
          "data": {
            "text/plain": [
              "0.9337"
            ]
          },
          "metadata": {
            "tags": []
          },
          "execution_count": 40
        }
      ]
    },
    {
      "cell_type": "markdown",
      "metadata": {
        "id": "ceTFV6h_CJMR",
        "colab_type": "text"
      },
      "source": [
        "K,  from 10-90, the best value is 90, the accuracy increased from 91.98% to 93.37%"
      ]
    },
    {
      "cell_type": "markdown",
      "metadata": {
        "id": "K_8SZUjdCVbd",
        "colab_type": "text"
      },
      "source": [
        "# Using K-mean Clustering as Dismension Reduction for Classification"
      ]
    },
    {
      "cell_type": "markdown",
      "metadata": {
        "id": "TgX-BCuF6IF1",
        "colab_type": "text"
      },
      "source": [
        "Let's train a random forrest classifier."
      ]
    },
    {
      "cell_type": "code",
      "metadata": {
        "id": "vo59HStuHIGD",
        "colab_type": "code",
        "colab": {
          "base_uri": "https://localhost:8080/",
          "height": 35
        },
        "outputId": "9dabec1c-9751-4cb8-c154-ff715fd6424a"
      },
      "source": [
        "from sklearn.ensemble import RandomForestClassifier\n",
        "clf = RandomForestClassifier(n_estimators=150, random_state=42)\n",
        "clf.fit(X_train_2d, y_train)\n",
        "clf.score(X_test_2d, y_test)"
      ],
      "execution_count": 25,
      "outputs": [
        {
          "output_type": "execute_result",
          "data": {
            "text/plain": [
              "0.9706"
            ]
          },
          "metadata": {
            "tags": []
          },
          "execution_count": 25
        }
      ]
    },
    {
      "cell_type": "markdown",
      "metadata": {
        "id": "GVx7QSiEJKDM",
        "colab_type": "text"
      },
      "source": [
        "Next, we'll test using K-mean (k=50) as a dimension reduction tool."
      ]
    },
    {
      "cell_type": "code",
      "metadata": {
        "id": "0jH59Zl-KddT",
        "colab_type": "code",
        "colab": {}
      },
      "source": [
        "best_model = KMeans(n_clusters=50, random_state=42).fit(X_train_2d)\n",
        "X_train_reduced = best_model.transform(X_train_2d)\n",
        "X_test_reduced = best_model.transform(X_test_2d)"
      ],
      "execution_count": 0,
      "outputs": []
    },
    {
      "cell_type": "code",
      "metadata": {
        "id": "Jqe-pPFwKue1",
        "colab_type": "code",
        "colab": {
          "base_uri": "https://localhost:8080/",
          "height": 35
        },
        "outputId": "f59de559-8f60-4948-b084-56c9170462b1"
      },
      "source": [
        "clf = RandomForestClassifier(n_estimators=150, random_state=42)\n",
        "clf.fit(X_train_reduced, y_train)\n",
        "    \n",
        "clf.score(X_test_reduced, y_test)"
      ],
      "execution_count": 29,
      "outputs": [
        {
          "output_type": "execute_result",
          "data": {
            "text/plain": [
              "0.9338"
            ]
          },
          "metadata": {
            "tags": []
          },
          "execution_count": 29
        }
      ]
    },
    {
      "cell_type": "markdown",
      "metadata": {
        "id": "w2Yd2qFOPe_Z",
        "colab_type": "text"
      },
      "source": [
        "By lowing the accuracy rate 3.68%, it did work on the task of dimension reduction."
      ]
    },
    {
      "cell_type": "markdown",
      "metadata": {
        "id": "-b3N5BuuP97u",
        "colab_type": "text"
      },
      "source": [
        "# Gaussian Mixture Model Test"
      ]
    },
    {
      "cell_type": "markdown",
      "metadata": {
        "id": "7Eiks7QUVCUM",
        "colab_type": "text"
      },
      "source": [
        "First, let's perform PCA dimension reduction with 99% variance remained."
      ]
    },
    {
      "cell_type": "code",
      "metadata": {
        "id": "niy6OusqP8_S",
        "colab_type": "code",
        "colab": {
          "base_uri": "https://localhost:8080/",
          "height": 35
        },
        "outputId": "7e77eb42-f783-4cca-d388-807479d51c7d"
      },
      "source": [
        "from sklearn.decomposition import PCA\n",
        "\n",
        "pca = PCA(0.99)\n",
        "X_train_pca = pca.fit_transform(X_train_2d)\n",
        "X_test_pca = pca.transform(X_test_2d)\n",
        "\n",
        "pca.n_components_"
      ],
      "execution_count": 7,
      "outputs": [
        {
          "output_type": "execute_result",
          "data": {
            "text/plain": [
              "331"
            ]
          },
          "metadata": {
            "tags": []
          },
          "execution_count": 7
        }
      ]
    },
    {
      "cell_type": "markdown",
      "metadata": {
        "id": "c4StSXWEVBZI",
        "colab_type": "text"
      },
      "source": [
        "The number of dimensions of the dataset is reduced from 784 to 331."
      ]
    },
    {
      "cell_type": "markdown",
      "metadata": {
        "id": "UZ2On6zmVaG1",
        "colab_type": "text"
      },
      "source": [
        "Train Gaussian Mixture Model. (Takes about one and a half hour to train.)"
      ]
    },
    {
      "cell_type": "code",
      "metadata": {
        "id": "ye9zZg9BOtHI",
        "colab_type": "code",
        "colab": {}
      },
      "source": [
        "gm = GaussianMixture(n_components=40, random_state=42)\n",
        "y_pred = gm.fit_predict(X_train_pca)"
      ],
      "execution_count": 0,
      "outputs": []
    },
    {
      "cell_type": "code",
      "metadata": {
        "id": "sGHXdsGwmWX6",
        "colab_type": "code",
        "colab": {
          "base_uri": "https://localhost:8080/",
          "height": 248
        },
        "outputId": "eb33824c-7d5a-4ab5-ebcc-4115d0701d4d"
      },
      "source": [
        "gm.means_"
      ],
      "execution_count": 9,
      "outputs": [
        {
          "output_type": "execute_result",
          "data": {
            "text/plain": [
              "array([[ 1.87634845e+00, -7.69718390e-02,  2.41839735e+00, ...,\n",
              "        -2.94338046e-03, -6.78336145e-03, -8.83911348e-03],\n",
              "       [-2.89208809e+00, -2.28736194e+00,  1.13482962e+00, ...,\n",
              "        -4.82744222e-04,  1.58916724e-03,  3.16179482e-03],\n",
              "       [-1.90696418e+00,  1.50900813e+00, -1.27334866e+00, ...,\n",
              "        -1.64380581e-03, -1.70559691e-03,  1.47550515e-03],\n",
              "       ...,\n",
              "       [-1.92395851e+00,  1.63494619e+00,  6.68245902e-01, ...,\n",
              "        -2.37581290e-03,  1.74014721e-03, -8.97832910e-04],\n",
              "       [ 2.74616238e+00,  6.15993216e-01,  4.93479578e-01, ...,\n",
              "        -3.36726355e-04, -2.32843381e-03, -1.11163722e-03],\n",
              "       [ 3.93397453e+00, -1.32900935e+00, -1.87153898e+00, ...,\n",
              "        -3.14814380e-03, -2.79850464e-03, -3.41295939e-03]])"
            ]
          },
          "metadata": {
            "tags": []
          },
          "execution_count": 9
        }
      ]
    },
    {
      "cell_type": "code",
      "metadata": {
        "id": "Ap0cZE1zmI3-",
        "colab_type": "code",
        "colab": {
          "base_uri": "https://localhost:8080/",
          "height": 159
        },
        "outputId": "4c887f4c-7053-42d9-d853-d586ae0b216c"
      },
      "source": [
        "gm.weights_"
      ],
      "execution_count": 10,
      "outputs": [
        {
          "output_type": "execute_result",
          "data": {
            "text/plain": [
              "array([0.01388333, 0.02069999, 0.01069999, 0.01641667, 0.02043342,\n",
              "       0.02670006, 0.06913372, 0.01446666, 0.02506661, 0.05225013,\n",
              "       0.03706626, 0.02293271, 0.01833344, 0.03524814, 0.035234  ,\n",
              "       0.01646666, 0.04385041, 0.03488388, 0.02594994, 0.01639994,\n",
              "       0.02171661, 0.01628323, 0.0172499 , 0.01318333, 0.00914998,\n",
              "       0.01291666, 0.03381667, 0.01481647, 0.02209962, 0.02321673,\n",
              "       0.02519984, 0.0144665 , 0.04745156, 0.03116625, 0.01803352,\n",
              "       0.04008334, 0.01091666, 0.04413402, 0.01148323, 0.01649993])"
            ]
          },
          "metadata": {
            "tags": []
          },
          "execution_count": 10
        }
      ]
    },
    {
      "cell_type": "code",
      "metadata": {
        "id": "YSj2tpchmIrB",
        "colab_type": "code",
        "colab": {
          "base_uri": "https://localhost:8080/",
          "height": 1000
        },
        "outputId": "57a8a41f-ceb9-40f3-b43c-4bb9a15c562f"
      },
      "source": [
        "gm.covariances_"
      ],
      "execution_count": 11,
      "outputs": [
        {
          "output_type": "execute_result",
          "data": {
            "text/plain": [
              "array([[[ 1.41731223e+00, -6.08982888e-02,  8.56687228e-02, ...,\n",
              "          3.45770288e-03,  1.67937053e-02,  1.23966742e-02],\n",
              "        [-6.08982888e-02,  6.59497030e-01,  2.48660158e-01, ...,\n",
              "         -2.44091957e-04, -9.04900575e-03, -7.31086326e-03],\n",
              "        [ 8.56687228e-02,  2.48660158e-01,  1.07425552e+00, ...,\n",
              "         -1.69292931e-03, -3.72986260e-03, -5.46788144e-03],\n",
              "        ...,\n",
              "        [ 3.45770288e-03, -2.44091957e-04, -1.69292931e-03, ...,\n",
              "          6.75795615e-03, -1.54889434e-04,  1.29238779e-04],\n",
              "        [ 1.67937053e-02, -9.04900575e-03, -3.72986260e-03, ...,\n",
              "         -1.54889434e-04,  1.04953900e-02,  2.13685591e-03],\n",
              "        [ 1.23966742e-02, -7.31086326e-03, -5.46788144e-03, ...,\n",
              "          1.29238779e-04,  2.13685591e-03,  1.02598221e-02]],\n",
              "\n",
              "       [[ 1.90387726e-01,  4.27486002e-02,  1.10772627e-01, ...,\n",
              "          2.29319704e-03,  6.62310075e-04, -9.68273708e-04],\n",
              "        [ 4.27486002e-02,  4.00335593e-01, -9.25956821e-02, ...,\n",
              "         -7.68956536e-04,  2.05633376e-03, -1.09225825e-03],\n",
              "        [ 1.10772627e-01, -9.25956821e-02,  3.55101911e-01, ...,\n",
              "         -1.18888443e-03, -2.18545422e-04, -3.31039933e-05],\n",
              "        ...,\n",
              "        [ 2.29319704e-03, -7.68956536e-04, -1.18888443e-03, ...,\n",
              "          5.88618147e-03,  1.68263517e-03, -2.39182961e-04],\n",
              "        [ 6.62310075e-04,  2.05633376e-03, -2.18545422e-04, ...,\n",
              "          1.68263517e-03,  4.61134547e-03,  8.17261441e-04],\n",
              "        [-9.68273708e-04, -1.09225825e-03, -3.31039933e-05, ...,\n",
              "         -2.39182961e-04,  8.17261441e-04,  3.35717569e-03]],\n",
              "\n",
              "       [[ 5.43378532e-01,  4.12292539e-01, -1.29196287e-01, ...,\n",
              "         -1.72602415e-03, -1.27868239e-04,  1.62524594e-04],\n",
              "        [ 4.12292539e-01,  1.00951630e+00,  1.67737939e-01, ...,\n",
              "         -6.31853667e-03,  3.37723182e-03,  2.25573724e-03],\n",
              "        [-1.29196287e-01,  1.67737939e-01,  9.51249591e-01, ...,\n",
              "          2.83653213e-04,  2.36102411e-04,  2.21210698e-03],\n",
              "        ...,\n",
              "        [-1.72602415e-03, -6.31853667e-03,  2.83653213e-04, ...,\n",
              "          6.00475219e-03,  5.63489909e-05, -6.72511013e-05],\n",
              "        [-1.27868239e-04,  3.37723182e-03,  2.36102411e-04, ...,\n",
              "          5.63489909e-05,  4.80152115e-03,  1.60956886e-04],\n",
              "        [ 1.62524594e-04,  2.25573724e-03,  2.21210698e-03, ...,\n",
              "         -6.72511013e-05,  1.60956886e-04,  4.13575590e-03]],\n",
              "\n",
              "       ...,\n",
              "\n",
              "       [[ 6.62392573e-01,  6.39824520e-01,  3.04273927e-01, ...,\n",
              "          1.48666476e-03,  3.25737286e-04, -1.90057522e-03],\n",
              "        [ 6.39824520e-01,  1.19051258e+00,  1.10567951e-01, ...,\n",
              "         -2.67873963e-04, -9.51161906e-04, -1.21598322e-03],\n",
              "        [ 3.04273927e-01,  1.10567951e-01,  8.29755668e-01, ...,\n",
              "          5.06802302e-03,  1.81308400e-03, -9.83693700e-05],\n",
              "        ...,\n",
              "        [ 1.48666476e-03, -2.67873963e-04,  5.06802302e-03, ...,\n",
              "          4.08458556e-03, -4.32281387e-04,  2.25625993e-04],\n",
              "        [ 3.25737286e-04, -9.51161906e-04,  1.81308400e-03, ...,\n",
              "         -4.32281387e-04,  3.03271831e-03, -8.52524464e-04],\n",
              "        [-1.90057522e-03, -1.21598322e-03, -9.83693700e-05, ...,\n",
              "          2.25625993e-04, -8.52524464e-04,  3.39700409e-03]],\n",
              "\n",
              "       [[ 1.23953830e+00,  7.71277403e-02,  1.30441568e-01, ...,\n",
              "         -1.07823696e-02,  2.90369963e-03,  7.32812961e-03],\n",
              "        [ 7.71277403e-02,  9.19156969e-01,  3.76100605e-01, ...,\n",
              "         -1.13864680e-02, -2.11629007e-03, -5.49921959e-03],\n",
              "        [ 1.30441568e-01,  3.76100605e-01,  1.23602468e+00, ...,\n",
              "         -2.82741392e-03, -3.21083148e-03, -1.65031712e-03],\n",
              "        ...,\n",
              "        [-1.07823696e-02, -1.13864680e-02, -2.82741392e-03, ...,\n",
              "          6.77267971e-03, -4.53338782e-04, -1.17039955e-03],\n",
              "        [ 2.90369963e-03, -2.11629007e-03, -3.21083148e-03, ...,\n",
              "         -4.53338782e-04,  8.47488364e-03,  9.85434461e-04],\n",
              "        [ 7.32812961e-03, -5.49921959e-03, -1.65031712e-03, ...,\n",
              "         -1.17039955e-03,  9.85434461e-04,  9.37444271e-03]],\n",
              "\n",
              "       [[ 2.46028945e+00, -2.87716790e-01,  8.00667072e-02, ...,\n",
              "         -1.96695784e-03,  8.63043246e-03,  4.84167300e-03],\n",
              "        [-2.87716790e-01,  7.30276542e-01,  6.34894721e-02, ...,\n",
              "          3.11258043e-03, -1.42616413e-03,  7.70139082e-04],\n",
              "        [ 8.00667072e-02,  6.34894721e-02,  6.16644383e-01, ...,\n",
              "          3.51838468e-03, -4.25523631e-03,  4.09250944e-03],\n",
              "        ...,\n",
              "        [-1.96695784e-03,  3.11258043e-03,  3.51838468e-03, ...,\n",
              "          7.33957756e-03, -4.05076813e-05,  3.58280827e-04],\n",
              "        [ 8.63043246e-03, -1.42616413e-03, -4.25523631e-03, ...,\n",
              "         -4.05076813e-05,  8.19850034e-03, -7.36462154e-04],\n",
              "        [ 4.84167300e-03,  7.70139082e-04,  4.09250944e-03, ...,\n",
              "          3.58280827e-04, -7.36462154e-04,  7.34587513e-03]]])"
            ]
          },
          "metadata": {
            "tags": []
          },
          "execution_count": 11
        }
      ]
    },
    {
      "cell_type": "code",
      "metadata": {
        "id": "VQxR3tVU5N0o",
        "colab_type": "code",
        "colab": {
          "base_uri": "https://localhost:8080/",
          "height": 35
        },
        "outputId": "0335ae30-d038-4e46-ca83-74f09d20e609"
      },
      "source": [
        "gm.converged_"
      ],
      "execution_count": 12,
      "outputs": [
        {
          "output_type": "execute_result",
          "data": {
            "text/plain": [
              "True"
            ]
          },
          "metadata": {
            "tags": []
          },
          "execution_count": 12
        }
      ]
    },
    {
      "cell_type": "code",
      "metadata": {
        "id": "04KBa4YM8xDV",
        "colab_type": "code",
        "colab": {
          "base_uri": "https://localhost:8080/",
          "height": 35
        },
        "outputId": "43cf2773-b0f7-4001-832c-5d8347dd42f2"
      },
      "source": [
        "gm.n_iter_"
      ],
      "execution_count": 13,
      "outputs": [
        {
          "output_type": "execute_result",
          "data": {
            "text/plain": [
              "69"
            ]
          },
          "metadata": {
            "tags": []
          },
          "execution_count": 13
        }
      ]
    },
    {
      "cell_type": "markdown",
      "metadata": {
        "id": "GVfY2nNnSFQD",
        "colab_type": "text"
      },
      "source": [
        "Use the model to generate some new digits (inverse_transform() method is used because, PCA is performed)), and visualize them."
      ]
    },
    {
      "cell_type": "code",
      "metadata": {
        "id": "y_87y9nyOsju",
        "colab_type": "code",
        "colab": {}
      },
      "source": [
        "n_gen_d = 20\n",
        "gen_d_reduced, y_gen_d = gm.sample(n_samples=n_gen_d)\n",
        "gen_d = pca.inverse_transform(gen_d_reduced)"
      ],
      "execution_count": 0,
      "outputs": []
    },
    {
      "cell_type": "code",
      "metadata": {
        "id": "s6eyLsEjjHN6",
        "colab_type": "code",
        "colab": {}
      },
      "source": [
        "def plot_digits(digits, labels, n_cols=5):\n",
        "    n_rows = (len(digits) - 1) // n_cols + 1\n",
        "    plt.figure(figsize=(n_cols, n_rows * 1.1))\n",
        "    for index, (digit, label) in enumerate(zip(digits, labels)):\n",
        "        plt.subplot(n_rows, n_cols, index + 1)\n",
        "        plt.imshow(digit.reshape(28, 28), cmap=\"gray\")\n",
        "        plt.axis(\"off\")\n",
        "        plt.title(label)\n",
        "    plt.show()\n"
      ],
      "execution_count": 0,
      "outputs": []
    },
    {
      "cell_type": "code",
      "metadata": {
        "id": "uI4O-Ej-OsbI",
        "colab_type": "code",
        "colab": {
          "base_uri": "https://localhost:8080/",
          "height": 282
        },
        "outputId": "dd93f382-e331-4b19-b1ce-41110488c2aa"
      },
      "source": [
        "plot_digits(gen_d, y_gen_d)"
      ],
      "execution_count": 16,
      "outputs": [
        {
          "output_type": "display_data",
          "data": {
            "image/png": "[encoded data removed]",
            "text/plain": [
              "<Figure size 360x316.8 with 20 Axes>"
            ]
          },
          "metadata": {
            "tags": []
          }
        }
      ]
    },
    {
      "cell_type": "markdown",
      "metadata": {
        "id": "HIxdbP6Zjy0p",
        "colab_type": "text"
      },
      "source": [
        "Try to modify some images (e.g., rotate, flip, darken) and see if the model can detect the anomalies (i.e., compare the output of the score_samples() method for normal images and for anomalies)."
      ]
    },
    {
      "cell_type": "code",
      "metadata": {
        "id": "QdOpLJFmOsM6",
        "colab_type": "code",
        "colab": {
          "base_uri": "https://localhost:8080/",
          "height": 160
        },
        "outputId": "d7012124-625e-4b8b-948e-3a5b1b649dd9"
      },
      "source": [
        "n_rotated = 4\n",
        "rotated = np.transpose(X_train_2d[:n_rotated].reshape(-1, 28, 28), axes=[0, 2, 1])\n",
        "rotated = rotated.reshape(-1, 28*28)\n",
        "y_rotated = y_train[:n_rotated]\n",
        "\n",
        "n_flipped = 3\n",
        "flipped = X_train_2d[:n_flipped].reshape(-1, 28, 28)[:, ::-1]\n",
        "flipped = flipped.reshape(-1, 28*28)\n",
        "y_flipped = y_train[:n_flipped]\n",
        "\n",
        "n_darkened = 3\n",
        "darkened = X_train_2d[:n_darkened].copy()\n",
        "darkened[:, 1:-1] *= 0.3\n",
        "darkened = darkened.reshape(-1, 28*28)\n",
        "y_darkened = y_train[:n_darkened]\n",
        "\n",
        "X_bad_digits = np.r_[rotated, flipped, darkened]\n",
        "y_bad = np.concatenate([y_rotated, y_flipped, y_darkened])\n",
        "\n",
        "plot_digits(X_bad_digits, y_bad)"
      ],
      "execution_count": 17,
      "outputs": [
        {
          "output_type": "display_data",
          "data": {
            "image/png": "[encoded data removed]",
            "text/plain": [
              "<Figure size 360x158.4 with 10 Axes>"
            ]
          },
          "metadata": {
            "tags": []
          }
        }
      ]
    },
    {
      "cell_type": "code",
      "metadata": {
        "id": "34_JLEotkn2j",
        "colab_type": "code",
        "colab": {
          "base_uri": "https://localhost:8080/",
          "height": 70
        },
        "outputId": "dfacb9a5-91f4-4122-a5fd-d667c8568920"
      },
      "source": [
        "X_bad_digits_pca = pca.transform(X_bad_digits)\n",
        "gm.score_samples(X_bad_digits_pca)"
      ],
      "execution_count": 19,
      "outputs": [
        {
          "output_type": "execute_result",
          "data": {
            "text/plain": [
              "array([-538.06697567,  241.8832319 ,  333.58394651,  478.97935602,\n",
              "        272.73308332,    6.19373254, -507.77662145,  443.68580907,\n",
              "        516.18749928,  400.03365651])"
            ]
          },
          "metadata": {
            "tags": []
          },
          "execution_count": 19
        }
      ]
    },
    {
      "cell_type": "markdown",
      "metadata": {
        "id": "EnEQByYBOr2R",
        "colab_type": "text"
      },
      "source": [
        "Some of the bad digits are considered unlikely by the Gaussian Mixture model. Compare this to the scores of some training instances:"
      ]
    },
    {
      "cell_type": "code",
      "metadata": {
        "id": "ccjLm4Ggk37_",
        "colab_type": "code",
        "colab": {
          "base_uri": "https://localhost:8080/",
          "height": 70
        },
        "outputId": "2831fb64-7521-44b0-ebe6-198e4b4dadd5"
      },
      "source": [
        "gm.score_samples(X_train_pca[:10])"
      ],
      "execution_count": 43,
      "outputs": [
        {
          "output_type": "execute_result",
          "data": {
            "text/plain": [
              "array([ 300.85492469,  361.06825684,  313.68547705,  967.48625178,\n",
              "        642.14473668,  338.50697683, 1161.76947665,  362.50587114,\n",
              "       1199.30938264,  356.14961205])"
            ]
          },
          "metadata": {
            "tags": []
          },
          "execution_count": 43
        }
      ]
    },
    {
      "cell_type": "markdown",
      "metadata": {
        "id": "hkoN2ElzlvS6",
        "colab_type": "text"
      },
      "source": [
        ""
      ]
    },
    {
      "cell_type": "markdown",
      "metadata": {
        "id": "c9ELl8_XlvKy",
        "colab_type": "text"
      },
      "source": [
        ""
      ]
    },
    {
      "cell_type": "markdown",
      "metadata": {
        "id": "Q5U-uPmdlu-P",
        "colab_type": "text"
      },
      "source": [
        ""
      ]
    },
    {
      "cell_type": "markdown",
      "metadata": {
        "id": "g_LLOcIAKDTj",
        "colab_type": "text"
      },
      "source": [
        ""
      ]
    },
    {
      "cell_type": "code",
      "metadata": {
        "id": "dIYcDcelOkxk",
        "colab_type": "code",
        "colab": {}
      },
      "source": [
        ""
      ],
      "execution_count": 0,
      "outputs": []
    }
  ]
}